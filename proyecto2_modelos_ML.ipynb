{
  "nbformat": 4,
  "nbformat_minor": 0,
  "metadata": {
    "colab": {
      "provenance": [],
      "toc_visible": true,
      "mount_file_id": "14zR5GX2-hcdMMF-KVaaugT-6ZlqR3zVW",
      "authorship_tag": "ABX9TyPMr6qhZJPne0bKkDWsf65d",
      "include_colab_link": true
    },
    "kernelspec": {
      "name": "python3",
      "display_name": "Python 3"
    },
    "language_info": {
      "name": "python"
    }
  },
  "cells": [
    {
      "cell_type": "markdown",
      "metadata": {
        "id": "view-in-github",
        "colab_type": "text"
      },
      "source": [
        "<a href=\"https://colab.research.google.com/github/carlosegn/phishing-detection/blob/main/proyecto2_modelos_ML.ipynb\" target=\"_parent\"><img src=\"https://colab.research.google.com/assets/colab-badge.svg\" alt=\"Open In Colab\"/></a>"
      ]
    },
    {
      "cell_type": "markdown",
      "source": [
        "# **CODING DOJO: Proyecto 2 - Modelos de Machine Learning**\n",
        "## Creado por: Carlos Guerrero\n",
        "\n",
        "* Fecha creado: 19/04/2023\n",
        "* Fecha actualización: 22/04/2023\n",
        "* Descripción: Elección del mejor modelo de Machine Learning."
      ],
      "metadata": {
        "id": "R0874c9hgHsT"
      }
    },
    {
      "cell_type": "code",
      "execution_count": 1,
      "metadata": {
        "id": "Ugac2r7Df9FK"
      },
      "outputs": [],
      "source": [
        "import pandas as pd\n",
        "import numpy as np\n",
        "import matplotlib.pyplot as plt\n",
        "import seaborn as sns\n",
        "from sklearn.compose import make_column_selector\n",
        "from sklearn.model_selection import train_test_split, GridSearchCV\n",
        "from sklearn.preprocessing import StandardScaler\n",
        "from sklearn.pipeline import make_pipeline\n",
        "from sklearn.linear_model import LogisticRegression\n",
        "from sklearn.ensemble import RandomForestClassifier\n",
        "from sklearn.metrics import classification_report, confusion_matrix, ConfusionMatrixDisplay\n",
        "from xgboost import XGBClassifier\n",
        "pd.set_option('display.max_columns', None)"
      ]
    },
    {
      "cell_type": "markdown",
      "source": [
        "## Cargar datos"
      ],
      "metadata": {
        "id": "YznoxqVuUCqP"
      }
    },
    {
      "cell_type": "code",
      "source": [
        "df = pd.read_csv('/content/drive/MyDrive/CodingDojo/Proyectos/dataset_phishing.csv')\n",
        "df.head()"
      ],
      "metadata": {
        "colab": {
          "base_uri": "https://localhost:8080/",
          "height": 305
        },
        "id": "3EIYWvy7mwSB",
        "outputId": "d8b714df-014c-4b8b-9799-f1d963720983"
      },
      "execution_count": 2,
      "outputs": [
        {
          "output_type": "execute_result",
          "data": {
            "text/plain": [
              "                                                 url  length_url  \\\n",
              "0              http://www.crestonwood.com/router.php          37   \n",
              "1  http://shadetreetechnology.com/V4/validation/a...          77   \n",
              "2  https://support-appleld.com.secureupdate.duila...         126   \n",
              "3                                 http://rgipt.ac.in          18   \n",
              "4  http://www.iracing.com/tracks/gateway-motorspo...          55   \n",
              "\n",
              "   length_hostname  ip  nb_dots  nb_hyphens  nb_at  nb_qm  nb_and  nb_or  \\\n",
              "0               19   0        3           0      0      0       0      0   \n",
              "1               23   1        1           0      0      0       0      0   \n",
              "2               50   1        4           1      0      1       2      0   \n",
              "3               11   0        2           0      0      0       0      0   \n",
              "4               15   0        2           2      0      0       0      0   \n",
              "\n",
              "   nb_eq  nb_underscore  nb_tilde  nb_percent  nb_slash  nb_star  nb_colon  \\\n",
              "0      0              0         0           0         3        0         1   \n",
              "1      0              0         0           0         5        0         1   \n",
              "2      3              2         0           0         5        0         1   \n",
              "3      0              0         0           0         2        0         1   \n",
              "4      0              0         0           0         5        0         1   \n",
              "\n",
              "   nb_comma  nb_semicolumn  nb_dollar  nb_space  nb_www  nb_com  nb_dslash  \\\n",
              "0         0              0          0         0       1       0          0   \n",
              "1         0              0          0         0       0       0          0   \n",
              "2         0              0          0         0       0       1          0   \n",
              "3         0              0          0         0       0       0          0   \n",
              "4         0              0          0         0       1       0          0   \n",
              "\n",
              "   http_in_path  https_token  ratio_digits_url  ratio_digits_host  punycode  \\\n",
              "0             0            1          0.000000                0.0         0   \n",
              "1             0            1          0.220779                0.0         0   \n",
              "2             0            0          0.150794                0.0         0   \n",
              "3             0            1          0.000000                0.0         0   \n",
              "4             0            1          0.000000                0.0         0   \n",
              "\n",
              "   port  tld_in_path  tld_in_subdomain  abnormal_subdomain  nb_subdomains  \\\n",
              "0     0            0                 0                   0              3   \n",
              "1     0            0                 0                   0              1   \n",
              "2     0            0                 1                   0              3   \n",
              "3     0            0                 0                   0              2   \n",
              "4     0            0                 0                   0              2   \n",
              "\n",
              "   prefix_suffix  random_domain  shortening_service  path_extension  \\\n",
              "0              0              0                   0               0   \n",
              "1              0              0                   0               0   \n",
              "2              1              0                   0               0   \n",
              "3              0              0                   0               0   \n",
              "4              0              0                   0               0   \n",
              "\n",
              "   nb_redirection  nb_external_redirection  length_words_raw  char_repeat  \\\n",
              "0               0                        0                 4            4   \n",
              "1               1                        0                 4            4   \n",
              "2               1                        0                12            2   \n",
              "3               1                        0                 1            0   \n",
              "4               1                        0                 6            3   \n",
              "\n",
              "   shortest_words_raw  shortest_word_host  shortest_word_path  \\\n",
              "0                   3                   3                   3   \n",
              "1                   2                  19                   2   \n",
              "2                   2                   3                   2   \n",
              "3                   5                   5                   0   \n",
              "4                   3                   3                   4   \n",
              "\n",
              "   longest_words_raw  longest_word_host  longest_word_path  avg_words_raw  \\\n",
              "0                 11                 11                  6       5.750000   \n",
              "1                 32                 19                 32      15.750000   \n",
              "2                 17                 13                 17       8.250000   \n",
              "3                  5                  5                  0       5.000000   \n",
              "4                 11                  7                 11       6.333333   \n",
              "\n",
              "   avg_word_host  avg_word_path  phish_hints  domain_in_brand  \\\n",
              "0            7.0       4.500000            0                0   \n",
              "1           19.0      14.666667            0                0   \n",
              "2            8.4       8.142857            0                0   \n",
              "3            5.0       0.000000            0                0   \n",
              "4            5.0       7.000000            0                0   \n",
              "\n",
              "   brand_in_subdomain  brand_in_path  suspecious_tld  statistical_report  \\\n",
              "0                   0              0               0                   0   \n",
              "1                   0              0               0                   0   \n",
              "2                   0              0               0                   0   \n",
              "3                   0              0               0                   0   \n",
              "4                   0              0               0                   0   \n",
              "\n",
              "   nb_hyperlinks  ratio_intHyperlinks  ratio_extHyperlinks  \\\n",
              "0             17             0.529412             0.470588   \n",
              "1             30             0.966667             0.033333   \n",
              "2              4             1.000000             0.000000   \n",
              "3            149             0.973154             0.026846   \n",
              "4            102             0.470588             0.529412   \n",
              "\n",
              "   ratio_nullHyperlinks  nb_extCSS  ratio_intRedirection  \\\n",
              "0                     0          0                     0   \n",
              "1                     0          0                     0   \n",
              "2                     0          0                     0   \n",
              "3                     0          0                     0   \n",
              "4                     0          0                     0   \n",
              "\n",
              "   ratio_extRedirection  ratio_intErrors  ratio_extErrors  login_form  \\\n",
              "0              0.875000                0         0.500000           0   \n",
              "1              0.000000                0         0.000000           0   \n",
              "2              0.000000                0         0.000000           0   \n",
              "3              0.250000                0         0.250000           0   \n",
              "4              0.537037                0         0.018519           1   \n",
              "\n",
              "   external_favicon  links_in_tags  submit_email  ratio_intMedia  \\\n",
              "0                 0      80.000000             0      100.000000   \n",
              "1                 0     100.000000             0       80.000000   \n",
              "2                 0     100.000000             0        0.000000   \n",
              "3                 0     100.000000             0       96.428571   \n",
              "4                 0      76.470588             0        0.000000   \n",
              "\n",
              "   ratio_extMedia  sfh  iframe  popup_window  safe_anchor  onmouseover  \\\n",
              "0        0.000000    0       0             0          0.0            0   \n",
              "1       20.000000    0       0             0        100.0            0   \n",
              "2        0.000000    0       0             0        100.0            0   \n",
              "3        3.571429    0       0             0         62.5            0   \n",
              "4      100.000000    0       0             0          0.0            0   \n",
              "\n",
              "   right_clic  empty_title  domain_in_title  domain_with_copyright  \\\n",
              "0           0            0                0                      1   \n",
              "1           0            0                1                      0   \n",
              "2           0            0                1                      0   \n",
              "3           0            0                1                      0   \n",
              "4           0            0                0                      1   \n",
              "\n",
              "   whois_registered_domain  domain_registration_length  domain_age  \\\n",
              "0                        0                          45          -1   \n",
              "1                        0                          77        5767   \n",
              "2                        0                          14        4004   \n",
              "3                        0                          62          -1   \n",
              "4                        0                         224        8175   \n",
              "\n",
              "   web_traffic  dns_record  google_index  page_rank      status  \n",
              "0            0           1             1          4  legitimate  \n",
              "1            0           0             1          2    phishing  \n",
              "2      5828815           0             1          0    phishing  \n",
              "3       107721           0             0          3  legitimate  \n",
              "4         8725           0             0          6  legitimate  "
            ],
            "text/html": [
              "\n",
              "  <div id=\"df-3109b3fa-e8d7-454a-b6ea-0b390ec925fd\">\n",
              "    <div class=\"colab-df-container\">\n",
              "      <div>\n",
              "<style scoped>\n",
              "    .dataframe tbody tr th:only-of-type {\n",
              "        vertical-align: middle;\n",
              "    }\n",
              "\n",
              "    .dataframe tbody tr th {\n",
              "        vertical-align: top;\n",
              "    }\n",
              "\n",
              "    .dataframe thead th {\n",
              "        text-align: right;\n",
              "    }\n",
              "</style>\n",
              "<table border=\"1\" class=\"dataframe\">\n",
              "  <thead>\n",
              "    <tr style=\"text-align: right;\">\n",
              "      <th></th>\n",
              "      <th>url</th>\n",
              "      <th>length_url</th>\n",
              "      <th>length_hostname</th>\n",
              "      <th>ip</th>\n",
              "      <th>nb_dots</th>\n",
              "      <th>nb_hyphens</th>\n",
              "      <th>nb_at</th>\n",
              "      <th>nb_qm</th>\n",
              "      <th>nb_and</th>\n",
              "      <th>nb_or</th>\n",
              "      <th>nb_eq</th>\n",
              "      <th>nb_underscore</th>\n",
              "      <th>nb_tilde</th>\n",
              "      <th>nb_percent</th>\n",
              "      <th>nb_slash</th>\n",
              "      <th>nb_star</th>\n",
              "      <th>nb_colon</th>\n",
              "      <th>nb_comma</th>\n",
              "      <th>nb_semicolumn</th>\n",
              "      <th>nb_dollar</th>\n",
              "      <th>nb_space</th>\n",
              "      <th>nb_www</th>\n",
              "      <th>nb_com</th>\n",
              "      <th>nb_dslash</th>\n",
              "      <th>http_in_path</th>\n",
              "      <th>https_token</th>\n",
              "      <th>ratio_digits_url</th>\n",
              "      <th>ratio_digits_host</th>\n",
              "      <th>punycode</th>\n",
              "      <th>port</th>\n",
              "      <th>tld_in_path</th>\n",
              "      <th>tld_in_subdomain</th>\n",
              "      <th>abnormal_subdomain</th>\n",
              "      <th>nb_subdomains</th>\n",
              "      <th>prefix_suffix</th>\n",
              "      <th>random_domain</th>\n",
              "      <th>shortening_service</th>\n",
              "      <th>path_extension</th>\n",
              "      <th>nb_redirection</th>\n",
              "      <th>nb_external_redirection</th>\n",
              "      <th>length_words_raw</th>\n",
              "      <th>char_repeat</th>\n",
              "      <th>shortest_words_raw</th>\n",
              "      <th>shortest_word_host</th>\n",
              "      <th>shortest_word_path</th>\n",
              "      <th>longest_words_raw</th>\n",
              "      <th>longest_word_host</th>\n",
              "      <th>longest_word_path</th>\n",
              "      <th>avg_words_raw</th>\n",
              "      <th>avg_word_host</th>\n",
              "      <th>avg_word_path</th>\n",
              "      <th>phish_hints</th>\n",
              "      <th>domain_in_brand</th>\n",
              "      <th>brand_in_subdomain</th>\n",
              "      <th>brand_in_path</th>\n",
              "      <th>suspecious_tld</th>\n",
              "      <th>statistical_report</th>\n",
              "      <th>nb_hyperlinks</th>\n",
              "      <th>ratio_intHyperlinks</th>\n",
              "      <th>ratio_extHyperlinks</th>\n",
              "      <th>ratio_nullHyperlinks</th>\n",
              "      <th>nb_extCSS</th>\n",
              "      <th>ratio_intRedirection</th>\n",
              "      <th>ratio_extRedirection</th>\n",
              "      <th>ratio_intErrors</th>\n",
              "      <th>ratio_extErrors</th>\n",
              "      <th>login_form</th>\n",
              "      <th>external_favicon</th>\n",
              "      <th>links_in_tags</th>\n",
              "      <th>submit_email</th>\n",
              "      <th>ratio_intMedia</th>\n",
              "      <th>ratio_extMedia</th>\n",
              "      <th>sfh</th>\n",
              "      <th>iframe</th>\n",
              "      <th>popup_window</th>\n",
              "      <th>safe_anchor</th>\n",
              "      <th>onmouseover</th>\n",
              "      <th>right_clic</th>\n",
              "      <th>empty_title</th>\n",
              "      <th>domain_in_title</th>\n",
              "      <th>domain_with_copyright</th>\n",
              "      <th>whois_registered_domain</th>\n",
              "      <th>domain_registration_length</th>\n",
              "      <th>domain_age</th>\n",
              "      <th>web_traffic</th>\n",
              "      <th>dns_record</th>\n",
              "      <th>google_index</th>\n",
              "      <th>page_rank</th>\n",
              "      <th>status</th>\n",
              "    </tr>\n",
              "  </thead>\n",
              "  <tbody>\n",
              "    <tr>\n",
              "      <th>0</th>\n",
              "      <td>http://www.crestonwood.com/router.php</td>\n",
              "      <td>37</td>\n",
              "      <td>19</td>\n",
              "      <td>0</td>\n",
              "      <td>3</td>\n",
              "      <td>0</td>\n",
              "      <td>0</td>\n",
              "      <td>0</td>\n",
              "      <td>0</td>\n",
              "      <td>0</td>\n",
              "      <td>0</td>\n",
              "      <td>0</td>\n",
              "      <td>0</td>\n",
              "      <td>0</td>\n",
              "      <td>3</td>\n",
              "      <td>0</td>\n",
              "      <td>1</td>\n",
              "      <td>0</td>\n",
              "      <td>0</td>\n",
              "      <td>0</td>\n",
              "      <td>0</td>\n",
              "      <td>1</td>\n",
              "      <td>0</td>\n",
              "      <td>0</td>\n",
              "      <td>0</td>\n",
              "      <td>1</td>\n",
              "      <td>0.000000</td>\n",
              "      <td>0.0</td>\n",
              "      <td>0</td>\n",
              "      <td>0</td>\n",
              "      <td>0</td>\n",
              "      <td>0</td>\n",
              "      <td>0</td>\n",
              "      <td>3</td>\n",
              "      <td>0</td>\n",
              "      <td>0</td>\n",
              "      <td>0</td>\n",
              "      <td>0</td>\n",
              "      <td>0</td>\n",
              "      <td>0</td>\n",
              "      <td>4</td>\n",
              "      <td>4</td>\n",
              "      <td>3</td>\n",
              "      <td>3</td>\n",
              "      <td>3</td>\n",
              "      <td>11</td>\n",
              "      <td>11</td>\n",
              "      <td>6</td>\n",
              "      <td>5.750000</td>\n",
              "      <td>7.0</td>\n",
              "      <td>4.500000</td>\n",
              "      <td>0</td>\n",
              "      <td>0</td>\n",
              "      <td>0</td>\n",
              "      <td>0</td>\n",
              "      <td>0</td>\n",
              "      <td>0</td>\n",
              "      <td>17</td>\n",
              "      <td>0.529412</td>\n",
              "      <td>0.470588</td>\n",
              "      <td>0</td>\n",
              "      <td>0</td>\n",
              "      <td>0</td>\n",
              "      <td>0.875000</td>\n",
              "      <td>0</td>\n",
              "      <td>0.500000</td>\n",
              "      <td>0</td>\n",
              "      <td>0</td>\n",
              "      <td>80.000000</td>\n",
              "      <td>0</td>\n",
              "      <td>100.000000</td>\n",
              "      <td>0.000000</td>\n",
              "      <td>0</td>\n",
              "      <td>0</td>\n",
              "      <td>0</td>\n",
              "      <td>0.0</td>\n",
              "      <td>0</td>\n",
              "      <td>0</td>\n",
              "      <td>0</td>\n",
              "      <td>0</td>\n",
              "      <td>1</td>\n",
              "      <td>0</td>\n",
              "      <td>45</td>\n",
              "      <td>-1</td>\n",
              "      <td>0</td>\n",
              "      <td>1</td>\n",
              "      <td>1</td>\n",
              "      <td>4</td>\n",
              "      <td>legitimate</td>\n",
              "    </tr>\n",
              "    <tr>\n",
              "      <th>1</th>\n",
              "      <td>http://shadetreetechnology.com/V4/validation/a...</td>\n",
              "      <td>77</td>\n",
              "      <td>23</td>\n",
              "      <td>1</td>\n",
              "      <td>1</td>\n",
              "      <td>0</td>\n",
              "      <td>0</td>\n",
              "      <td>0</td>\n",
              "      <td>0</td>\n",
              "      <td>0</td>\n",
              "      <td>0</td>\n",
              "      <td>0</td>\n",
              "      <td>0</td>\n",
              "      <td>0</td>\n",
              "      <td>5</td>\n",
              "      <td>0</td>\n",
              "      <td>1</td>\n",
              "      <td>0</td>\n",
              "      <td>0</td>\n",
              "      <td>0</td>\n",
              "      <td>0</td>\n",
              "      <td>0</td>\n",
              "      <td>0</td>\n",
              "      <td>0</td>\n",
              "      <td>0</td>\n",
              "      <td>1</td>\n",
              "      <td>0.220779</td>\n",
              "      <td>0.0</td>\n",
              "      <td>0</td>\n",
              "      <td>0</td>\n",
              "      <td>0</td>\n",
              "      <td>0</td>\n",
              "      <td>0</td>\n",
              "      <td>1</td>\n",
              "      <td>0</td>\n",
              "      <td>0</td>\n",
              "      <td>0</td>\n",
              "      <td>0</td>\n",
              "      <td>1</td>\n",
              "      <td>0</td>\n",
              "      <td>4</td>\n",
              "      <td>4</td>\n",
              "      <td>2</td>\n",
              "      <td>19</td>\n",
              "      <td>2</td>\n",
              "      <td>32</td>\n",
              "      <td>19</td>\n",
              "      <td>32</td>\n",
              "      <td>15.750000</td>\n",
              "      <td>19.0</td>\n",
              "      <td>14.666667</td>\n",
              "      <td>0</td>\n",
              "      <td>0</td>\n",
              "      <td>0</td>\n",
              "      <td>0</td>\n",
              "      <td>0</td>\n",
              "      <td>0</td>\n",
              "      <td>30</td>\n",
              "      <td>0.966667</td>\n",
              "      <td>0.033333</td>\n",
              "      <td>0</td>\n",
              "      <td>0</td>\n",
              "      <td>0</td>\n",
              "      <td>0.000000</td>\n",
              "      <td>0</td>\n",
              "      <td>0.000000</td>\n",
              "      <td>0</td>\n",
              "      <td>0</td>\n",
              "      <td>100.000000</td>\n",
              "      <td>0</td>\n",
              "      <td>80.000000</td>\n",
              "      <td>20.000000</td>\n",
              "      <td>0</td>\n",
              "      <td>0</td>\n",
              "      <td>0</td>\n",
              "      <td>100.0</td>\n",
              "      <td>0</td>\n",
              "      <td>0</td>\n",
              "      <td>0</td>\n",
              "      <td>1</td>\n",
              "      <td>0</td>\n",
              "      <td>0</td>\n",
              "      <td>77</td>\n",
              "      <td>5767</td>\n",
              "      <td>0</td>\n",
              "      <td>0</td>\n",
              "      <td>1</td>\n",
              "      <td>2</td>\n",
              "      <td>phishing</td>\n",
              "    </tr>\n",
              "    <tr>\n",
              "      <th>2</th>\n",
              "      <td>https://support-appleld.com.secureupdate.duila...</td>\n",
              "      <td>126</td>\n",
              "      <td>50</td>\n",
              "      <td>1</td>\n",
              "      <td>4</td>\n",
              "      <td>1</td>\n",
              "      <td>0</td>\n",
              "      <td>1</td>\n",
              "      <td>2</td>\n",
              "      <td>0</td>\n",
              "      <td>3</td>\n",
              "      <td>2</td>\n",
              "      <td>0</td>\n",
              "      <td>0</td>\n",
              "      <td>5</td>\n",
              "      <td>0</td>\n",
              "      <td>1</td>\n",
              "      <td>0</td>\n",
              "      <td>0</td>\n",
              "      <td>0</td>\n",
              "      <td>0</td>\n",
              "      <td>0</td>\n",
              "      <td>1</td>\n",
              "      <td>0</td>\n",
              "      <td>0</td>\n",
              "      <td>0</td>\n",
              "      <td>0.150794</td>\n",
              "      <td>0.0</td>\n",
              "      <td>0</td>\n",
              "      <td>0</td>\n",
              "      <td>0</td>\n",
              "      <td>1</td>\n",
              "      <td>0</td>\n",
              "      <td>3</td>\n",
              "      <td>1</td>\n",
              "      <td>0</td>\n",
              "      <td>0</td>\n",
              "      <td>0</td>\n",
              "      <td>1</td>\n",
              "      <td>0</td>\n",
              "      <td>12</td>\n",
              "      <td>2</td>\n",
              "      <td>2</td>\n",
              "      <td>3</td>\n",
              "      <td>2</td>\n",
              "      <td>17</td>\n",
              "      <td>13</td>\n",
              "      <td>17</td>\n",
              "      <td>8.250000</td>\n",
              "      <td>8.4</td>\n",
              "      <td>8.142857</td>\n",
              "      <td>0</td>\n",
              "      <td>0</td>\n",
              "      <td>0</td>\n",
              "      <td>0</td>\n",
              "      <td>0</td>\n",
              "      <td>0</td>\n",
              "      <td>4</td>\n",
              "      <td>1.000000</td>\n",
              "      <td>0.000000</td>\n",
              "      <td>0</td>\n",
              "      <td>0</td>\n",
              "      <td>0</td>\n",
              "      <td>0.000000</td>\n",
              "      <td>0</td>\n",
              "      <td>0.000000</td>\n",
              "      <td>0</td>\n",
              "      <td>0</td>\n",
              "      <td>100.000000</td>\n",
              "      <td>0</td>\n",
              "      <td>0.000000</td>\n",
              "      <td>0.000000</td>\n",
              "      <td>0</td>\n",
              "      <td>0</td>\n",
              "      <td>0</td>\n",
              "      <td>100.0</td>\n",
              "      <td>0</td>\n",
              "      <td>0</td>\n",
              "      <td>0</td>\n",
              "      <td>1</td>\n",
              "      <td>0</td>\n",
              "      <td>0</td>\n",
              "      <td>14</td>\n",
              "      <td>4004</td>\n",
              "      <td>5828815</td>\n",
              "      <td>0</td>\n",
              "      <td>1</td>\n",
              "      <td>0</td>\n",
              "      <td>phishing</td>\n",
              "    </tr>\n",
              "    <tr>\n",
              "      <th>3</th>\n",
              "      <td>http://rgipt.ac.in</td>\n",
              "      <td>18</td>\n",
              "      <td>11</td>\n",
              "      <td>0</td>\n",
              "      <td>2</td>\n",
              "      <td>0</td>\n",
              "      <td>0</td>\n",
              "      <td>0</td>\n",
              "      <td>0</td>\n",
              "      <td>0</td>\n",
              "      <td>0</td>\n",
              "      <td>0</td>\n",
              "      <td>0</td>\n",
              "      <td>0</td>\n",
              "      <td>2</td>\n",
              "      <td>0</td>\n",
              "      <td>1</td>\n",
              "      <td>0</td>\n",
              "      <td>0</td>\n",
              "      <td>0</td>\n",
              "      <td>0</td>\n",
              "      <td>0</td>\n",
              "      <td>0</td>\n",
              "      <td>0</td>\n",
              "      <td>0</td>\n",
              "      <td>1</td>\n",
              "      <td>0.000000</td>\n",
              "      <td>0.0</td>\n",
              "      <td>0</td>\n",
              "      <td>0</td>\n",
              "      <td>0</td>\n",
              "      <td>0</td>\n",
              "      <td>0</td>\n",
              "      <td>2</td>\n",
              "      <td>0</td>\n",
              "      <td>0</td>\n",
              "      <td>0</td>\n",
              "      <td>0</td>\n",
              "      <td>1</td>\n",
              "      <td>0</td>\n",
              "      <td>1</td>\n",
              "      <td>0</td>\n",
              "      <td>5</td>\n",
              "      <td>5</td>\n",
              "      <td>0</td>\n",
              "      <td>5</td>\n",
              "      <td>5</td>\n",
              "      <td>0</td>\n",
              "      <td>5.000000</td>\n",
              "      <td>5.0</td>\n",
              "      <td>0.000000</td>\n",
              "      <td>0</td>\n",
              "      <td>0</td>\n",
              "      <td>0</td>\n",
              "      <td>0</td>\n",
              "      <td>0</td>\n",
              "      <td>0</td>\n",
              "      <td>149</td>\n",
              "      <td>0.973154</td>\n",
              "      <td>0.026846</td>\n",
              "      <td>0</td>\n",
              "      <td>0</td>\n",
              "      <td>0</td>\n",
              "      <td>0.250000</td>\n",
              "      <td>0</td>\n",
              "      <td>0.250000</td>\n",
              "      <td>0</td>\n",
              "      <td>0</td>\n",
              "      <td>100.000000</td>\n",
              "      <td>0</td>\n",
              "      <td>96.428571</td>\n",
              "      <td>3.571429</td>\n",
              "      <td>0</td>\n",
              "      <td>0</td>\n",
              "      <td>0</td>\n",
              "      <td>62.5</td>\n",
              "      <td>0</td>\n",
              "      <td>0</td>\n",
              "      <td>0</td>\n",
              "      <td>1</td>\n",
              "      <td>0</td>\n",
              "      <td>0</td>\n",
              "      <td>62</td>\n",
              "      <td>-1</td>\n",
              "      <td>107721</td>\n",
              "      <td>0</td>\n",
              "      <td>0</td>\n",
              "      <td>3</td>\n",
              "      <td>legitimate</td>\n",
              "    </tr>\n",
              "    <tr>\n",
              "      <th>4</th>\n",
              "      <td>http://www.iracing.com/tracks/gateway-motorspo...</td>\n",
              "      <td>55</td>\n",
              "      <td>15</td>\n",
              "      <td>0</td>\n",
              "      <td>2</td>\n",
              "      <td>2</td>\n",
              "      <td>0</td>\n",
              "      <td>0</td>\n",
              "      <td>0</td>\n",
              "      <td>0</td>\n",
              "      <td>0</td>\n",
              "      <td>0</td>\n",
              "      <td>0</td>\n",
              "      <td>0</td>\n",
              "      <td>5</td>\n",
              "      <td>0</td>\n",
              "      <td>1</td>\n",
              "      <td>0</td>\n",
              "      <td>0</td>\n",
              "      <td>0</td>\n",
              "      <td>0</td>\n",
              "      <td>1</td>\n",
              "      <td>0</td>\n",
              "      <td>0</td>\n",
              "      <td>0</td>\n",
              "      <td>1</td>\n",
              "      <td>0.000000</td>\n",
              "      <td>0.0</td>\n",
              "      <td>0</td>\n",
              "      <td>0</td>\n",
              "      <td>0</td>\n",
              "      <td>0</td>\n",
              "      <td>0</td>\n",
              "      <td>2</td>\n",
              "      <td>0</td>\n",
              "      <td>0</td>\n",
              "      <td>0</td>\n",
              "      <td>0</td>\n",
              "      <td>1</td>\n",
              "      <td>0</td>\n",
              "      <td>6</td>\n",
              "      <td>3</td>\n",
              "      <td>3</td>\n",
              "      <td>3</td>\n",
              "      <td>4</td>\n",
              "      <td>11</td>\n",
              "      <td>7</td>\n",
              "      <td>11</td>\n",
              "      <td>6.333333</td>\n",
              "      <td>5.0</td>\n",
              "      <td>7.000000</td>\n",
              "      <td>0</td>\n",
              "      <td>0</td>\n",
              "      <td>0</td>\n",
              "      <td>0</td>\n",
              "      <td>0</td>\n",
              "      <td>0</td>\n",
              "      <td>102</td>\n",
              "      <td>0.470588</td>\n",
              "      <td>0.529412</td>\n",
              "      <td>0</td>\n",
              "      <td>0</td>\n",
              "      <td>0</td>\n",
              "      <td>0.537037</td>\n",
              "      <td>0</td>\n",
              "      <td>0.018519</td>\n",
              "      <td>1</td>\n",
              "      <td>0</td>\n",
              "      <td>76.470588</td>\n",
              "      <td>0</td>\n",
              "      <td>0.000000</td>\n",
              "      <td>100.000000</td>\n",
              "      <td>0</td>\n",
              "      <td>0</td>\n",
              "      <td>0</td>\n",
              "      <td>0.0</td>\n",
              "      <td>0</td>\n",
              "      <td>0</td>\n",
              "      <td>0</td>\n",
              "      <td>0</td>\n",
              "      <td>1</td>\n",
              "      <td>0</td>\n",
              "      <td>224</td>\n",
              "      <td>8175</td>\n",
              "      <td>8725</td>\n",
              "      <td>0</td>\n",
              "      <td>0</td>\n",
              "      <td>6</td>\n",
              "      <td>legitimate</td>\n",
              "    </tr>\n",
              "  </tbody>\n",
              "</table>\n",
              "</div>\n",
              "      <button class=\"colab-df-convert\" onclick=\"convertToInteractive('df-3109b3fa-e8d7-454a-b6ea-0b390ec925fd')\"\n",
              "              title=\"Convert this dataframe to an interactive table.\"\n",
              "              style=\"display:none;\">\n",
              "        \n",
              "  <svg xmlns=\"http://www.w3.org/2000/svg\" height=\"24px\"viewBox=\"0 0 24 24\"\n",
              "       width=\"24px\">\n",
              "    <path d=\"M0 0h24v24H0V0z\" fill=\"none\"/>\n",
              "    <path d=\"M18.56 5.44l.94 2.06.94-2.06 2.06-.94-2.06-.94-.94-2.06-.94 2.06-2.06.94zm-11 1L8.5 8.5l.94-2.06 2.06-.94-2.06-.94L8.5 2.5l-.94 2.06-2.06.94zm10 10l.94 2.06.94-2.06 2.06-.94-2.06-.94-.94-2.06-.94 2.06-2.06.94z\"/><path d=\"M17.41 7.96l-1.37-1.37c-.4-.4-.92-.59-1.43-.59-.52 0-1.04.2-1.43.59L10.3 9.45l-7.72 7.72c-.78.78-.78 2.05 0 2.83L4 21.41c.39.39.9.59 1.41.59.51 0 1.02-.2 1.41-.59l7.78-7.78 2.81-2.81c.8-.78.8-2.07 0-2.86zM5.41 20L4 18.59l7.72-7.72 1.47 1.35L5.41 20z\"/>\n",
              "  </svg>\n",
              "      </button>\n",
              "      \n",
              "  <style>\n",
              "    .colab-df-container {\n",
              "      display:flex;\n",
              "      flex-wrap:wrap;\n",
              "      gap: 12px;\n",
              "    }\n",
              "\n",
              "    .colab-df-convert {\n",
              "      background-color: #E8F0FE;\n",
              "      border: none;\n",
              "      border-radius: 50%;\n",
              "      cursor: pointer;\n",
              "      display: none;\n",
              "      fill: #1967D2;\n",
              "      height: 32px;\n",
              "      padding: 0 0 0 0;\n",
              "      width: 32px;\n",
              "    }\n",
              "\n",
              "    .colab-df-convert:hover {\n",
              "      background-color: #E2EBFA;\n",
              "      box-shadow: 0px 1px 2px rgba(60, 64, 67, 0.3), 0px 1px 3px 1px rgba(60, 64, 67, 0.15);\n",
              "      fill: #174EA6;\n",
              "    }\n",
              "\n",
              "    [theme=dark] .colab-df-convert {\n",
              "      background-color: #3B4455;\n",
              "      fill: #D2E3FC;\n",
              "    }\n",
              "\n",
              "    [theme=dark] .colab-df-convert:hover {\n",
              "      background-color: #434B5C;\n",
              "      box-shadow: 0px 1px 3px 1px rgba(0, 0, 0, 0.15);\n",
              "      filter: drop-shadow(0px 1px 2px rgba(0, 0, 0, 0.3));\n",
              "      fill: #FFFFFF;\n",
              "    }\n",
              "  </style>\n",
              "\n",
              "      <script>\n",
              "        const buttonEl =\n",
              "          document.querySelector('#df-3109b3fa-e8d7-454a-b6ea-0b390ec925fd button.colab-df-convert');\n",
              "        buttonEl.style.display =\n",
              "          google.colab.kernel.accessAllowed ? 'block' : 'none';\n",
              "\n",
              "        async function convertToInteractive(key) {\n",
              "          const element = document.querySelector('#df-3109b3fa-e8d7-454a-b6ea-0b390ec925fd');\n",
              "          const dataTable =\n",
              "            await google.colab.kernel.invokeFunction('convertToInteractive',\n",
              "                                                     [key], {});\n",
              "          if (!dataTable) return;\n",
              "\n",
              "          const docLinkHtml = 'Like what you see? Visit the ' +\n",
              "            '<a target=\"_blank\" href=https://colab.research.google.com/notebooks/data_table.ipynb>data table notebook</a>'\n",
              "            + ' to learn more about interactive tables.';\n",
              "          element.innerHTML = '';\n",
              "          dataTable['output_type'] = 'display_data';\n",
              "          await google.colab.output.renderOutput(dataTable, element);\n",
              "          const docLink = document.createElement('div');\n",
              "          docLink.innerHTML = docLinkHtml;\n",
              "          element.appendChild(docLink);\n",
              "        }\n",
              "      </script>\n",
              "    </div>\n",
              "  </div>\n",
              "  "
            ]
          },
          "metadata": {},
          "execution_count": 2
        }
      ]
    },
    {
      "cell_type": "markdown",
      "source": [
        "## Limpieza de datos"
      ],
      "metadata": {
        "id": "bFraCHueUNHH"
      }
    },
    {
      "cell_type": "code",
      "source": [
        "# Cuántas filas y columnas tiene nuestro base de datos\n",
        "df.shape"
      ],
      "metadata": {
        "colab": {
          "base_uri": "https://localhost:8080/"
        },
        "id": "J292WxFEnD2q",
        "outputId": "6d4b6082-3b75-45e4-9465-309f06a76751"
      },
      "execution_count": 3,
      "outputs": [
        {
          "output_type": "execute_result",
          "data": {
            "text/plain": [
              "(11430, 89)"
            ]
          },
          "metadata": {},
          "execution_count": 3
        }
      ]
    },
    {
      "cell_type": "markdown",
      "source": [
        "**Diccionario de datos**  \n",
        "\n",
        "| Característica | Tipo | Descripción |\n",
        "| ----------- | ----------- | ----------- |\n",
        "| url | object | Dirección del sitio web |\n",
        "| length_url | int | Longitud de la URL. URLs largas son generalmente usadas para esconder dominios reales |\n",
        "| length_hostname | int | Longitud del nombre del host |\n",
        "| ip | object | 0/1 Dirección IP, identifica si el sitio web tiene (1) o no (0)una dirección IP en la URL, la presencia de IPs es considerado un indicador de Phishing |\n",
        "| nb_dots | int | Número de ocurrencias de punto (.) |\n",
        "| nb_hyphens | int | Número de ocurrencias de guiones (-) |\n",
        "| nb_at | int | Número de ocurrencias de arrobas (@) |\n",
        "| nb_qm | int | Número de ocurrencias de signos de interrogación (?) |\n",
        "| nb_and | int | Número de ocurrencias de ampersand (&) |\n",
        "| nb_or | int | Número de ocurrencias de tuberías (\\|) |\n",
        "| nb_eq | int | Número de ocurrencias de signo igual (=) |\n",
        "| nb\\_underscore | int | Número de ocurrencias de subguión  (\\_) |\n",
        "| nb_tilde | int | Número de ocurrencias de comillas (\") |\n",
        "| nb_percent | int | Número de ocurrencias de porcentaje (%) |\n",
        "| nb_slash | int | Número de ocurrencias de slash (/) |\n",
        "| nb_star | int | Número de ocurrencias de asteriscos (*) |\n",
        "| nb_colon | int | Número de ocurrencias de dos puntos (:) |\n",
        "| nb_comma | int | Número de ocurrencias de comas (,) |\n",
        "| nb_semicolumn | int | Número de ocurrencias de punto y coma (;) |\n",
        "| nb_dollar | int | Número de ocurrencias de símbolo de dolar ($) |\n",
        "| nb_space | int | Número de ocurrencias de espacio (%20) |\n",
        "| nb_www | int | Número de ocurrencias de www |\n",
        "| nb_com | int | Número de ocurrencias de .com |\n",
        "| nb_dslash | int | Número de ocurrencias de doble slash (//) |\n",
        "| http_in_path | int | Número de ocurrencias de http |\n",
        "| https_token | object | 0/1 La mayor parte de sitios phishing no proveen ninguna seguridad, por tanto HTTPs es un indicador de un sitio seguro |\n",
        "| ratio_digits_url | float | Ratio de digitos en la URL. Un alto número de digitos en una URL es un indicador de Phishing |\n",
        "| ratio_digits_host | float | Ratio de digitos en el nombre de host |\n",
        "| punycode | object | 0/1 Punycode es utilizado en los nombres de dominio para reemplazar algunos códigos ASCII con caracteres Unicode, su presencia es considerada phishing |\n",
        "| port | object | 0/1 Indica si la URL tiene o no puerto, la presencia de puertos en la URL es considerada Phishing |\n",
        "| tld_in_path | object | 0/1 Top Level Domain (TDL) dentro del path, en una URL legítima el TLD sólo debería estar antes del path. El TDL dentro del path es considerado phishing |\n",
        "| tld_in_subdomain | object | 0/1 Top Level Domain (TDL) dentro del subdominio. El TDL dentro del subdominio es considerado phishing |\n",
        "| abnormal_subdomain | object | 0/1 URLs que tienen un patrón 'w[w]?[0-9]*' en lugar de www son consideradas phishing |\n",
        "| nb_subdomains | int | Número subdominios utilizados, las URLs de phishing usan más sudominios |\n",
        "| prefix_suffix | object | 0/1 Si existen prefijos o sufijos separados con \"-\" en la URL es considerada phishing |\n",
        "| random_domain | object | 0/1 Si existen palabras formadas por caracteres aleatorios |\n",
        "| shortening_service | object | 0/1 Los servicios para encojer URL suelen ser usados para enmascarar direcciones largas, por tanto es considerado como indicador de phishing |\n",
        "| path_extension | object | 0/1 Presencia de extensiones como 'txt', 'exe', 'js', son indicadores de phishing |\n",
        "| nb_redirection | int | Número de redirecciones de un sitio web |\n",
        "| nb_external_redirection | int | Número de redirecciones externas de un sitio web |\n",
        "| length_words_raw | int | Número de palabras en URL |\n",
        "| char_repeat | int | Número de repetición de caracteres en URL |\n",
        "| shortest_words_raw | int | Palabras más cortas en las URL |\n",
        "| shortest_word_host | int | Palabras más cortas en el nombre de host |\n",
        "| shortest_word_path | int | Palabras más cortas en paths |\n",
        "| longest_words_raw | int | Palabras más largas en las URL |\n",
        "| longest_word_host | int | Palabras más largas en el nombre de host |\n",
        "| longest_word_path | int | Palabras más largas en paths |\n",
        "| avg_words_raw | int | Promedio de longitud de palabras en URL |\n",
        "| avg_word_host | int | Promedio de longitud de palabras en el nombre de host |\n",
        "| avg_word_path | int | Promedio de longitud de palabras en el path |\n",
        "| phish_hints | int | Las URL de phishing utilizan palabras confidenciales para ganar confianza en las páginas web visitadas. El número de tales palabras en las URL se considera un indicador de phishing |\n",
        "| domain_in_brand | object | 0/1 Marca en dominio es considerado legítimo |\n",
        "|brand_in_subdomain | object | 0/1 Marca en subdominio es considerado phishing |\n",
        "| brand_in_path | object | 0/1 Marca en path es considerado phishing |\n",
        "| suspecious_tld | object | 0/1 TLD sospechoso  |\n",
        "| statistical_report | object | 0/1 Si la IP coincide con un dominio de phishing conocido |\n",
        "| nb_hyperlinks | int | Número de enlaces, los sitios phishing tienen menos enlaces |\n",
        "| ratio_intHyperlinks | float | Ratio de hipervínculos internos vs todos los hipervínculos. Hipervínculos internos son usados en páginas legítimas. |\n",
        "| ratio_extHyperlinks | float | Ratio de hipervínculos externos vs todos los hipervínculos. Hipervínculos externos son usados en páginas phishing. |\n",
        "| ratio_nullHyperlinks | float | Ratio de hipervínculos nulos vs todos los hipervínculos. Las páginas phishing a veces crean hipervínculos a ningún lado para parecer la página original. |\n",
        "| nb_extCSS | int | Número de enlaces CSS externos, un alto número es considerado Phishing |\n",
        "| ratio_intRedirection | int | Ratio de redirecciones internas. Las páginas legítimas usan redirecciones internas. |\n",
        "| ratio_extRedirection | int | Ratio de redirecciones externas. Las páginas legítimas usan redirecciones externas. |\n",
        "| ratio_intErrors | float | Ratio de redirecciones internas fallidas. |\n",
        "| ratio_extErrors | float | Ratio de redirecciones externas fallidas. |\n",
        "| login_form | object | 0/1 Formularios de login con enlaces de acción externos o acciones vacías son considerados phishing |\n",
        "| external_favicon | object | 0/1 Si un sitio usa un favicon externo para simular un sitio se considera phishing |\n",
        "| links_in_tags | float | Ratio de etiquetas \\<Link\\> apuntando a páginas en el mismo dominio |\n",
        "| submit_email | object | 0/1 Si un formulario tiene como acción el envío de un correo es considerado Phishing |\n",
        "| ratio_intMedia | float | Ratio de medios (imágenes, audio, video) guardados en el mismo dominio. Cuando es en el mismo dominio se considera legítimo |\n",
        "| ratio_extMedia | float | Ratio de medios (imágenes, audio, video) guardados en dominios externos. |\n",
        "| sfh | object | 0/1 Si una acción en un formulario es una cadena vacía o about:blank se considera Phishing |\n",
        "| iframe | object | 0/1 El uso de frames invisibles es considerado Phishing |\n",
        "| popup_window | object | 0/1 La presencia de una ventana emergente con campos de texto es considerado Phishing. |\n",
        "| safe_anchor | int | Número de etiquetas \\<a\\> inseguras (#, javascript, mailto) |\n",
        "| onmouseover | object | 0/1 Presencia del método 'onmouseover' es un indicador de phishing |\n",
        "| right_clic | object | 0/1 Presencia del método 'onmouseover' con la acción 'event.button==2' para deshabilitar el click derecho, es un indicador de phishing |\n",
        "| empty_title | object | 0/1 Un título vació es indicador de phishing |\n",
        "| domain_in_title | object | 0/1 Si el dominio y el título de la página coinciden se considera un sitio legítimo |\n",
        "| domain_with_copyright | object | La presencia del dominio de URL dentro del logotipo de derechos de autor es un indicador de legitimidad. |\n",
        "| whois_registered_domain | object | 0/1 Dominios sin un WHOIS registrado son considerados Phishing. |\n",
        "| domain_registration_length | int | Número de años que fue pagada la renovación del dominio. |\n",
        "| domain_age | int | Número de años que tiene el dominio. |\n",
        "| web_traffic | int | Cantidad de visitantes (tráfico), los sitios phishing tienen poco tráfico. |\n",
        "| dns_record | object | 0/1 Una falta de registro DNS es un indicador de phishing. |\n",
        "| google_index | object | 0/1 Páginas no indexadas en Google son consideradas como phishing. |\n",
        "| page_rank | int | El ranking de la página web, un ranking bajo es indicador de phishing. |\n",
        "| status | object | Valores: phishing / legitimate. Variable objetivo, indica si la página es phishing o legítima. |\n",
        "\n",
        "Fuente: https://arxiv.org/pdf/2010.12847.pdf"
      ],
      "metadata": {
        "id": "VFpI34GMqXMy"
      }
    },
    {
      "cell_type": "code",
      "source": [
        "df.info()"
      ],
      "metadata": {
        "colab": {
          "base_uri": "https://localhost:8080/"
        },
        "id": "NVPPb0xHnMTc",
        "outputId": "648c8705-3c78-47a3-812b-c691228645bd"
      },
      "execution_count": 4,
      "outputs": [
        {
          "output_type": "stream",
          "name": "stdout",
          "text": [
            "<class 'pandas.core.frame.DataFrame'>\n",
            "RangeIndex: 11430 entries, 0 to 11429\n",
            "Data columns (total 89 columns):\n",
            " #   Column                      Non-Null Count  Dtype  \n",
            "---  ------                      --------------  -----  \n",
            " 0   url                         11430 non-null  object \n",
            " 1   length_url                  11430 non-null  int64  \n",
            " 2   length_hostname             11430 non-null  int64  \n",
            " 3   ip                          11430 non-null  int64  \n",
            " 4   nb_dots                     11430 non-null  int64  \n",
            " 5   nb_hyphens                  11430 non-null  int64  \n",
            " 6   nb_at                       11430 non-null  int64  \n",
            " 7   nb_qm                       11430 non-null  int64  \n",
            " 8   nb_and                      11430 non-null  int64  \n",
            " 9   nb_or                       11430 non-null  int64  \n",
            " 10  nb_eq                       11430 non-null  int64  \n",
            " 11  nb_underscore               11430 non-null  int64  \n",
            " 12  nb_tilde                    11430 non-null  int64  \n",
            " 13  nb_percent                  11430 non-null  int64  \n",
            " 14  nb_slash                    11430 non-null  int64  \n",
            " 15  nb_star                     11430 non-null  int64  \n",
            " 16  nb_colon                    11430 non-null  int64  \n",
            " 17  nb_comma                    11430 non-null  int64  \n",
            " 18  nb_semicolumn               11430 non-null  int64  \n",
            " 19  nb_dollar                   11430 non-null  int64  \n",
            " 20  nb_space                    11430 non-null  int64  \n",
            " 21  nb_www                      11430 non-null  int64  \n",
            " 22  nb_com                      11430 non-null  int64  \n",
            " 23  nb_dslash                   11430 non-null  int64  \n",
            " 24  http_in_path                11430 non-null  int64  \n",
            " 25  https_token                 11430 non-null  int64  \n",
            " 26  ratio_digits_url            11430 non-null  float64\n",
            " 27  ratio_digits_host           11430 non-null  float64\n",
            " 28  punycode                    11430 non-null  int64  \n",
            " 29  port                        11430 non-null  int64  \n",
            " 30  tld_in_path                 11430 non-null  int64  \n",
            " 31  tld_in_subdomain            11430 non-null  int64  \n",
            " 32  abnormal_subdomain          11430 non-null  int64  \n",
            " 33  nb_subdomains               11430 non-null  int64  \n",
            " 34  prefix_suffix               11430 non-null  int64  \n",
            " 35  random_domain               11430 non-null  int64  \n",
            " 36  shortening_service          11430 non-null  int64  \n",
            " 37  path_extension              11430 non-null  int64  \n",
            " 38  nb_redirection              11430 non-null  int64  \n",
            " 39  nb_external_redirection     11430 non-null  int64  \n",
            " 40  length_words_raw            11430 non-null  int64  \n",
            " 41  char_repeat                 11430 non-null  int64  \n",
            " 42  shortest_words_raw          11430 non-null  int64  \n",
            " 43  shortest_word_host          11430 non-null  int64  \n",
            " 44  shortest_word_path          11430 non-null  int64  \n",
            " 45  longest_words_raw           11430 non-null  int64  \n",
            " 46  longest_word_host           11430 non-null  int64  \n",
            " 47  longest_word_path           11430 non-null  int64  \n",
            " 48  avg_words_raw               11430 non-null  float64\n",
            " 49  avg_word_host               11430 non-null  float64\n",
            " 50  avg_word_path               11430 non-null  float64\n",
            " 51  phish_hints                 11430 non-null  int64  \n",
            " 52  domain_in_brand             11430 non-null  int64  \n",
            " 53  brand_in_subdomain          11430 non-null  int64  \n",
            " 54  brand_in_path               11430 non-null  int64  \n",
            " 55  suspecious_tld              11430 non-null  int64  \n",
            " 56  statistical_report          11430 non-null  int64  \n",
            " 57  nb_hyperlinks               11430 non-null  int64  \n",
            " 58  ratio_intHyperlinks         11430 non-null  float64\n",
            " 59  ratio_extHyperlinks         11430 non-null  float64\n",
            " 60  ratio_nullHyperlinks        11430 non-null  int64  \n",
            " 61  nb_extCSS                   11430 non-null  int64  \n",
            " 62  ratio_intRedirection        11430 non-null  int64  \n",
            " 63  ratio_extRedirection        11430 non-null  float64\n",
            " 64  ratio_intErrors             11430 non-null  int64  \n",
            " 65  ratio_extErrors             11430 non-null  float64\n",
            " 66  login_form                  11430 non-null  int64  \n",
            " 67  external_favicon            11430 non-null  int64  \n",
            " 68  links_in_tags               11430 non-null  float64\n",
            " 69  submit_email                11430 non-null  int64  \n",
            " 70  ratio_intMedia              11430 non-null  float64\n",
            " 71  ratio_extMedia              11430 non-null  float64\n",
            " 72  sfh                         11430 non-null  int64  \n",
            " 73  iframe                      11430 non-null  int64  \n",
            " 74  popup_window                11430 non-null  int64  \n",
            " 75  safe_anchor                 11430 non-null  float64\n",
            " 76  onmouseover                 11430 non-null  int64  \n",
            " 77  right_clic                  11430 non-null  int64  \n",
            " 78  empty_title                 11430 non-null  int64  \n",
            " 79  domain_in_title             11430 non-null  int64  \n",
            " 80  domain_with_copyright       11430 non-null  int64  \n",
            " 81  whois_registered_domain     11430 non-null  int64  \n",
            " 82  domain_registration_length  11430 non-null  int64  \n",
            " 83  domain_age                  11430 non-null  int64  \n",
            " 84  web_traffic                 11430 non-null  int64  \n",
            " 85  dns_record                  11430 non-null  int64  \n",
            " 86  google_index                11430 non-null  int64  \n",
            " 87  page_rank                   11430 non-null  int64  \n",
            " 88  status                      11430 non-null  object \n",
            "dtypes: float64(13), int64(74), object(2)\n",
            "memory usage: 7.8+ MB\n"
          ]
        }
      ]
    },
    {
      "cell_type": "code",
      "source": [
        "df.isna().sum().value_counts()"
      ],
      "metadata": {
        "colab": {
          "base_uri": "https://localhost:8080/"
        },
        "id": "lpChhlcm9heS",
        "outputId": "8ae9e392-6e7c-44c5-e229-d4040b36fa9f"
      },
      "execution_count": 5,
      "outputs": [
        {
          "output_type": "execute_result",
          "data": {
            "text/plain": [
              "0    89\n",
              "dtype: int64"
            ]
          },
          "metadata": {},
          "execution_count": 5
        }
      ]
    },
    {
      "cell_type": "markdown",
      "source": [
        "No existen valores nulos en la base de datos."
      ],
      "metadata": {
        "id": "_FPQdVzEn58e"
      }
    },
    {
      "cell_type": "code",
      "source": [
        "df.duplicated().sum()"
      ],
      "metadata": {
        "colab": {
          "base_uri": "https://localhost:8080/"
        },
        "id": "--msdwED-ODJ",
        "outputId": "c73ef4a7-04a2-4d81-d6fa-d1999eb5684d"
      },
      "execution_count": 6,
      "outputs": [
        {
          "output_type": "execute_result",
          "data": {
            "text/plain": [
              "0"
            ]
          },
          "metadata": {},
          "execution_count": 6
        }
      ]
    },
    {
      "cell_type": "markdown",
      "source": [
        "No existen registros duplicados."
      ],
      "metadata": {
        "id": "M6s6HIuG_0K-"
      }
    },
    {
      "cell_type": "markdown",
      "source": [
        "De acuerdo al diccionario de datos existen varias variables categóricas que al momento se encuentran como enteros, se debe realizar el cambio a objeto de dichas variables."
      ],
      "metadata": {
        "id": "y7OTyKJHnl5H"
      }
    },
    {
      "cell_type": "code",
      "source": [
        "# Cambiar todas las variables categóricas a objeto\n",
        "df[['ip', 'https_token', 'punycode', 'port', 'tld_in_path', 'tld_in_subdomain', 'abnormal_subdomain', 'prefix_suffix', 'random_domain', 'shortening_service', 'path_extension', 'domain_in_brand', 'brand_in_subdomain', 'brand_in_path', 'suspecious_tld', 'statistical_report', 'login_form', 'external_favicon', 'submit_email', 'sfh', 'iframe', 'popup_window', 'onmouseover', 'right_clic', 'empty_title', 'domain_in_title', 'domain_with_copyright', 'whois_registered_domain', 'dns_record', 'google_index']] = df[['ip', 'https_token', 'punycode', 'port', 'tld_in_path', 'tld_in_subdomain', 'abnormal_subdomain', 'prefix_suffix', 'random_domain', 'shortening_service', 'path_extension', 'domain_in_brand', 'brand_in_subdomain', 'brand_in_path', 'suspecious_tld', 'statistical_report', 'login_form', 'external_favicon', 'submit_email', 'sfh', 'iframe', 'popup_window', 'onmouseover', 'right_clic', 'empty_title', 'domain_in_title', 'domain_with_copyright', 'whois_registered_domain', 'dns_record', 'google_index']].astype(object)"
      ],
      "metadata": {
        "id": "DxsH7vRSqmoT"
      },
      "execution_count": 7,
      "outputs": []
    },
    {
      "cell_type": "code",
      "source": [
        "# Codificar variable objetivo \"status\", lo que deseamos predecir es si el sitio web es Phishing por lo tanto phishing=1 y legitimate=0\n",
        "df['status'] = df['status'].replace({'phishing': 1, 'legitimate': 0})"
      ],
      "metadata": {
        "id": "0lmf30wGvgAn"
      },
      "execution_count": 8,
      "outputs": []
    },
    {
      "cell_type": "code",
      "source": [
        "# Observar el balance de nuestra variable objetivo\n",
        "df['status'].value_counts(normalize=True)"
      ],
      "metadata": {
        "colab": {
          "base_uri": "https://localhost:8080/"
        },
        "id": "-WgJYm40BR99",
        "outputId": "976275cd-ce80-44b4-fd3c-fc69ebc5c6f6"
      },
      "execution_count": 9,
      "outputs": [
        {
          "output_type": "execute_result",
          "data": {
            "text/plain": [
              "0    0.5\n",
              "1    0.5\n",
              "Name: status, dtype: float64"
            ]
          },
          "metadata": {},
          "execution_count": 9
        }
      ]
    },
    {
      "cell_type": "code",
      "source": [
        "df.nb_or.value_counts()"
      ],
      "metadata": {
        "colab": {
          "base_uri": "https://localhost:8080/"
        },
        "id": "USuiC1yxDPrW",
        "outputId": "c38d671e-78d5-419f-c64f-9af90be605e4"
      },
      "execution_count": 10,
      "outputs": [
        {
          "output_type": "execute_result",
          "data": {
            "text/plain": [
              "0    11430\n",
              "Name: nb_or, dtype: int64"
            ]
          },
          "metadata": {},
          "execution_count": 10
        }
      ]
    },
    {
      "cell_type": "code",
      "source": [
        "df.ratio_nullHyperlinks.value_counts()"
      ],
      "metadata": {
        "id": "K5pDBSrAqyhd",
        "colab": {
          "base_uri": "https://localhost:8080/"
        },
        "outputId": "7e0b5826-c320-46e0-ef85-ba30591c591c"
      },
      "execution_count": 11,
      "outputs": [
        {
          "output_type": "execute_result",
          "data": {
            "text/plain": [
              "0    11430\n",
              "Name: ratio_nullHyperlinks, dtype: int64"
            ]
          },
          "metadata": {},
          "execution_count": 11
        }
      ]
    },
    {
      "cell_type": "code",
      "source": [
        "df.ratio_intRedirection.value_counts()"
      ],
      "metadata": {
        "colab": {
          "base_uri": "https://localhost:8080/"
        },
        "id": "lQl0cXlPIwpw",
        "outputId": "59681f5f-6f25-48aa-bfed-723188a66f3a"
      },
      "execution_count": 12,
      "outputs": [
        {
          "output_type": "execute_result",
          "data": {
            "text/plain": [
              "0    11430\n",
              "Name: ratio_intRedirection, dtype: int64"
            ]
          },
          "metadata": {},
          "execution_count": 12
        }
      ]
    },
    {
      "cell_type": "code",
      "source": [
        "df.ratio_intErrors.value_counts()"
      ],
      "metadata": {
        "colab": {
          "base_uri": "https://localhost:8080/"
        },
        "id": "B2eOuJEeI3u_",
        "outputId": "04e09bc5-a675-4854-97a1-875805253700"
      },
      "execution_count": 13,
      "outputs": [
        {
          "output_type": "execute_result",
          "data": {
            "text/plain": [
              "0    11430\n",
              "Name: ratio_intErrors, dtype: int64"
            ]
          },
          "metadata": {},
          "execution_count": 13
        }
      ]
    },
    {
      "cell_type": "markdown",
      "source": [
        "Las variables anteriores sólo tienen el valor 0, por lo que no aportarían a nuestro modelo, se eliminará dichas variables."
      ],
      "metadata": {
        "id": "GrPtio2SJASt"
      }
    },
    {
      "cell_type": "code",
      "source": [
        "df.drop(columns=['nb_or', 'ratio_nullHyperlinks', 'ratio_intRedirection', 'ratio_intErrors'], inplace=True)"
      ],
      "metadata": {
        "id": "GjWMCrrqI9bQ"
      },
      "execution_count": 14,
      "outputs": []
    },
    {
      "cell_type": "markdown",
      "source": [
        "Verificar variables categóricas"
      ],
      "metadata": {
        "id": "3NTwanukSQce"
      }
    },
    {
      "cell_type": "markdown",
      "source": [
        "La variable statistical_report tiene valores 0, 1 y 2, sin embargo, según el diccionario de datos sólo debería tener los valores 1 que indica que la dirección IP corresponde a un dominio de phishing registrado y 0 que no corresponde. Voy a revisar si los valores de 2 corresponden o dominios de Phishing o Legítimos."
      ],
      "metadata": {
        "id": "ykjHNeEVUy-a"
      }
    },
    {
      "cell_type": "code",
      "source": [
        "# Confirmar si los valores 2 corresponden a phishing\n",
        "df.loc[(df['statistical_report'] == 2),  'status'].value_counts()"
      ],
      "metadata": {
        "colab": {
          "base_uri": "https://localhost:8080/"
        },
        "id": "feEdbXDJTehK",
        "outputId": "b4eabe29-91a5-41f7-f490-e659041173b7"
      },
      "execution_count": 15,
      "outputs": [
        {
          "output_type": "execute_result",
          "data": {
            "text/plain": [
              "1    278\n",
              "0     28\n",
              "Name: status, dtype: int64"
            ]
          },
          "metadata": {},
          "execution_count": 15
        }
      ]
    },
    {
      "cell_type": "code",
      "source": [
        "# Confirmar si los valores 0 y 1 corresponden sólo a sitios legítimos y a phishing respectivamente.\n",
        "df.loc[(df['statistical_report'] == 0),  'status'].value_counts()"
      ],
      "metadata": {
        "colab": {
          "base_uri": "https://localhost:8080/"
        },
        "id": "SC953yRfWRon",
        "outputId": "fd732aaa-3c38-4ad2-d845-1a40de538a72"
      },
      "execution_count": 16,
      "outputs": [
        {
          "output_type": "execute_result",
          "data": {
            "text/plain": [
              "0    5674\n",
              "1    5379\n",
              "Name: status, dtype: int64"
            ]
          },
          "metadata": {},
          "execution_count": 16
        }
      ]
    },
    {
      "cell_type": "code",
      "source": [
        "df.loc[(df['statistical_report'] == 1),  'status'].value_counts()"
      ],
      "metadata": {
        "colab": {
          "base_uri": "https://localhost:8080/"
        },
        "id": "ICVQPEG-VKwz",
        "outputId": "5c112ca0-30ea-4ab6-ea3c-2d9edbc5abd9"
      },
      "execution_count": 17,
      "outputs": [
        {
          "output_type": "execute_result",
          "data": {
            "text/plain": [
              "1    58\n",
              "0    13\n",
              "Name: status, dtype: int64"
            ]
          },
          "metadata": {},
          "execution_count": 17
        }
      ]
    },
    {
      "cell_type": "markdown",
      "source": [
        "Podemos observar que tanto los valores de 0 y 1 representan sitios phishing como legítimos, por tanto imputaré la moda (valor que más se repite) al valor 2."
      ],
      "metadata": {
        "id": "h6gP9dUbWjIr"
      }
    },
    {
      "cell_type": "code",
      "source": [
        "df['statistical_report'].mode()"
      ],
      "metadata": {
        "colab": {
          "base_uri": "https://localhost:8080/"
        },
        "id": "SEB1LiVaWfBD",
        "outputId": "36ecae51-3cb7-4f1e-9ad3-044b19677409"
      },
      "execution_count": 18,
      "outputs": [
        {
          "output_type": "execute_result",
          "data": {
            "text/plain": [
              "0    0\n",
              "Name: statistical_report, dtype: object"
            ]
          },
          "metadata": {},
          "execution_count": 18
        }
      ]
    },
    {
      "cell_type": "code",
      "source": [
        "df['statistical_report'] = df['statistical_report'].replace({2: 0})\n",
        "df['statistical_report'].value_counts()"
      ],
      "metadata": {
        "colab": {
          "base_uri": "https://localhost:8080/"
        },
        "id": "W71cQS-DX0B5",
        "outputId": "dd7b259c-0179-4f58-bd6b-e8140d265831"
      },
      "execution_count": 19,
      "outputs": [
        {
          "output_type": "execute_result",
          "data": {
            "text/plain": [
              "0    11359\n",
              "1       71\n",
              "Name: statistical_report, dtype: int64"
            ]
          },
          "metadata": {},
          "execution_count": 19
        }
      ]
    },
    {
      "cell_type": "markdown",
      "source": [
        "La limpieza de la base de datos concluye."
      ],
      "metadata": {
        "id": "DsmlKSFXYT-o"
      }
    },
    {
      "cell_type": "markdown",
      "source": [
        "## Modelos de Machine Learning"
      ],
      "metadata": {
        "id": "Z5huEGOqW8h2"
      }
    },
    {
      "cell_type": "markdown",
      "source": [
        "### Preprocesamiento"
      ],
      "metadata": {
        "id": "onEVUwKmkHh4"
      }
    },
    {
      "cell_type": "code",
      "source": [
        "df.info()"
      ],
      "metadata": {
        "id": "wu6bEoSICmLA",
        "colab": {
          "base_uri": "https://localhost:8080/"
        },
        "outputId": "70c998bd-ad01-449a-9d29-37b645697fe2"
      },
      "execution_count": 20,
      "outputs": [
        {
          "output_type": "stream",
          "name": "stdout",
          "text": [
            "<class 'pandas.core.frame.DataFrame'>\n",
            "RangeIndex: 11430 entries, 0 to 11429\n",
            "Data columns (total 85 columns):\n",
            " #   Column                      Non-Null Count  Dtype  \n",
            "---  ------                      --------------  -----  \n",
            " 0   url                         11430 non-null  object \n",
            " 1   length_url                  11430 non-null  int64  \n",
            " 2   length_hostname             11430 non-null  int64  \n",
            " 3   ip                          11430 non-null  object \n",
            " 4   nb_dots                     11430 non-null  int64  \n",
            " 5   nb_hyphens                  11430 non-null  int64  \n",
            " 6   nb_at                       11430 non-null  int64  \n",
            " 7   nb_qm                       11430 non-null  int64  \n",
            " 8   nb_and                      11430 non-null  int64  \n",
            " 9   nb_eq                       11430 non-null  int64  \n",
            " 10  nb_underscore               11430 non-null  int64  \n",
            " 11  nb_tilde                    11430 non-null  int64  \n",
            " 12  nb_percent                  11430 non-null  int64  \n",
            " 13  nb_slash                    11430 non-null  int64  \n",
            " 14  nb_star                     11430 non-null  int64  \n",
            " 15  nb_colon                    11430 non-null  int64  \n",
            " 16  nb_comma                    11430 non-null  int64  \n",
            " 17  nb_semicolumn               11430 non-null  int64  \n",
            " 18  nb_dollar                   11430 non-null  int64  \n",
            " 19  nb_space                    11430 non-null  int64  \n",
            " 20  nb_www                      11430 non-null  int64  \n",
            " 21  nb_com                      11430 non-null  int64  \n",
            " 22  nb_dslash                   11430 non-null  int64  \n",
            " 23  http_in_path                11430 non-null  int64  \n",
            " 24  https_token                 11430 non-null  object \n",
            " 25  ratio_digits_url            11430 non-null  float64\n",
            " 26  ratio_digits_host           11430 non-null  float64\n",
            " 27  punycode                    11430 non-null  object \n",
            " 28  port                        11430 non-null  object \n",
            " 29  tld_in_path                 11430 non-null  object \n",
            " 30  tld_in_subdomain            11430 non-null  object \n",
            " 31  abnormal_subdomain          11430 non-null  object \n",
            " 32  nb_subdomains               11430 non-null  int64  \n",
            " 33  prefix_suffix               11430 non-null  object \n",
            " 34  random_domain               11430 non-null  object \n",
            " 35  shortening_service          11430 non-null  object \n",
            " 36  path_extension              11430 non-null  object \n",
            " 37  nb_redirection              11430 non-null  int64  \n",
            " 38  nb_external_redirection     11430 non-null  int64  \n",
            " 39  length_words_raw            11430 non-null  int64  \n",
            " 40  char_repeat                 11430 non-null  int64  \n",
            " 41  shortest_words_raw          11430 non-null  int64  \n",
            " 42  shortest_word_host          11430 non-null  int64  \n",
            " 43  shortest_word_path          11430 non-null  int64  \n",
            " 44  longest_words_raw           11430 non-null  int64  \n",
            " 45  longest_word_host           11430 non-null  int64  \n",
            " 46  longest_word_path           11430 non-null  int64  \n",
            " 47  avg_words_raw               11430 non-null  float64\n",
            " 48  avg_word_host               11430 non-null  float64\n",
            " 49  avg_word_path               11430 non-null  float64\n",
            " 50  phish_hints                 11430 non-null  int64  \n",
            " 51  domain_in_brand             11430 non-null  object \n",
            " 52  brand_in_subdomain          11430 non-null  object \n",
            " 53  brand_in_path               11430 non-null  object \n",
            " 54  suspecious_tld              11430 non-null  object \n",
            " 55  statistical_report          11430 non-null  int64  \n",
            " 56  nb_hyperlinks               11430 non-null  int64  \n",
            " 57  ratio_intHyperlinks         11430 non-null  float64\n",
            " 58  ratio_extHyperlinks         11430 non-null  float64\n",
            " 59  nb_extCSS                   11430 non-null  int64  \n",
            " 60  ratio_extRedirection        11430 non-null  float64\n",
            " 61  ratio_extErrors             11430 non-null  float64\n",
            " 62  login_form                  11430 non-null  object \n",
            " 63  external_favicon            11430 non-null  object \n",
            " 64  links_in_tags               11430 non-null  float64\n",
            " 65  submit_email                11430 non-null  object \n",
            " 66  ratio_intMedia              11430 non-null  float64\n",
            " 67  ratio_extMedia              11430 non-null  float64\n",
            " 68  sfh                         11430 non-null  object \n",
            " 69  iframe                      11430 non-null  object \n",
            " 70  popup_window                11430 non-null  object \n",
            " 71  safe_anchor                 11430 non-null  float64\n",
            " 72  onmouseover                 11430 non-null  object \n",
            " 73  right_clic                  11430 non-null  object \n",
            " 74  empty_title                 11430 non-null  object \n",
            " 75  domain_in_title             11430 non-null  object \n",
            " 76  domain_with_copyright       11430 non-null  object \n",
            " 77  whois_registered_domain     11430 non-null  object \n",
            " 78  domain_registration_length  11430 non-null  int64  \n",
            " 79  domain_age                  11430 non-null  int64  \n",
            " 80  web_traffic                 11430 non-null  int64  \n",
            " 81  dns_record                  11430 non-null  object \n",
            " 82  google_index                11430 non-null  object \n",
            " 83  page_rank                   11430 non-null  int64  \n",
            " 84  status                      11430 non-null  int64  \n",
            "dtypes: float64(13), int64(42), object(30)\n",
            "memory usage: 7.4+ MB\n"
          ]
        }
      ]
    },
    {
      "cell_type": "code",
      "source": [
        "# Separamos los datos en la matriz de características y el vector objetivo\n",
        "# El vector objetivo es \"status\"\n",
        "y = df['status']\n",
        "\n",
        "# En la matriz de características incluiremos todas las columnas excepto la URL, status (el objetivo), domain_registration_length y domain_age\n",
        "# estas últimas columnas tienen valores que no parecen ser reales (miles de años)\n",
        "X = df.drop(columns=['url', 'status', 'domain_registration_length', 'domain_age'])"
      ],
      "metadata": {
        "id": "1hwKoKzmZKAf"
      },
      "execution_count": 21,
      "outputs": []
    },
    {
      "cell_type": "code",
      "source": [
        "X.head()"
      ],
      "metadata": {
        "colab": {
          "base_uri": "https://localhost:8080/",
          "height": 270
        },
        "id": "n3BxTufYZsE1",
        "outputId": "9582b9e9-4aa7-4f02-ad55-845bcebc3733"
      },
      "execution_count": 22,
      "outputs": [
        {
          "output_type": "execute_result",
          "data": {
            "text/plain": [
              "   length_url  length_hostname ip  nb_dots  nb_hyphens  nb_at  nb_qm  nb_and  \\\n",
              "0          37               19  0        3           0      0      0       0   \n",
              "1          77               23  1        1           0      0      0       0   \n",
              "2         126               50  1        4           1      0      1       2   \n",
              "3          18               11  0        2           0      0      0       0   \n",
              "4          55               15  0        2           2      0      0       0   \n",
              "\n",
              "   nb_eq  nb_underscore  nb_tilde  nb_percent  nb_slash  nb_star  nb_colon  \\\n",
              "0      0              0         0           0         3        0         1   \n",
              "1      0              0         0           0         5        0         1   \n",
              "2      3              2         0           0         5        0         1   \n",
              "3      0              0         0           0         2        0         1   \n",
              "4      0              0         0           0         5        0         1   \n",
              "\n",
              "   nb_comma  nb_semicolumn  nb_dollar  nb_space  nb_www  nb_com  nb_dslash  \\\n",
              "0         0              0          0         0       1       0          0   \n",
              "1         0              0          0         0       0       0          0   \n",
              "2         0              0          0         0       0       1          0   \n",
              "3         0              0          0         0       0       0          0   \n",
              "4         0              0          0         0       1       0          0   \n",
              "\n",
              "   http_in_path https_token  ratio_digits_url  ratio_digits_host punycode  \\\n",
              "0             0           1          0.000000                0.0        0   \n",
              "1             0           1          0.220779                0.0        0   \n",
              "2             0           0          0.150794                0.0        0   \n",
              "3             0           1          0.000000                0.0        0   \n",
              "4             0           1          0.000000                0.0        0   \n",
              "\n",
              "  port tld_in_path tld_in_subdomain abnormal_subdomain  nb_subdomains  \\\n",
              "0    0           0                0                  0              3   \n",
              "1    0           0                0                  0              1   \n",
              "2    0           0                1                  0              3   \n",
              "3    0           0                0                  0              2   \n",
              "4    0           0                0                  0              2   \n",
              "\n",
              "  prefix_suffix random_domain shortening_service path_extension  \\\n",
              "0             0             0                  0              0   \n",
              "1             0             0                  0              0   \n",
              "2             1             0                  0              0   \n",
              "3             0             0                  0              0   \n",
              "4             0             0                  0              0   \n",
              "\n",
              "   nb_redirection  nb_external_redirection  length_words_raw  char_repeat  \\\n",
              "0               0                        0                 4            4   \n",
              "1               1                        0                 4            4   \n",
              "2               1                        0                12            2   \n",
              "3               1                        0                 1            0   \n",
              "4               1                        0                 6            3   \n",
              "\n",
              "   shortest_words_raw  shortest_word_host  shortest_word_path  \\\n",
              "0                   3                   3                   3   \n",
              "1                   2                  19                   2   \n",
              "2                   2                   3                   2   \n",
              "3                   5                   5                   0   \n",
              "4                   3                   3                   4   \n",
              "\n",
              "   longest_words_raw  longest_word_host  longest_word_path  avg_words_raw  \\\n",
              "0                 11                 11                  6       5.750000   \n",
              "1                 32                 19                 32      15.750000   \n",
              "2                 17                 13                 17       8.250000   \n",
              "3                  5                  5                  0       5.000000   \n",
              "4                 11                  7                 11       6.333333   \n",
              "\n",
              "   avg_word_host  avg_word_path  phish_hints domain_in_brand  \\\n",
              "0            7.0       4.500000            0               0   \n",
              "1           19.0      14.666667            0               0   \n",
              "2            8.4       8.142857            0               0   \n",
              "3            5.0       0.000000            0               0   \n",
              "4            5.0       7.000000            0               0   \n",
              "\n",
              "  brand_in_subdomain brand_in_path suspecious_tld  statistical_report  \\\n",
              "0                  0             0              0                   0   \n",
              "1                  0             0              0                   0   \n",
              "2                  0             0              0                   0   \n",
              "3                  0             0              0                   0   \n",
              "4                  0             0              0                   0   \n",
              "\n",
              "   nb_hyperlinks  ratio_intHyperlinks  ratio_extHyperlinks  nb_extCSS  \\\n",
              "0             17             0.529412             0.470588          0   \n",
              "1             30             0.966667             0.033333          0   \n",
              "2              4             1.000000             0.000000          0   \n",
              "3            149             0.973154             0.026846          0   \n",
              "4            102             0.470588             0.529412          0   \n",
              "\n",
              "   ratio_extRedirection  ratio_extErrors login_form external_favicon  \\\n",
              "0              0.875000         0.500000          0                0   \n",
              "1              0.000000         0.000000          0                0   \n",
              "2              0.000000         0.000000          0                0   \n",
              "3              0.250000         0.250000          0                0   \n",
              "4              0.537037         0.018519          1                0   \n",
              "\n",
              "   links_in_tags submit_email  ratio_intMedia  ratio_extMedia sfh iframe  \\\n",
              "0      80.000000            0      100.000000        0.000000   0      0   \n",
              "1     100.000000            0       80.000000       20.000000   0      0   \n",
              "2     100.000000            0        0.000000        0.000000   0      0   \n",
              "3     100.000000            0       96.428571        3.571429   0      0   \n",
              "4      76.470588            0        0.000000      100.000000   0      0   \n",
              "\n",
              "  popup_window  safe_anchor onmouseover right_clic empty_title  \\\n",
              "0            0          0.0           0          0           0   \n",
              "1            0        100.0           0          0           0   \n",
              "2            0        100.0           0          0           0   \n",
              "3            0         62.5           0          0           0   \n",
              "4            0          0.0           0          0           0   \n",
              "\n",
              "  domain_in_title domain_with_copyright whois_registered_domain  web_traffic  \\\n",
              "0               0                     1                       0            0   \n",
              "1               1                     0                       0            0   \n",
              "2               1                     0                       0      5828815   \n",
              "3               1                     0                       0       107721   \n",
              "4               0                     1                       0         8725   \n",
              "\n",
              "  dns_record google_index  page_rank  \n",
              "0          1            1          4  \n",
              "1          0            1          2  \n",
              "2          0            1          0  \n",
              "3          0            0          3  \n",
              "4          0            0          6  "
            ],
            "text/html": [
              "\n",
              "  <div id=\"df-b072058c-7a06-476c-a369-45adb8b3e132\">\n",
              "    <div class=\"colab-df-container\">\n",
              "      <div>\n",
              "<style scoped>\n",
              "    .dataframe tbody tr th:only-of-type {\n",
              "        vertical-align: middle;\n",
              "    }\n",
              "\n",
              "    .dataframe tbody tr th {\n",
              "        vertical-align: top;\n",
              "    }\n",
              "\n",
              "    .dataframe thead th {\n",
              "        text-align: right;\n",
              "    }\n",
              "</style>\n",
              "<table border=\"1\" class=\"dataframe\">\n",
              "  <thead>\n",
              "    <tr style=\"text-align: right;\">\n",
              "      <th></th>\n",
              "      <th>length_url</th>\n",
              "      <th>length_hostname</th>\n",
              "      <th>ip</th>\n",
              "      <th>nb_dots</th>\n",
              "      <th>nb_hyphens</th>\n",
              "      <th>nb_at</th>\n",
              "      <th>nb_qm</th>\n",
              "      <th>nb_and</th>\n",
              "      <th>nb_eq</th>\n",
              "      <th>nb_underscore</th>\n",
              "      <th>nb_tilde</th>\n",
              "      <th>nb_percent</th>\n",
              "      <th>nb_slash</th>\n",
              "      <th>nb_star</th>\n",
              "      <th>nb_colon</th>\n",
              "      <th>nb_comma</th>\n",
              "      <th>nb_semicolumn</th>\n",
              "      <th>nb_dollar</th>\n",
              "      <th>nb_space</th>\n",
              "      <th>nb_www</th>\n",
              "      <th>nb_com</th>\n",
              "      <th>nb_dslash</th>\n",
              "      <th>http_in_path</th>\n",
              "      <th>https_token</th>\n",
              "      <th>ratio_digits_url</th>\n",
              "      <th>ratio_digits_host</th>\n",
              "      <th>punycode</th>\n",
              "      <th>port</th>\n",
              "      <th>tld_in_path</th>\n",
              "      <th>tld_in_subdomain</th>\n",
              "      <th>abnormal_subdomain</th>\n",
              "      <th>nb_subdomains</th>\n",
              "      <th>prefix_suffix</th>\n",
              "      <th>random_domain</th>\n",
              "      <th>shortening_service</th>\n",
              "      <th>path_extension</th>\n",
              "      <th>nb_redirection</th>\n",
              "      <th>nb_external_redirection</th>\n",
              "      <th>length_words_raw</th>\n",
              "      <th>char_repeat</th>\n",
              "      <th>shortest_words_raw</th>\n",
              "      <th>shortest_word_host</th>\n",
              "      <th>shortest_word_path</th>\n",
              "      <th>longest_words_raw</th>\n",
              "      <th>longest_word_host</th>\n",
              "      <th>longest_word_path</th>\n",
              "      <th>avg_words_raw</th>\n",
              "      <th>avg_word_host</th>\n",
              "      <th>avg_word_path</th>\n",
              "      <th>phish_hints</th>\n",
              "      <th>domain_in_brand</th>\n",
              "      <th>brand_in_subdomain</th>\n",
              "      <th>brand_in_path</th>\n",
              "      <th>suspecious_tld</th>\n",
              "      <th>statistical_report</th>\n",
              "      <th>nb_hyperlinks</th>\n",
              "      <th>ratio_intHyperlinks</th>\n",
              "      <th>ratio_extHyperlinks</th>\n",
              "      <th>nb_extCSS</th>\n",
              "      <th>ratio_extRedirection</th>\n",
              "      <th>ratio_extErrors</th>\n",
              "      <th>login_form</th>\n",
              "      <th>external_favicon</th>\n",
              "      <th>links_in_tags</th>\n",
              "      <th>submit_email</th>\n",
              "      <th>ratio_intMedia</th>\n",
              "      <th>ratio_extMedia</th>\n",
              "      <th>sfh</th>\n",
              "      <th>iframe</th>\n",
              "      <th>popup_window</th>\n",
              "      <th>safe_anchor</th>\n",
              "      <th>onmouseover</th>\n",
              "      <th>right_clic</th>\n",
              "      <th>empty_title</th>\n",
              "      <th>domain_in_title</th>\n",
              "      <th>domain_with_copyright</th>\n",
              "      <th>whois_registered_domain</th>\n",
              "      <th>web_traffic</th>\n",
              "      <th>dns_record</th>\n",
              "      <th>google_index</th>\n",
              "      <th>page_rank</th>\n",
              "    </tr>\n",
              "  </thead>\n",
              "  <tbody>\n",
              "    <tr>\n",
              "      <th>0</th>\n",
              "      <td>37</td>\n",
              "      <td>19</td>\n",
              "      <td>0</td>\n",
              "      <td>3</td>\n",
              "      <td>0</td>\n",
              "      <td>0</td>\n",
              "      <td>0</td>\n",
              "      <td>0</td>\n",
              "      <td>0</td>\n",
              "      <td>0</td>\n",
              "      <td>0</td>\n",
              "      <td>0</td>\n",
              "      <td>3</td>\n",
              "      <td>0</td>\n",
              "      <td>1</td>\n",
              "      <td>0</td>\n",
              "      <td>0</td>\n",
              "      <td>0</td>\n",
              "      <td>0</td>\n",
              "      <td>1</td>\n",
              "      <td>0</td>\n",
              "      <td>0</td>\n",
              "      <td>0</td>\n",
              "      <td>1</td>\n",
              "      <td>0.000000</td>\n",
              "      <td>0.0</td>\n",
              "      <td>0</td>\n",
              "      <td>0</td>\n",
              "      <td>0</td>\n",
              "      <td>0</td>\n",
              "      <td>0</td>\n",
              "      <td>3</td>\n",
              "      <td>0</td>\n",
              "      <td>0</td>\n",
              "      <td>0</td>\n",
              "      <td>0</td>\n",
              "      <td>0</td>\n",
              "      <td>0</td>\n",
              "      <td>4</td>\n",
              "      <td>4</td>\n",
              "      <td>3</td>\n",
              "      <td>3</td>\n",
              "      <td>3</td>\n",
              "      <td>11</td>\n",
              "      <td>11</td>\n",
              "      <td>6</td>\n",
              "      <td>5.750000</td>\n",
              "      <td>7.0</td>\n",
              "      <td>4.500000</td>\n",
              "      <td>0</td>\n",
              "      <td>0</td>\n",
              "      <td>0</td>\n",
              "      <td>0</td>\n",
              "      <td>0</td>\n",
              "      <td>0</td>\n",
              "      <td>17</td>\n",
              "      <td>0.529412</td>\n",
              "      <td>0.470588</td>\n",
              "      <td>0</td>\n",
              "      <td>0.875000</td>\n",
              "      <td>0.500000</td>\n",
              "      <td>0</td>\n",
              "      <td>0</td>\n",
              "      <td>80.000000</td>\n",
              "      <td>0</td>\n",
              "      <td>100.000000</td>\n",
              "      <td>0.000000</td>\n",
              "      <td>0</td>\n",
              "      <td>0</td>\n",
              "      <td>0</td>\n",
              "      <td>0.0</td>\n",
              "      <td>0</td>\n",
              "      <td>0</td>\n",
              "      <td>0</td>\n",
              "      <td>0</td>\n",
              "      <td>1</td>\n",
              "      <td>0</td>\n",
              "      <td>0</td>\n",
              "      <td>1</td>\n",
              "      <td>1</td>\n",
              "      <td>4</td>\n",
              "    </tr>\n",
              "    <tr>\n",
              "      <th>1</th>\n",
              "      <td>77</td>\n",
              "      <td>23</td>\n",
              "      <td>1</td>\n",
              "      <td>1</td>\n",
              "      <td>0</td>\n",
              "      <td>0</td>\n",
              "      <td>0</td>\n",
              "      <td>0</td>\n",
              "      <td>0</td>\n",
              "      <td>0</td>\n",
              "      <td>0</td>\n",
              "      <td>0</td>\n",
              "      <td>5</td>\n",
              "      <td>0</td>\n",
              "      <td>1</td>\n",
              "      <td>0</td>\n",
              "      <td>0</td>\n",
              "      <td>0</td>\n",
              "      <td>0</td>\n",
              "      <td>0</td>\n",
              "      <td>0</td>\n",
              "      <td>0</td>\n",
              "      <td>0</td>\n",
              "      <td>1</td>\n",
              "      <td>0.220779</td>\n",
              "      <td>0.0</td>\n",
              "      <td>0</td>\n",
              "      <td>0</td>\n",
              "      <td>0</td>\n",
              "      <td>0</td>\n",
              "      <td>0</td>\n",
              "      <td>1</td>\n",
              "      <td>0</td>\n",
              "      <td>0</td>\n",
              "      <td>0</td>\n",
              "      <td>0</td>\n",
              "      <td>1</td>\n",
              "      <td>0</td>\n",
              "      <td>4</td>\n",
              "      <td>4</td>\n",
              "      <td>2</td>\n",
              "      <td>19</td>\n",
              "      <td>2</td>\n",
              "      <td>32</td>\n",
              "      <td>19</td>\n",
              "      <td>32</td>\n",
              "      <td>15.750000</td>\n",
              "      <td>19.0</td>\n",
              "      <td>14.666667</td>\n",
              "      <td>0</td>\n",
              "      <td>0</td>\n",
              "      <td>0</td>\n",
              "      <td>0</td>\n",
              "      <td>0</td>\n",
              "      <td>0</td>\n",
              "      <td>30</td>\n",
              "      <td>0.966667</td>\n",
              "      <td>0.033333</td>\n",
              "      <td>0</td>\n",
              "      <td>0.000000</td>\n",
              "      <td>0.000000</td>\n",
              "      <td>0</td>\n",
              "      <td>0</td>\n",
              "      <td>100.000000</td>\n",
              "      <td>0</td>\n",
              "      <td>80.000000</td>\n",
              "      <td>20.000000</td>\n",
              "      <td>0</td>\n",
              "      <td>0</td>\n",
              "      <td>0</td>\n",
              "      <td>100.0</td>\n",
              "      <td>0</td>\n",
              "      <td>0</td>\n",
              "      <td>0</td>\n",
              "      <td>1</td>\n",
              "      <td>0</td>\n",
              "      <td>0</td>\n",
              "      <td>0</td>\n",
              "      <td>0</td>\n",
              "      <td>1</td>\n",
              "      <td>2</td>\n",
              "    </tr>\n",
              "    <tr>\n",
              "      <th>2</th>\n",
              "      <td>126</td>\n",
              "      <td>50</td>\n",
              "      <td>1</td>\n",
              "      <td>4</td>\n",
              "      <td>1</td>\n",
              "      <td>0</td>\n",
              "      <td>1</td>\n",
              "      <td>2</td>\n",
              "      <td>3</td>\n",
              "      <td>2</td>\n",
              "      <td>0</td>\n",
              "      <td>0</td>\n",
              "      <td>5</td>\n",
              "      <td>0</td>\n",
              "      <td>1</td>\n",
              "      <td>0</td>\n",
              "      <td>0</td>\n",
              "      <td>0</td>\n",
              "      <td>0</td>\n",
              "      <td>0</td>\n",
              "      <td>1</td>\n",
              "      <td>0</td>\n",
              "      <td>0</td>\n",
              "      <td>0</td>\n",
              "      <td>0.150794</td>\n",
              "      <td>0.0</td>\n",
              "      <td>0</td>\n",
              "      <td>0</td>\n",
              "      <td>0</td>\n",
              "      <td>1</td>\n",
              "      <td>0</td>\n",
              "      <td>3</td>\n",
              "      <td>1</td>\n",
              "      <td>0</td>\n",
              "      <td>0</td>\n",
              "      <td>0</td>\n",
              "      <td>1</td>\n",
              "      <td>0</td>\n",
              "      <td>12</td>\n",
              "      <td>2</td>\n",
              "      <td>2</td>\n",
              "      <td>3</td>\n",
              "      <td>2</td>\n",
              "      <td>17</td>\n",
              "      <td>13</td>\n",
              "      <td>17</td>\n",
              "      <td>8.250000</td>\n",
              "      <td>8.4</td>\n",
              "      <td>8.142857</td>\n",
              "      <td>0</td>\n",
              "      <td>0</td>\n",
              "      <td>0</td>\n",
              "      <td>0</td>\n",
              "      <td>0</td>\n",
              "      <td>0</td>\n",
              "      <td>4</td>\n",
              "      <td>1.000000</td>\n",
              "      <td>0.000000</td>\n",
              "      <td>0</td>\n",
              "      <td>0.000000</td>\n",
              "      <td>0.000000</td>\n",
              "      <td>0</td>\n",
              "      <td>0</td>\n",
              "      <td>100.000000</td>\n",
              "      <td>0</td>\n",
              "      <td>0.000000</td>\n",
              "      <td>0.000000</td>\n",
              "      <td>0</td>\n",
              "      <td>0</td>\n",
              "      <td>0</td>\n",
              "      <td>100.0</td>\n",
              "      <td>0</td>\n",
              "      <td>0</td>\n",
              "      <td>0</td>\n",
              "      <td>1</td>\n",
              "      <td>0</td>\n",
              "      <td>0</td>\n",
              "      <td>5828815</td>\n",
              "      <td>0</td>\n",
              "      <td>1</td>\n",
              "      <td>0</td>\n",
              "    </tr>\n",
              "    <tr>\n",
              "      <th>3</th>\n",
              "      <td>18</td>\n",
              "      <td>11</td>\n",
              "      <td>0</td>\n",
              "      <td>2</td>\n",
              "      <td>0</td>\n",
              "      <td>0</td>\n",
              "      <td>0</td>\n",
              "      <td>0</td>\n",
              "      <td>0</td>\n",
              "      <td>0</td>\n",
              "      <td>0</td>\n",
              "      <td>0</td>\n",
              "      <td>2</td>\n",
              "      <td>0</td>\n",
              "      <td>1</td>\n",
              "      <td>0</td>\n",
              "      <td>0</td>\n",
              "      <td>0</td>\n",
              "      <td>0</td>\n",
              "      <td>0</td>\n",
              "      <td>0</td>\n",
              "      <td>0</td>\n",
              "      <td>0</td>\n",
              "      <td>1</td>\n",
              "      <td>0.000000</td>\n",
              "      <td>0.0</td>\n",
              "      <td>0</td>\n",
              "      <td>0</td>\n",
              "      <td>0</td>\n",
              "      <td>0</td>\n",
              "      <td>0</td>\n",
              "      <td>2</td>\n",
              "      <td>0</td>\n",
              "      <td>0</td>\n",
              "      <td>0</td>\n",
              "      <td>0</td>\n",
              "      <td>1</td>\n",
              "      <td>0</td>\n",
              "      <td>1</td>\n",
              "      <td>0</td>\n",
              "      <td>5</td>\n",
              "      <td>5</td>\n",
              "      <td>0</td>\n",
              "      <td>5</td>\n",
              "      <td>5</td>\n",
              "      <td>0</td>\n",
              "      <td>5.000000</td>\n",
              "      <td>5.0</td>\n",
              "      <td>0.000000</td>\n",
              "      <td>0</td>\n",
              "      <td>0</td>\n",
              "      <td>0</td>\n",
              "      <td>0</td>\n",
              "      <td>0</td>\n",
              "      <td>0</td>\n",
              "      <td>149</td>\n",
              "      <td>0.973154</td>\n",
              "      <td>0.026846</td>\n",
              "      <td>0</td>\n",
              "      <td>0.250000</td>\n",
              "      <td>0.250000</td>\n",
              "      <td>0</td>\n",
              "      <td>0</td>\n",
              "      <td>100.000000</td>\n",
              "      <td>0</td>\n",
              "      <td>96.428571</td>\n",
              "      <td>3.571429</td>\n",
              "      <td>0</td>\n",
              "      <td>0</td>\n",
              "      <td>0</td>\n",
              "      <td>62.5</td>\n",
              "      <td>0</td>\n",
              "      <td>0</td>\n",
              "      <td>0</td>\n",
              "      <td>1</td>\n",
              "      <td>0</td>\n",
              "      <td>0</td>\n",
              "      <td>107721</td>\n",
              "      <td>0</td>\n",
              "      <td>0</td>\n",
              "      <td>3</td>\n",
              "    </tr>\n",
              "    <tr>\n",
              "      <th>4</th>\n",
              "      <td>55</td>\n",
              "      <td>15</td>\n",
              "      <td>0</td>\n",
              "      <td>2</td>\n",
              "      <td>2</td>\n",
              "      <td>0</td>\n",
              "      <td>0</td>\n",
              "      <td>0</td>\n",
              "      <td>0</td>\n",
              "      <td>0</td>\n",
              "      <td>0</td>\n",
              "      <td>0</td>\n",
              "      <td>5</td>\n",
              "      <td>0</td>\n",
              "      <td>1</td>\n",
              "      <td>0</td>\n",
              "      <td>0</td>\n",
              "      <td>0</td>\n",
              "      <td>0</td>\n",
              "      <td>1</td>\n",
              "      <td>0</td>\n",
              "      <td>0</td>\n",
              "      <td>0</td>\n",
              "      <td>1</td>\n",
              "      <td>0.000000</td>\n",
              "      <td>0.0</td>\n",
              "      <td>0</td>\n",
              "      <td>0</td>\n",
              "      <td>0</td>\n",
              "      <td>0</td>\n",
              "      <td>0</td>\n",
              "      <td>2</td>\n",
              "      <td>0</td>\n",
              "      <td>0</td>\n",
              "      <td>0</td>\n",
              "      <td>0</td>\n",
              "      <td>1</td>\n",
              "      <td>0</td>\n",
              "      <td>6</td>\n",
              "      <td>3</td>\n",
              "      <td>3</td>\n",
              "      <td>3</td>\n",
              "      <td>4</td>\n",
              "      <td>11</td>\n",
              "      <td>7</td>\n",
              "      <td>11</td>\n",
              "      <td>6.333333</td>\n",
              "      <td>5.0</td>\n",
              "      <td>7.000000</td>\n",
              "      <td>0</td>\n",
              "      <td>0</td>\n",
              "      <td>0</td>\n",
              "      <td>0</td>\n",
              "      <td>0</td>\n",
              "      <td>0</td>\n",
              "      <td>102</td>\n",
              "      <td>0.470588</td>\n",
              "      <td>0.529412</td>\n",
              "      <td>0</td>\n",
              "      <td>0.537037</td>\n",
              "      <td>0.018519</td>\n",
              "      <td>1</td>\n",
              "      <td>0</td>\n",
              "      <td>76.470588</td>\n",
              "      <td>0</td>\n",
              "      <td>0.000000</td>\n",
              "      <td>100.000000</td>\n",
              "      <td>0</td>\n",
              "      <td>0</td>\n",
              "      <td>0</td>\n",
              "      <td>0.0</td>\n",
              "      <td>0</td>\n",
              "      <td>0</td>\n",
              "      <td>0</td>\n",
              "      <td>0</td>\n",
              "      <td>1</td>\n",
              "      <td>0</td>\n",
              "      <td>8725</td>\n",
              "      <td>0</td>\n",
              "      <td>0</td>\n",
              "      <td>6</td>\n",
              "    </tr>\n",
              "  </tbody>\n",
              "</table>\n",
              "</div>\n",
              "      <button class=\"colab-df-convert\" onclick=\"convertToInteractive('df-b072058c-7a06-476c-a369-45adb8b3e132')\"\n",
              "              title=\"Convert this dataframe to an interactive table.\"\n",
              "              style=\"display:none;\">\n",
              "        \n",
              "  <svg xmlns=\"http://www.w3.org/2000/svg\" height=\"24px\"viewBox=\"0 0 24 24\"\n",
              "       width=\"24px\">\n",
              "    <path d=\"M0 0h24v24H0V0z\" fill=\"none\"/>\n",
              "    <path d=\"M18.56 5.44l.94 2.06.94-2.06 2.06-.94-2.06-.94-.94-2.06-.94 2.06-2.06.94zm-11 1L8.5 8.5l.94-2.06 2.06-.94-2.06-.94L8.5 2.5l-.94 2.06-2.06.94zm10 10l.94 2.06.94-2.06 2.06-.94-2.06-.94-.94-2.06-.94 2.06-2.06.94z\"/><path d=\"M17.41 7.96l-1.37-1.37c-.4-.4-.92-.59-1.43-.59-.52 0-1.04.2-1.43.59L10.3 9.45l-7.72 7.72c-.78.78-.78 2.05 0 2.83L4 21.41c.39.39.9.59 1.41.59.51 0 1.02-.2 1.41-.59l7.78-7.78 2.81-2.81c.8-.78.8-2.07 0-2.86zM5.41 20L4 18.59l7.72-7.72 1.47 1.35L5.41 20z\"/>\n",
              "  </svg>\n",
              "      </button>\n",
              "      \n",
              "  <style>\n",
              "    .colab-df-container {\n",
              "      display:flex;\n",
              "      flex-wrap:wrap;\n",
              "      gap: 12px;\n",
              "    }\n",
              "\n",
              "    .colab-df-convert {\n",
              "      background-color: #E8F0FE;\n",
              "      border: none;\n",
              "      border-radius: 50%;\n",
              "      cursor: pointer;\n",
              "      display: none;\n",
              "      fill: #1967D2;\n",
              "      height: 32px;\n",
              "      padding: 0 0 0 0;\n",
              "      width: 32px;\n",
              "    }\n",
              "\n",
              "    .colab-df-convert:hover {\n",
              "      background-color: #E2EBFA;\n",
              "      box-shadow: 0px 1px 2px rgba(60, 64, 67, 0.3), 0px 1px 3px 1px rgba(60, 64, 67, 0.15);\n",
              "      fill: #174EA6;\n",
              "    }\n",
              "\n",
              "    [theme=dark] .colab-df-convert {\n",
              "      background-color: #3B4455;\n",
              "      fill: #D2E3FC;\n",
              "    }\n",
              "\n",
              "    [theme=dark] .colab-df-convert:hover {\n",
              "      background-color: #434B5C;\n",
              "      box-shadow: 0px 1px 3px 1px rgba(0, 0, 0, 0.15);\n",
              "      filter: drop-shadow(0px 1px 2px rgba(0, 0, 0, 0.3));\n",
              "      fill: #FFFFFF;\n",
              "    }\n",
              "  </style>\n",
              "\n",
              "      <script>\n",
              "        const buttonEl =\n",
              "          document.querySelector('#df-b072058c-7a06-476c-a369-45adb8b3e132 button.colab-df-convert');\n",
              "        buttonEl.style.display =\n",
              "          google.colab.kernel.accessAllowed ? 'block' : 'none';\n",
              "\n",
              "        async function convertToInteractive(key) {\n",
              "          const element = document.querySelector('#df-b072058c-7a06-476c-a369-45adb8b3e132');\n",
              "          const dataTable =\n",
              "            await google.colab.kernel.invokeFunction('convertToInteractive',\n",
              "                                                     [key], {});\n",
              "          if (!dataTable) return;\n",
              "\n",
              "          const docLinkHtml = 'Like what you see? Visit the ' +\n",
              "            '<a target=\"_blank\" href=https://colab.research.google.com/notebooks/data_table.ipynb>data table notebook</a>'\n",
              "            + ' to learn more about interactive tables.';\n",
              "          element.innerHTML = '';\n",
              "          dataTable['output_type'] = 'display_data';\n",
              "          await google.colab.output.renderOutput(dataTable, element);\n",
              "          const docLink = document.createElement('div');\n",
              "          docLink.innerHTML = docLinkHtml;\n",
              "          element.appendChild(docLink);\n",
              "        }\n",
              "      </script>\n",
              "    </div>\n",
              "  </div>\n",
              "  "
            ]
          },
          "metadata": {},
          "execution_count": 22
        }
      ]
    },
    {
      "cell_type": "code",
      "source": [
        "X.shape"
      ],
      "metadata": {
        "colab": {
          "base_uri": "https://localhost:8080/"
        },
        "id": "n2vllQJnZs4u",
        "outputId": "dea014c0-7151-461d-f0d0-3a39b87daa4f"
      },
      "execution_count": 23,
      "outputs": [
        {
          "output_type": "execute_result",
          "data": {
            "text/plain": [
              "(11430, 81)"
            ]
          },
          "metadata": {},
          "execution_count": 23
        }
      ]
    },
    {
      "cell_type": "markdown",
      "source": [
        "Todas las variables tipo objeto ya se encuentran codificadas (todas son binarias), para el preprocesamiento sólo escalaré las variables numéricas."
      ],
      "metadata": {
        "id": "O1vFpwzod0lI"
      }
    },
    {
      "cell_type": "code",
      "source": [
        "# Creo un selector para las variables numéricas\n",
        "num_selector = make_column_selector(dtype_include='number')\n",
        "\n",
        "# Selecciono solo las variables numéricas\n",
        "num_cols = num_selector(X)\n",
        "num_cols"
      ],
      "metadata": {
        "colab": {
          "base_uri": "https://localhost:8080/"
        },
        "id": "xNLeDB2gcQ9R",
        "outputId": "2b65e300-2b26-442e-ca63-f7e0096e0a02"
      },
      "execution_count": 24,
      "outputs": [
        {
          "output_type": "execute_result",
          "data": {
            "text/plain": [
              "['length_url',\n",
              " 'length_hostname',\n",
              " 'nb_dots',\n",
              " 'nb_hyphens',\n",
              " 'nb_at',\n",
              " 'nb_qm',\n",
              " 'nb_and',\n",
              " 'nb_eq',\n",
              " 'nb_underscore',\n",
              " 'nb_tilde',\n",
              " 'nb_percent',\n",
              " 'nb_slash',\n",
              " 'nb_star',\n",
              " 'nb_colon',\n",
              " 'nb_comma',\n",
              " 'nb_semicolumn',\n",
              " 'nb_dollar',\n",
              " 'nb_space',\n",
              " 'nb_www',\n",
              " 'nb_com',\n",
              " 'nb_dslash',\n",
              " 'http_in_path',\n",
              " 'ratio_digits_url',\n",
              " 'ratio_digits_host',\n",
              " 'nb_subdomains',\n",
              " 'nb_redirection',\n",
              " 'nb_external_redirection',\n",
              " 'length_words_raw',\n",
              " 'char_repeat',\n",
              " 'shortest_words_raw',\n",
              " 'shortest_word_host',\n",
              " 'shortest_word_path',\n",
              " 'longest_words_raw',\n",
              " 'longest_word_host',\n",
              " 'longest_word_path',\n",
              " 'avg_words_raw',\n",
              " 'avg_word_host',\n",
              " 'avg_word_path',\n",
              " 'phish_hints',\n",
              " 'statistical_report',\n",
              " 'nb_hyperlinks',\n",
              " 'ratio_intHyperlinks',\n",
              " 'ratio_extHyperlinks',\n",
              " 'nb_extCSS',\n",
              " 'ratio_extRedirection',\n",
              " 'ratio_extErrors',\n",
              " 'links_in_tags',\n",
              " 'ratio_intMedia',\n",
              " 'ratio_extMedia',\n",
              " 'safe_anchor',\n",
              " 'web_traffic',\n",
              " 'page_rank']"
            ]
          },
          "metadata": {},
          "execution_count": 24
        }
      ]
    },
    {
      "cell_type": "code",
      "source": [
        "# Instanciar el scaler\n",
        "scaler = StandardScaler()\n",
        "\n",
        "# Adjustamos y transformamos sólo las variables numéricas en nuestro DataFrame\n",
        "X[num_cols] = scaler.fit_transform(X[num_cols])\n",
        "X.head()"
      ],
      "metadata": {
        "colab": {
          "base_uri": "https://localhost:8080/",
          "height": 270
        },
        "id": "q0ZYHBYYeM4e",
        "outputId": "ad748949-f3f5-4261-decc-b201d1a9e234"
      },
      "execution_count": 25,
      "outputs": [
        {
          "output_type": "execute_result",
          "data": {
            "text/plain": [
              "   length_url  length_hostname ip   nb_dots  nb_hyphens     nb_at     nb_qm  \\\n",
              "0   -0.436327        -0.193964  0  0.379116   -0.477984 -0.142915 -0.387464   \n",
              "1    0.287067         0.177207  1 -1.081136   -0.477984 -0.142915 -0.387464   \n",
              "2    1.173224         2.682613  1  1.109242    0.001174 -0.142915  2.356473   \n",
              "3   -0.779940        -0.936306  0 -0.351010   -0.477984 -0.142915 -0.387464   \n",
              "4   -0.110800        -0.565135  0 -0.351010    0.480332 -0.142915 -0.387464   \n",
              "\n",
              "     nb_and     nb_eq  nb_underscore  nb_tilde  nb_percent  nb_slash  \\\n",
              "0 -0.197604 -0.293683      -0.295128 -0.081815   -0.083946 -0.685161   \n",
              "1 -0.197604 -0.293683      -0.295128 -0.081815   -0.083946  0.377443   \n",
              "2  2.237556  2.711505       1.534217 -0.081815   -0.083946  0.377443   \n",
              "3 -0.197604 -0.293683      -0.295128 -0.081815   -0.083946 -1.216463   \n",
              "4 -0.197604 -0.293683      -0.295128 -0.081815   -0.083946  0.377443   \n",
              "\n",
              "    nb_star  nb_colon  nb_comma  nb_semicolumn  nb_dollar  nb_space    nb_www  \\\n",
              "0 -0.026465 -0.116135 -0.038984      -0.104139  -0.024962 -0.092717  1.098907   \n",
              "1 -0.026465 -0.116135 -0.038984      -0.104139  -0.024962 -0.092717 -0.893559   \n",
              "2 -0.026465 -0.116135 -0.038984      -0.104139  -0.024962 -0.092717 -0.893559   \n",
              "3 -0.026465 -0.116135 -0.038984      -0.104139  -0.024962 -0.092717 -0.893559   \n",
              "4 -0.026465 -0.116135 -0.038984      -0.104139  -0.024962 -0.092717  1.098907   \n",
              "\n",
              "     nb_com  nb_dslash  http_in_path https_token  ratio_digits_url  \\\n",
              "0 -0.337729  -0.081271     -0.098673           1         -0.594651   \n",
              "1 -0.337729  -0.081271     -0.098673           1          1.876053   \n",
              "2  2.300854  -0.081271     -0.098673           0          1.092856   \n",
              "3 -0.337729  -0.081271     -0.098673           1         -0.594651   \n",
              "4 -0.337729  -0.081271     -0.098673           1         -0.594651   \n",
              "\n",
              "   ratio_digits_host punycode port tld_in_path tld_in_subdomain  \\\n",
              "0          -0.267868        0    0           0                0   \n",
              "1          -0.267868        0    0           0                0   \n",
              "2          -0.267868        0    0           0                1   \n",
              "3          -0.267868        0    0           0                0   \n",
              "4          -0.267868        0    0           0                0   \n",
              "\n",
              "  abnormal_subdomain  nb_subdomains prefix_suffix random_domain  \\\n",
              "0                  0       1.206090             0             0   \n",
              "1                  0      -1.933425             0             0   \n",
              "2                  0       1.206090             1             0   \n",
              "3                  0      -0.363667             0             0   \n",
              "4                  0      -0.363667             0             0   \n",
              "\n",
              "  shortening_service path_extension  nb_redirection  nb_external_redirection  \\\n",
              "0                  0              0       -0.720143                 -0.05621   \n",
              "1                  0              0        0.725201                 -0.05621   \n",
              "2                  0              0        0.725201                 -0.05621   \n",
              "3                  0              0        0.725201                 -0.05621   \n",
              "4                  0              0        0.725201                 -0.05621   \n",
              "\n",
              "   length_words_raw  char_repeat  shortest_words_raw  shortest_word_host  \\\n",
              "0         -0.400711     0.224909           -0.057562           -0.512450   \n",
              "1         -0.400711     0.224909           -0.509749            3.547014   \n",
              "2          1.035010    -0.194490           -0.509749           -0.512450   \n",
              "3         -0.939107    -0.613890            0.846812           -0.005017   \n",
              "4         -0.041781     0.015209           -0.057562           -0.512450   \n",
              "\n",
              "   shortest_word_path  longest_words_raw  longest_word_host  \\\n",
              "0            0.200505          -0.198974           0.107876   \n",
              "1           -0.133086           0.751998           1.730002   \n",
              "2           -0.133086           0.072732           0.513407   \n",
              "3           -0.800270          -0.470680          -1.108719   \n",
              "4            0.534097          -0.198974          -0.703187   \n",
              "\n",
              "   longest_word_path  avg_words_raw  avg_word_host  avg_word_path  \\\n",
              "0          -0.197666      -0.363968      -0.189497      -0.082894   \n",
              "1           0.929003       2.048202       3.164071       1.339666   \n",
              "2           0.279002       0.239075       0.201752       0.426829   \n",
              "3          -0.457666      -0.544881      -0.748425      -0.712552   \n",
              "4           0.019001      -0.223258      -0.748425       0.266916   \n",
              "\n",
              "   phish_hints domain_in_brand brand_in_subdomain brand_in_path  \\\n",
              "0    -0.388973               0                  0             0   \n",
              "1    -0.388973               0                  0             0   \n",
              "2    -0.388973               0                  0             0   \n",
              "3    -0.388973               0                  0             0   \n",
              "4    -0.388973               0                  0             0   \n",
              "\n",
              "  suspecious_tld  statistical_report  nb_hyperlinks  ratio_intHyperlinks  \\\n",
              "0              0            -0.07906      -0.420926            -0.194034   \n",
              "1              0            -0.07906      -0.342965             0.967464   \n",
              "2              0            -0.07906      -0.498886             1.056008   \n",
              "3              0            -0.07906       0.370674             0.984697   \n",
              "4              0            -0.07906       0.088816            -0.350289   \n",
              "\n",
              "   ratio_extHyperlinks  nb_extCSS  ratio_extRedirection  ratio_extErrors  \\\n",
              "0             0.605943  -0.284507              2.687711         2.801064   \n",
              "1            -0.760717  -0.284507             -0.596511        -0.399922   \n",
              "2            -0.864902  -0.284507             -0.596511        -0.399922   \n",
              "3            -0.780995  -0.284507              0.341838         1.200571   \n",
              "4             0.789798  -0.284507              1.419202        -0.281367   \n",
              "\n",
              "  login_form external_favicon  links_in_tags submit_email  ratio_intMedia  \\\n",
              "0          0                0       0.674877            0        1.235290   \n",
              "1          0                0       1.156557            0        0.802838   \n",
              "2          0                0       1.156557            0       -0.926971   \n",
              "3          0                0       1.156557            0        1.158067   \n",
              "4          1                0       0.589875            0       -0.926971   \n",
              "\n",
              "   ratio_extMedia sfh iframe popup_window  safe_anchor onmouseover right_clic  \\\n",
              "0       -0.605350   0      0            0    -0.948614           0          0   \n",
              "1       -0.084312   0      0            0     1.610785           0          0   \n",
              "2       -0.605350   0      0            0     1.610785           0          0   \n",
              "3       -0.512307   0      0            0     0.651011           0          0   \n",
              "4        1.999841   0      0            0    -0.948614           0          0   \n",
              "\n",
              "  empty_title domain_in_title domain_with_copyright whois_registered_domain  \\\n",
              "0           0               0                     1                       0   \n",
              "1           0               1                     0                       0   \n",
              "2           0               1                     0                       0   \n",
              "3           0               1                     0                       0   \n",
              "4           0               0                     1                       0   \n",
              "\n",
              "   web_traffic dns_record google_index  page_rank  \n",
              "0    -0.429340          1            1   0.320974  \n",
              "1    -0.429340          0            1  -0.467407  \n",
              "2     2.491612          0            1  -1.255788  \n",
              "3    -0.375359          0            0  -0.073217  \n",
              "4    -0.424968          0            0   1.109355  "
            ],
            "text/html": [
              "\n",
              "  <div id=\"df-a79d97b2-9780-48a5-90bb-5ab8cd77ae12\">\n",
              "    <div class=\"colab-df-container\">\n",
              "      <div>\n",
              "<style scoped>\n",
              "    .dataframe tbody tr th:only-of-type {\n",
              "        vertical-align: middle;\n",
              "    }\n",
              "\n",
              "    .dataframe tbody tr th {\n",
              "        vertical-align: top;\n",
              "    }\n",
              "\n",
              "    .dataframe thead th {\n",
              "        text-align: right;\n",
              "    }\n",
              "</style>\n",
              "<table border=\"1\" class=\"dataframe\">\n",
              "  <thead>\n",
              "    <tr style=\"text-align: right;\">\n",
              "      <th></th>\n",
              "      <th>length_url</th>\n",
              "      <th>length_hostname</th>\n",
              "      <th>ip</th>\n",
              "      <th>nb_dots</th>\n",
              "      <th>nb_hyphens</th>\n",
              "      <th>nb_at</th>\n",
              "      <th>nb_qm</th>\n",
              "      <th>nb_and</th>\n",
              "      <th>nb_eq</th>\n",
              "      <th>nb_underscore</th>\n",
              "      <th>nb_tilde</th>\n",
              "      <th>nb_percent</th>\n",
              "      <th>nb_slash</th>\n",
              "      <th>nb_star</th>\n",
              "      <th>nb_colon</th>\n",
              "      <th>nb_comma</th>\n",
              "      <th>nb_semicolumn</th>\n",
              "      <th>nb_dollar</th>\n",
              "      <th>nb_space</th>\n",
              "      <th>nb_www</th>\n",
              "      <th>nb_com</th>\n",
              "      <th>nb_dslash</th>\n",
              "      <th>http_in_path</th>\n",
              "      <th>https_token</th>\n",
              "      <th>ratio_digits_url</th>\n",
              "      <th>ratio_digits_host</th>\n",
              "      <th>punycode</th>\n",
              "      <th>port</th>\n",
              "      <th>tld_in_path</th>\n",
              "      <th>tld_in_subdomain</th>\n",
              "      <th>abnormal_subdomain</th>\n",
              "      <th>nb_subdomains</th>\n",
              "      <th>prefix_suffix</th>\n",
              "      <th>random_domain</th>\n",
              "      <th>shortening_service</th>\n",
              "      <th>path_extension</th>\n",
              "      <th>nb_redirection</th>\n",
              "      <th>nb_external_redirection</th>\n",
              "      <th>length_words_raw</th>\n",
              "      <th>char_repeat</th>\n",
              "      <th>shortest_words_raw</th>\n",
              "      <th>shortest_word_host</th>\n",
              "      <th>shortest_word_path</th>\n",
              "      <th>longest_words_raw</th>\n",
              "      <th>longest_word_host</th>\n",
              "      <th>longest_word_path</th>\n",
              "      <th>avg_words_raw</th>\n",
              "      <th>avg_word_host</th>\n",
              "      <th>avg_word_path</th>\n",
              "      <th>phish_hints</th>\n",
              "      <th>domain_in_brand</th>\n",
              "      <th>brand_in_subdomain</th>\n",
              "      <th>brand_in_path</th>\n",
              "      <th>suspecious_tld</th>\n",
              "      <th>statistical_report</th>\n",
              "      <th>nb_hyperlinks</th>\n",
              "      <th>ratio_intHyperlinks</th>\n",
              "      <th>ratio_extHyperlinks</th>\n",
              "      <th>nb_extCSS</th>\n",
              "      <th>ratio_extRedirection</th>\n",
              "      <th>ratio_extErrors</th>\n",
              "      <th>login_form</th>\n",
              "      <th>external_favicon</th>\n",
              "      <th>links_in_tags</th>\n",
              "      <th>submit_email</th>\n",
              "      <th>ratio_intMedia</th>\n",
              "      <th>ratio_extMedia</th>\n",
              "      <th>sfh</th>\n",
              "      <th>iframe</th>\n",
              "      <th>popup_window</th>\n",
              "      <th>safe_anchor</th>\n",
              "      <th>onmouseover</th>\n",
              "      <th>right_clic</th>\n",
              "      <th>empty_title</th>\n",
              "      <th>domain_in_title</th>\n",
              "      <th>domain_with_copyright</th>\n",
              "      <th>whois_registered_domain</th>\n",
              "      <th>web_traffic</th>\n",
              "      <th>dns_record</th>\n",
              "      <th>google_index</th>\n",
              "      <th>page_rank</th>\n",
              "    </tr>\n",
              "  </thead>\n",
              "  <tbody>\n",
              "    <tr>\n",
              "      <th>0</th>\n",
              "      <td>-0.436327</td>\n",
              "      <td>-0.193964</td>\n",
              "      <td>0</td>\n",
              "      <td>0.379116</td>\n",
              "      <td>-0.477984</td>\n",
              "      <td>-0.142915</td>\n",
              "      <td>-0.387464</td>\n",
              "      <td>-0.197604</td>\n",
              "      <td>-0.293683</td>\n",
              "      <td>-0.295128</td>\n",
              "      <td>-0.081815</td>\n",
              "      <td>-0.083946</td>\n",
              "      <td>-0.685161</td>\n",
              "      <td>-0.026465</td>\n",
              "      <td>-0.116135</td>\n",
              "      <td>-0.038984</td>\n",
              "      <td>-0.104139</td>\n",
              "      <td>-0.024962</td>\n",
              "      <td>-0.092717</td>\n",
              "      <td>1.098907</td>\n",
              "      <td>-0.337729</td>\n",
              "      <td>-0.081271</td>\n",
              "      <td>-0.098673</td>\n",
              "      <td>1</td>\n",
              "      <td>-0.594651</td>\n",
              "      <td>-0.267868</td>\n",
              "      <td>0</td>\n",
              "      <td>0</td>\n",
              "      <td>0</td>\n",
              "      <td>0</td>\n",
              "      <td>0</td>\n",
              "      <td>1.206090</td>\n",
              "      <td>0</td>\n",
              "      <td>0</td>\n",
              "      <td>0</td>\n",
              "      <td>0</td>\n",
              "      <td>-0.720143</td>\n",
              "      <td>-0.05621</td>\n",
              "      <td>-0.400711</td>\n",
              "      <td>0.224909</td>\n",
              "      <td>-0.057562</td>\n",
              "      <td>-0.512450</td>\n",
              "      <td>0.200505</td>\n",
              "      <td>-0.198974</td>\n",
              "      <td>0.107876</td>\n",
              "      <td>-0.197666</td>\n",
              "      <td>-0.363968</td>\n",
              "      <td>-0.189497</td>\n",
              "      <td>-0.082894</td>\n",
              "      <td>-0.388973</td>\n",
              "      <td>0</td>\n",
              "      <td>0</td>\n",
              "      <td>0</td>\n",
              "      <td>0</td>\n",
              "      <td>-0.07906</td>\n",
              "      <td>-0.420926</td>\n",
              "      <td>-0.194034</td>\n",
              "      <td>0.605943</td>\n",
              "      <td>-0.284507</td>\n",
              "      <td>2.687711</td>\n",
              "      <td>2.801064</td>\n",
              "      <td>0</td>\n",
              "      <td>0</td>\n",
              "      <td>0.674877</td>\n",
              "      <td>0</td>\n",
              "      <td>1.235290</td>\n",
              "      <td>-0.605350</td>\n",
              "      <td>0</td>\n",
              "      <td>0</td>\n",
              "      <td>0</td>\n",
              "      <td>-0.948614</td>\n",
              "      <td>0</td>\n",
              "      <td>0</td>\n",
              "      <td>0</td>\n",
              "      <td>0</td>\n",
              "      <td>1</td>\n",
              "      <td>0</td>\n",
              "      <td>-0.429340</td>\n",
              "      <td>1</td>\n",
              "      <td>1</td>\n",
              "      <td>0.320974</td>\n",
              "    </tr>\n",
              "    <tr>\n",
              "      <th>1</th>\n",
              "      <td>0.287067</td>\n",
              "      <td>0.177207</td>\n",
              "      <td>1</td>\n",
              "      <td>-1.081136</td>\n",
              "      <td>-0.477984</td>\n",
              "      <td>-0.142915</td>\n",
              "      <td>-0.387464</td>\n",
              "      <td>-0.197604</td>\n",
              "      <td>-0.293683</td>\n",
              "      <td>-0.295128</td>\n",
              "      <td>-0.081815</td>\n",
              "      <td>-0.083946</td>\n",
              "      <td>0.377443</td>\n",
              "      <td>-0.026465</td>\n",
              "      <td>-0.116135</td>\n",
              "      <td>-0.038984</td>\n",
              "      <td>-0.104139</td>\n",
              "      <td>-0.024962</td>\n",
              "      <td>-0.092717</td>\n",
              "      <td>-0.893559</td>\n",
              "      <td>-0.337729</td>\n",
              "      <td>-0.081271</td>\n",
              "      <td>-0.098673</td>\n",
              "      <td>1</td>\n",
              "      <td>1.876053</td>\n",
              "      <td>-0.267868</td>\n",
              "      <td>0</td>\n",
              "      <td>0</td>\n",
              "      <td>0</td>\n",
              "      <td>0</td>\n",
              "      <td>0</td>\n",
              "      <td>-1.933425</td>\n",
              "      <td>0</td>\n",
              "      <td>0</td>\n",
              "      <td>0</td>\n",
              "      <td>0</td>\n",
              "      <td>0.725201</td>\n",
              "      <td>-0.05621</td>\n",
              "      <td>-0.400711</td>\n",
              "      <td>0.224909</td>\n",
              "      <td>-0.509749</td>\n",
              "      <td>3.547014</td>\n",
              "      <td>-0.133086</td>\n",
              "      <td>0.751998</td>\n",
              "      <td>1.730002</td>\n",
              "      <td>0.929003</td>\n",
              "      <td>2.048202</td>\n",
              "      <td>3.164071</td>\n",
              "      <td>1.339666</td>\n",
              "      <td>-0.388973</td>\n",
              "      <td>0</td>\n",
              "      <td>0</td>\n",
              "      <td>0</td>\n",
              "      <td>0</td>\n",
              "      <td>-0.07906</td>\n",
              "      <td>-0.342965</td>\n",
              "      <td>0.967464</td>\n",
              "      <td>-0.760717</td>\n",
              "      <td>-0.284507</td>\n",
              "      <td>-0.596511</td>\n",
              "      <td>-0.399922</td>\n",
              "      <td>0</td>\n",
              "      <td>0</td>\n",
              "      <td>1.156557</td>\n",
              "      <td>0</td>\n",
              "      <td>0.802838</td>\n",
              "      <td>-0.084312</td>\n",
              "      <td>0</td>\n",
              "      <td>0</td>\n",
              "      <td>0</td>\n",
              "      <td>1.610785</td>\n",
              "      <td>0</td>\n",
              "      <td>0</td>\n",
              "      <td>0</td>\n",
              "      <td>1</td>\n",
              "      <td>0</td>\n",
              "      <td>0</td>\n",
              "      <td>-0.429340</td>\n",
              "      <td>0</td>\n",
              "      <td>1</td>\n",
              "      <td>-0.467407</td>\n",
              "    </tr>\n",
              "    <tr>\n",
              "      <th>2</th>\n",
              "      <td>1.173224</td>\n",
              "      <td>2.682613</td>\n",
              "      <td>1</td>\n",
              "      <td>1.109242</td>\n",
              "      <td>0.001174</td>\n",
              "      <td>-0.142915</td>\n",
              "      <td>2.356473</td>\n",
              "      <td>2.237556</td>\n",
              "      <td>2.711505</td>\n",
              "      <td>1.534217</td>\n",
              "      <td>-0.081815</td>\n",
              "      <td>-0.083946</td>\n",
              "      <td>0.377443</td>\n",
              "      <td>-0.026465</td>\n",
              "      <td>-0.116135</td>\n",
              "      <td>-0.038984</td>\n",
              "      <td>-0.104139</td>\n",
              "      <td>-0.024962</td>\n",
              "      <td>-0.092717</td>\n",
              "      <td>-0.893559</td>\n",
              "      <td>2.300854</td>\n",
              "      <td>-0.081271</td>\n",
              "      <td>-0.098673</td>\n",
              "      <td>0</td>\n",
              "      <td>1.092856</td>\n",
              "      <td>-0.267868</td>\n",
              "      <td>0</td>\n",
              "      <td>0</td>\n",
              "      <td>0</td>\n",
              "      <td>1</td>\n",
              "      <td>0</td>\n",
              "      <td>1.206090</td>\n",
              "      <td>1</td>\n",
              "      <td>0</td>\n",
              "      <td>0</td>\n",
              "      <td>0</td>\n",
              "      <td>0.725201</td>\n",
              "      <td>-0.05621</td>\n",
              "      <td>1.035010</td>\n",
              "      <td>-0.194490</td>\n",
              "      <td>-0.509749</td>\n",
              "      <td>-0.512450</td>\n",
              "      <td>-0.133086</td>\n",
              "      <td>0.072732</td>\n",
              "      <td>0.513407</td>\n",
              "      <td>0.279002</td>\n",
              "      <td>0.239075</td>\n",
              "      <td>0.201752</td>\n",
              "      <td>0.426829</td>\n",
              "      <td>-0.388973</td>\n",
              "      <td>0</td>\n",
              "      <td>0</td>\n",
              "      <td>0</td>\n",
              "      <td>0</td>\n",
              "      <td>-0.07906</td>\n",
              "      <td>-0.498886</td>\n",
              "      <td>1.056008</td>\n",
              "      <td>-0.864902</td>\n",
              "      <td>-0.284507</td>\n",
              "      <td>-0.596511</td>\n",
              "      <td>-0.399922</td>\n",
              "      <td>0</td>\n",
              "      <td>0</td>\n",
              "      <td>1.156557</td>\n",
              "      <td>0</td>\n",
              "      <td>-0.926971</td>\n",
              "      <td>-0.605350</td>\n",
              "      <td>0</td>\n",
              "      <td>0</td>\n",
              "      <td>0</td>\n",
              "      <td>1.610785</td>\n",
              "      <td>0</td>\n",
              "      <td>0</td>\n",
              "      <td>0</td>\n",
              "      <td>1</td>\n",
              "      <td>0</td>\n",
              "      <td>0</td>\n",
              "      <td>2.491612</td>\n",
              "      <td>0</td>\n",
              "      <td>1</td>\n",
              "      <td>-1.255788</td>\n",
              "    </tr>\n",
              "    <tr>\n",
              "      <th>3</th>\n",
              "      <td>-0.779940</td>\n",
              "      <td>-0.936306</td>\n",
              "      <td>0</td>\n",
              "      <td>-0.351010</td>\n",
              "      <td>-0.477984</td>\n",
              "      <td>-0.142915</td>\n",
              "      <td>-0.387464</td>\n",
              "      <td>-0.197604</td>\n",
              "      <td>-0.293683</td>\n",
              "      <td>-0.295128</td>\n",
              "      <td>-0.081815</td>\n",
              "      <td>-0.083946</td>\n",
              "      <td>-1.216463</td>\n",
              "      <td>-0.026465</td>\n",
              "      <td>-0.116135</td>\n",
              "      <td>-0.038984</td>\n",
              "      <td>-0.104139</td>\n",
              "      <td>-0.024962</td>\n",
              "      <td>-0.092717</td>\n",
              "      <td>-0.893559</td>\n",
              "      <td>-0.337729</td>\n",
              "      <td>-0.081271</td>\n",
              "      <td>-0.098673</td>\n",
              "      <td>1</td>\n",
              "      <td>-0.594651</td>\n",
              "      <td>-0.267868</td>\n",
              "      <td>0</td>\n",
              "      <td>0</td>\n",
              "      <td>0</td>\n",
              "      <td>0</td>\n",
              "      <td>0</td>\n",
              "      <td>-0.363667</td>\n",
              "      <td>0</td>\n",
              "      <td>0</td>\n",
              "      <td>0</td>\n",
              "      <td>0</td>\n",
              "      <td>0.725201</td>\n",
              "      <td>-0.05621</td>\n",
              "      <td>-0.939107</td>\n",
              "      <td>-0.613890</td>\n",
              "      <td>0.846812</td>\n",
              "      <td>-0.005017</td>\n",
              "      <td>-0.800270</td>\n",
              "      <td>-0.470680</td>\n",
              "      <td>-1.108719</td>\n",
              "      <td>-0.457666</td>\n",
              "      <td>-0.544881</td>\n",
              "      <td>-0.748425</td>\n",
              "      <td>-0.712552</td>\n",
              "      <td>-0.388973</td>\n",
              "      <td>0</td>\n",
              "      <td>0</td>\n",
              "      <td>0</td>\n",
              "      <td>0</td>\n",
              "      <td>-0.07906</td>\n",
              "      <td>0.370674</td>\n",
              "      <td>0.984697</td>\n",
              "      <td>-0.780995</td>\n",
              "      <td>-0.284507</td>\n",
              "      <td>0.341838</td>\n",
              "      <td>1.200571</td>\n",
              "      <td>0</td>\n",
              "      <td>0</td>\n",
              "      <td>1.156557</td>\n",
              "      <td>0</td>\n",
              "      <td>1.158067</td>\n",
              "      <td>-0.512307</td>\n",
              "      <td>0</td>\n",
              "      <td>0</td>\n",
              "      <td>0</td>\n",
              "      <td>0.651011</td>\n",
              "      <td>0</td>\n",
              "      <td>0</td>\n",
              "      <td>0</td>\n",
              "      <td>1</td>\n",
              "      <td>0</td>\n",
              "      <td>0</td>\n",
              "      <td>-0.375359</td>\n",
              "      <td>0</td>\n",
              "      <td>0</td>\n",
              "      <td>-0.073217</td>\n",
              "    </tr>\n",
              "    <tr>\n",
              "      <th>4</th>\n",
              "      <td>-0.110800</td>\n",
              "      <td>-0.565135</td>\n",
              "      <td>0</td>\n",
              "      <td>-0.351010</td>\n",
              "      <td>0.480332</td>\n",
              "      <td>-0.142915</td>\n",
              "      <td>-0.387464</td>\n",
              "      <td>-0.197604</td>\n",
              "      <td>-0.293683</td>\n",
              "      <td>-0.295128</td>\n",
              "      <td>-0.081815</td>\n",
              "      <td>-0.083946</td>\n",
              "      <td>0.377443</td>\n",
              "      <td>-0.026465</td>\n",
              "      <td>-0.116135</td>\n",
              "      <td>-0.038984</td>\n",
              "      <td>-0.104139</td>\n",
              "      <td>-0.024962</td>\n",
              "      <td>-0.092717</td>\n",
              "      <td>1.098907</td>\n",
              "      <td>-0.337729</td>\n",
              "      <td>-0.081271</td>\n",
              "      <td>-0.098673</td>\n",
              "      <td>1</td>\n",
              "      <td>-0.594651</td>\n",
              "      <td>-0.267868</td>\n",
              "      <td>0</td>\n",
              "      <td>0</td>\n",
              "      <td>0</td>\n",
              "      <td>0</td>\n",
              "      <td>0</td>\n",
              "      <td>-0.363667</td>\n",
              "      <td>0</td>\n",
              "      <td>0</td>\n",
              "      <td>0</td>\n",
              "      <td>0</td>\n",
              "      <td>0.725201</td>\n",
              "      <td>-0.05621</td>\n",
              "      <td>-0.041781</td>\n",
              "      <td>0.015209</td>\n",
              "      <td>-0.057562</td>\n",
              "      <td>-0.512450</td>\n",
              "      <td>0.534097</td>\n",
              "      <td>-0.198974</td>\n",
              "      <td>-0.703187</td>\n",
              "      <td>0.019001</td>\n",
              "      <td>-0.223258</td>\n",
              "      <td>-0.748425</td>\n",
              "      <td>0.266916</td>\n",
              "      <td>-0.388973</td>\n",
              "      <td>0</td>\n",
              "      <td>0</td>\n",
              "      <td>0</td>\n",
              "      <td>0</td>\n",
              "      <td>-0.07906</td>\n",
              "      <td>0.088816</td>\n",
              "      <td>-0.350289</td>\n",
              "      <td>0.789798</td>\n",
              "      <td>-0.284507</td>\n",
              "      <td>1.419202</td>\n",
              "      <td>-0.281367</td>\n",
              "      <td>1</td>\n",
              "      <td>0</td>\n",
              "      <td>0.589875</td>\n",
              "      <td>0</td>\n",
              "      <td>-0.926971</td>\n",
              "      <td>1.999841</td>\n",
              "      <td>0</td>\n",
              "      <td>0</td>\n",
              "      <td>0</td>\n",
              "      <td>-0.948614</td>\n",
              "      <td>0</td>\n",
              "      <td>0</td>\n",
              "      <td>0</td>\n",
              "      <td>0</td>\n",
              "      <td>1</td>\n",
              "      <td>0</td>\n",
              "      <td>-0.424968</td>\n",
              "      <td>0</td>\n",
              "      <td>0</td>\n",
              "      <td>1.109355</td>\n",
              "    </tr>\n",
              "  </tbody>\n",
              "</table>\n",
              "</div>\n",
              "      <button class=\"colab-df-convert\" onclick=\"convertToInteractive('df-a79d97b2-9780-48a5-90bb-5ab8cd77ae12')\"\n",
              "              title=\"Convert this dataframe to an interactive table.\"\n",
              "              style=\"display:none;\">\n",
              "        \n",
              "  <svg xmlns=\"http://www.w3.org/2000/svg\" height=\"24px\"viewBox=\"0 0 24 24\"\n",
              "       width=\"24px\">\n",
              "    <path d=\"M0 0h24v24H0V0z\" fill=\"none\"/>\n",
              "    <path d=\"M18.56 5.44l.94 2.06.94-2.06 2.06-.94-2.06-.94-.94-2.06-.94 2.06-2.06.94zm-11 1L8.5 8.5l.94-2.06 2.06-.94-2.06-.94L8.5 2.5l-.94 2.06-2.06.94zm10 10l.94 2.06.94-2.06 2.06-.94-2.06-.94-.94-2.06-.94 2.06-2.06.94z\"/><path d=\"M17.41 7.96l-1.37-1.37c-.4-.4-.92-.59-1.43-.59-.52 0-1.04.2-1.43.59L10.3 9.45l-7.72 7.72c-.78.78-.78 2.05 0 2.83L4 21.41c.39.39.9.59 1.41.59.51 0 1.02-.2 1.41-.59l7.78-7.78 2.81-2.81c.8-.78.8-2.07 0-2.86zM5.41 20L4 18.59l7.72-7.72 1.47 1.35L5.41 20z\"/>\n",
              "  </svg>\n",
              "      </button>\n",
              "      \n",
              "  <style>\n",
              "    .colab-df-container {\n",
              "      display:flex;\n",
              "      flex-wrap:wrap;\n",
              "      gap: 12px;\n",
              "    }\n",
              "\n",
              "    .colab-df-convert {\n",
              "      background-color: #E8F0FE;\n",
              "      border: none;\n",
              "      border-radius: 50%;\n",
              "      cursor: pointer;\n",
              "      display: none;\n",
              "      fill: #1967D2;\n",
              "      height: 32px;\n",
              "      padding: 0 0 0 0;\n",
              "      width: 32px;\n",
              "    }\n",
              "\n",
              "    .colab-df-convert:hover {\n",
              "      background-color: #E2EBFA;\n",
              "      box-shadow: 0px 1px 2px rgba(60, 64, 67, 0.3), 0px 1px 3px 1px rgba(60, 64, 67, 0.15);\n",
              "      fill: #174EA6;\n",
              "    }\n",
              "\n",
              "    [theme=dark] .colab-df-convert {\n",
              "      background-color: #3B4455;\n",
              "      fill: #D2E3FC;\n",
              "    }\n",
              "\n",
              "    [theme=dark] .colab-df-convert:hover {\n",
              "      background-color: #434B5C;\n",
              "      box-shadow: 0px 1px 3px 1px rgba(0, 0, 0, 0.15);\n",
              "      filter: drop-shadow(0px 1px 2px rgba(0, 0, 0, 0.3));\n",
              "      fill: #FFFFFF;\n",
              "    }\n",
              "  </style>\n",
              "\n",
              "      <script>\n",
              "        const buttonEl =\n",
              "          document.querySelector('#df-a79d97b2-9780-48a5-90bb-5ab8cd77ae12 button.colab-df-convert');\n",
              "        buttonEl.style.display =\n",
              "          google.colab.kernel.accessAllowed ? 'block' : 'none';\n",
              "\n",
              "        async function convertToInteractive(key) {\n",
              "          const element = document.querySelector('#df-a79d97b2-9780-48a5-90bb-5ab8cd77ae12');\n",
              "          const dataTable =\n",
              "            await google.colab.kernel.invokeFunction('convertToInteractive',\n",
              "                                                     [key], {});\n",
              "          if (!dataTable) return;\n",
              "\n",
              "          const docLinkHtml = 'Like what you see? Visit the ' +\n",
              "            '<a target=\"_blank\" href=https://colab.research.google.com/notebooks/data_table.ipynb>data table notebook</a>'\n",
              "            + ' to learn more about interactive tables.';\n",
              "          element.innerHTML = '';\n",
              "          dataTable['output_type'] = 'display_data';\n",
              "          await google.colab.output.renderOutput(dataTable, element);\n",
              "          const docLink = document.createElement('div');\n",
              "          docLink.innerHTML = docLinkHtml;\n",
              "          element.appendChild(docLink);\n",
              "        }\n",
              "      </script>\n",
              "    </div>\n",
              "  </div>\n",
              "  "
            ]
          },
          "metadata": {},
          "execution_count": 25
        }
      ]
    },
    {
      "cell_type": "code",
      "source": [
        "# Train test split con stratify para dividir los datos de prueba con la misma proporción que los datos originales y una mayor proporción de datos de prueba (30%)\n",
        "X_train, X_test, y_train, y_test = train_test_split(X, y, random_state=0, test_size = .3, stratify = y)"
      ],
      "metadata": {
        "id": "dDfzCgmjaxrJ"
      },
      "execution_count": 26,
      "outputs": []
    },
    {
      "cell_type": "code",
      "source": [
        "y_train.value_counts(normalize=True)"
      ],
      "metadata": {
        "colab": {
          "base_uri": "https://localhost:8080/"
        },
        "id": "TH4OqUcMcLQl",
        "outputId": "047fc84b-f45a-46da-b12a-1096ed170df3"
      },
      "execution_count": 27,
      "outputs": [
        {
          "output_type": "execute_result",
          "data": {
            "text/plain": [
              "1    0.500062\n",
              "0    0.499938\n",
              "Name: status, dtype: float64"
            ]
          },
          "metadata": {},
          "execution_count": 27
        }
      ]
    },
    {
      "cell_type": "code",
      "source": [
        "y_test.value_counts(normalize=True)"
      ],
      "metadata": {
        "colab": {
          "base_uri": "https://localhost:8080/"
        },
        "id": "SkQ8fzUocPSx",
        "outputId": "e5edbe6d-763d-4a62-88ff-3f07ef68219a"
      },
      "execution_count": 28,
      "outputs": [
        {
          "output_type": "execute_result",
          "data": {
            "text/plain": [
              "0    0.500146\n",
              "1    0.499854\n",
              "Name: status, dtype: float64"
            ]
          },
          "metadata": {},
          "execution_count": 28
        }
      ]
    },
    {
      "cell_type": "markdown",
      "source": [
        "### Modelo de regresión logística con GridSearch"
      ],
      "metadata": {
        "id": "2zqS3OVgkYU8"
      }
    },
    {
      "cell_type": "code",
      "source": [
        "# Usar Gridsearch para encontrar los mejores hiperparámetros para este modelo\n",
        "# definimos los parámetros que deseamos probar\n",
        "params = {'penalty': ['l1', 'l2'], 'C': [0.0001, 0.001, 0.01, 0.1, 1, 10], 'class_weight': [None, 'balanced'], 'multi_class': ['auto', 'ovr']}"
      ],
      "metadata": {
        "id": "PfCIuS4SkD2e"
      },
      "execution_count": 29,
      "outputs": []
    },
    {
      "cell_type": "code",
      "source": [
        "# Instanciamos Regresión Logística\n",
        "log_reg = LogisticRegression(solver = 'liblinear', random_state=0)\n",
        "\n",
        "# Gridsearch para buscar los mejores hiperparámetros con un crossvalidation de 5\n",
        "gs = GridSearchCV(log_reg, params, cv = 5)\n",
        "\n",
        "# Ajustamos el modelo a los datos de entrenamiento\n",
        "gs.fit(X_train, y_train)"
      ],
      "metadata": {
        "colab": {
          "base_uri": "https://localhost:8080/",
          "height": 118
        },
        "id": "B9GY35gGkj2g",
        "outputId": "fe323e26-2a49-4858-ca57-906ab17227cd"
      },
      "execution_count": 30,
      "outputs": [
        {
          "output_type": "execute_result",
          "data": {
            "text/plain": [
              "GridSearchCV(cv=5,\n",
              "             estimator=LogisticRegression(random_state=0, solver='liblinear'),\n",
              "             param_grid={'C': [0.0001, 0.001, 0.01, 0.1, 1, 10],\n",
              "                         'class_weight': [None, 'balanced'],\n",
              "                         'multi_class': ['auto', 'ovr'],\n",
              "                         'penalty': ['l1', 'l2']})"
            ],
            "text/html": [
              "<style>#sk-container-id-1 {color: black;background-color: white;}#sk-container-id-1 pre{padding: 0;}#sk-container-id-1 div.sk-toggleable {background-color: white;}#sk-container-id-1 label.sk-toggleable__label {cursor: pointer;display: block;width: 100%;margin-bottom: 0;padding: 0.3em;box-sizing: border-box;text-align: center;}#sk-container-id-1 label.sk-toggleable__label-arrow:before {content: \"▸\";float: left;margin-right: 0.25em;color: #696969;}#sk-container-id-1 label.sk-toggleable__label-arrow:hover:before {color: black;}#sk-container-id-1 div.sk-estimator:hover label.sk-toggleable__label-arrow:before {color: black;}#sk-container-id-1 div.sk-toggleable__content {max-height: 0;max-width: 0;overflow: hidden;text-align: left;background-color: #f0f8ff;}#sk-container-id-1 div.sk-toggleable__content pre {margin: 0.2em;color: black;border-radius: 0.25em;background-color: #f0f8ff;}#sk-container-id-1 input.sk-toggleable__control:checked~div.sk-toggleable__content {max-height: 200px;max-width: 100%;overflow: auto;}#sk-container-id-1 input.sk-toggleable__control:checked~label.sk-toggleable__label-arrow:before {content: \"▾\";}#sk-container-id-1 div.sk-estimator input.sk-toggleable__control:checked~label.sk-toggleable__label {background-color: #d4ebff;}#sk-container-id-1 div.sk-label input.sk-toggleable__control:checked~label.sk-toggleable__label {background-color: #d4ebff;}#sk-container-id-1 input.sk-hidden--visually {border: 0;clip: rect(1px 1px 1px 1px);clip: rect(1px, 1px, 1px, 1px);height: 1px;margin: -1px;overflow: hidden;padding: 0;position: absolute;width: 1px;}#sk-container-id-1 div.sk-estimator {font-family: monospace;background-color: #f0f8ff;border: 1px dotted black;border-radius: 0.25em;box-sizing: border-box;margin-bottom: 0.5em;}#sk-container-id-1 div.sk-estimator:hover {background-color: #d4ebff;}#sk-container-id-1 div.sk-parallel-item::after {content: \"\";width: 100%;border-bottom: 1px solid gray;flex-grow: 1;}#sk-container-id-1 div.sk-label:hover label.sk-toggleable__label {background-color: #d4ebff;}#sk-container-id-1 div.sk-serial::before {content: \"\";position: absolute;border-left: 1px solid gray;box-sizing: border-box;top: 0;bottom: 0;left: 50%;z-index: 0;}#sk-container-id-1 div.sk-serial {display: flex;flex-direction: column;align-items: center;background-color: white;padding-right: 0.2em;padding-left: 0.2em;position: relative;}#sk-container-id-1 div.sk-item {position: relative;z-index: 1;}#sk-container-id-1 div.sk-parallel {display: flex;align-items: stretch;justify-content: center;background-color: white;position: relative;}#sk-container-id-1 div.sk-item::before, #sk-container-id-1 div.sk-parallel-item::before {content: \"\";position: absolute;border-left: 1px solid gray;box-sizing: border-box;top: 0;bottom: 0;left: 50%;z-index: -1;}#sk-container-id-1 div.sk-parallel-item {display: flex;flex-direction: column;z-index: 1;position: relative;background-color: white;}#sk-container-id-1 div.sk-parallel-item:first-child::after {align-self: flex-end;width: 50%;}#sk-container-id-1 div.sk-parallel-item:last-child::after {align-self: flex-start;width: 50%;}#sk-container-id-1 div.sk-parallel-item:only-child::after {width: 0;}#sk-container-id-1 div.sk-dashed-wrapped {border: 1px dashed gray;margin: 0 0.4em 0.5em 0.4em;box-sizing: border-box;padding-bottom: 0.4em;background-color: white;}#sk-container-id-1 div.sk-label label {font-family: monospace;font-weight: bold;display: inline-block;line-height: 1.2em;}#sk-container-id-1 div.sk-label-container {text-align: center;}#sk-container-id-1 div.sk-container {/* jupyter's `normalize.less` sets `[hidden] { display: none; }` but bootstrap.min.css set `[hidden] { display: none !important; }` so we also need the `!important` here to be able to override the default hidden behavior on the sphinx rendered scikit-learn.org. See: https://github.com/scikit-learn/scikit-learn/issues/21755 */display: inline-block !important;position: relative;}#sk-container-id-1 div.sk-text-repr-fallback {display: none;}</style><div id=\"sk-container-id-1\" class=\"sk-top-container\"><div class=\"sk-text-repr-fallback\"><pre>GridSearchCV(cv=5,\n",
              "             estimator=LogisticRegression(random_state=0, solver=&#x27;liblinear&#x27;),\n",
              "             param_grid={&#x27;C&#x27;: [0.0001, 0.001, 0.01, 0.1, 1, 10],\n",
              "                         &#x27;class_weight&#x27;: [None, &#x27;balanced&#x27;],\n",
              "                         &#x27;multi_class&#x27;: [&#x27;auto&#x27;, &#x27;ovr&#x27;],\n",
              "                         &#x27;penalty&#x27;: [&#x27;l1&#x27;, &#x27;l2&#x27;]})</pre><b>In a Jupyter environment, please rerun this cell to show the HTML representation or trust the notebook. <br />On GitHub, the HTML representation is unable to render, please try loading this page with nbviewer.org.</b></div><div class=\"sk-container\" hidden><div class=\"sk-item sk-dashed-wrapped\"><div class=\"sk-label-container\"><div class=\"sk-label sk-toggleable\"><input class=\"sk-toggleable__control sk-hidden--visually\" id=\"sk-estimator-id-1\" type=\"checkbox\" ><label for=\"sk-estimator-id-1\" class=\"sk-toggleable__label sk-toggleable__label-arrow\">GridSearchCV</label><div class=\"sk-toggleable__content\"><pre>GridSearchCV(cv=5,\n",
              "             estimator=LogisticRegression(random_state=0, solver=&#x27;liblinear&#x27;),\n",
              "             param_grid={&#x27;C&#x27;: [0.0001, 0.001, 0.01, 0.1, 1, 10],\n",
              "                         &#x27;class_weight&#x27;: [None, &#x27;balanced&#x27;],\n",
              "                         &#x27;multi_class&#x27;: [&#x27;auto&#x27;, &#x27;ovr&#x27;],\n",
              "                         &#x27;penalty&#x27;: [&#x27;l1&#x27;, &#x27;l2&#x27;]})</pre></div></div></div><div class=\"sk-parallel\"><div class=\"sk-parallel-item\"><div class=\"sk-item\"><div class=\"sk-label-container\"><div class=\"sk-label sk-toggleable\"><input class=\"sk-toggleable__control sk-hidden--visually\" id=\"sk-estimator-id-2\" type=\"checkbox\" ><label for=\"sk-estimator-id-2\" class=\"sk-toggleable__label sk-toggleable__label-arrow\">estimator: LogisticRegression</label><div class=\"sk-toggleable__content\"><pre>LogisticRegression(random_state=0, solver=&#x27;liblinear&#x27;)</pre></div></div></div><div class=\"sk-serial\"><div class=\"sk-item\"><div class=\"sk-estimator sk-toggleable\"><input class=\"sk-toggleable__control sk-hidden--visually\" id=\"sk-estimator-id-3\" type=\"checkbox\" ><label for=\"sk-estimator-id-3\" class=\"sk-toggleable__label sk-toggleable__label-arrow\">LogisticRegression</label><div class=\"sk-toggleable__content\"><pre>LogisticRegression(random_state=0, solver=&#x27;liblinear&#x27;)</pre></div></div></div></div></div></div></div></div></div></div>"
            ]
          },
          "metadata": {},
          "execution_count": 30
        }
      ]
    },
    {
      "cell_type": "code",
      "source": [
        "# Observamos los hiperparámetros escogidos por GridSearch\n",
        "gs.best_params_"
      ],
      "metadata": {
        "colab": {
          "base_uri": "https://localhost:8080/"
        },
        "id": "8y18n6xQkuQg",
        "outputId": "8797a0e3-8906-49ca-fb37-f3543463cbea"
      },
      "execution_count": 31,
      "outputs": [
        {
          "output_type": "execute_result",
          "data": {
            "text/plain": [
              "{'C': 10, 'class_weight': 'balanced', 'multi_class': 'auto', 'penalty': 'l1'}"
            ]
          },
          "metadata": {},
          "execution_count": 31
        }
      ]
    },
    {
      "cell_type": "markdown",
      "source": [
        "#### Métricas del modelo de regresión logística"
      ],
      "metadata": {
        "id": "CGPfVk1kmg3K"
      }
    },
    {
      "cell_type": "code",
      "source": [
        "# Vemos la exactitud del modelo con los parámetros escogidos por GridSearch\n",
        "print(\"Exactitud en el conjunto de entrenamiento: \", gs.score(X_train, y_train))\n",
        "print(\"Exactitud en el conjunto de prueba: \", gs.score(X_test, y_test))"
      ],
      "metadata": {
        "colab": {
          "base_uri": "https://localhost:8080/"
        },
        "id": "r2mBKcf4lEXS",
        "outputId": "29f99c4d-9b25-43fb-8ea8-1659ee8d6038"
      },
      "execution_count": 32,
      "outputs": [
        {
          "output_type": "stream",
          "name": "stdout",
          "text": [
            "Exactitud en el conjunto de entrenamiento:  0.9492563429571304\n",
            "Exactitud en el conjunto de prueba:  0.9419655876348789\n"
          ]
        }
      ]
    },
    {
      "cell_type": "code",
      "source": [
        "# Observamos el tiempo que toma al modelo realizar las predicciones del conjunto de prueba\n",
        "%%time\n",
        "y_pred = gs.predict(X_test)"
      ],
      "metadata": {
        "colab": {
          "base_uri": "https://localhost:8080/"
        },
        "id": "OZREA0fCluUf",
        "outputId": "2481f09e-3627-4e80-da53-e5bdbe5492c3"
      },
      "execution_count": 33,
      "outputs": [
        {
          "output_type": "stream",
          "name": "stdout",
          "text": [
            "CPU times: user 34.4 ms, sys: 29.2 ms, total: 63.6 ms\n",
            "Wall time: 35.1 ms\n"
          ]
        }
      ]
    },
    {
      "cell_type": "markdown",
      "source": [
        "Al modelo le toma 49.6 milisegundos realizar las predicciones."
      ],
      "metadata": {
        "id": "BRM8SqGBmBUc"
      }
    },
    {
      "cell_type": "code",
      "source": [
        "# Matriz de confusión para el modelo de regresión logística con hiperparámetros escogidos\n",
        "cm_gs = confusion_matrix(y_test, y_pred, labels=gs.classes_)\n",
        "cmdisp_gs = ConfusionMatrixDisplay(confusion_matrix=cm_gs, display_labels=gs.classes_)\n",
        "cmdisp_gs.plot()\n",
        "plt.title('Matriz de confusión Regresión Logística')\n",
        "plt.show()"
      ],
      "metadata": {
        "colab": {
          "base_uri": "https://localhost:8080/",
          "height": 472
        },
        "id": "Wg9g2BStmAPh",
        "outputId": "660f8429-d311-41e1-e48d-324c49126a04"
      },
      "execution_count": 34,
      "outputs": [
        {
          "output_type": "display_data",
          "data": {
            "text/plain": [
              "<Figure size 640x480 with 2 Axes>"
            ],
            "image/png": "[encoded data removed]"
          },
          "metadata": {}
        }
      ]
    },
    {
      "cell_type": "markdown",
      "source": [
        "Observamos que el modelo tiene un buen rendimiento y los Falsos Negativos son menores que los Falsos Positivos."
      ],
      "metadata": {
        "id": "mDsH680ypXjo"
      }
    },
    {
      "cell_type": "code",
      "source": [
        "# Imprimir reporte de clasificación del modelo de regresión logística\n",
        "print(classification_report(y_test, y_pred))"
      ],
      "metadata": {
        "colab": {
          "base_uri": "https://localhost:8080/"
        },
        "id": "Gdz4urOEniiY",
        "outputId": "d934348f-a5cc-4f78-c920-645ef3120e85"
      },
      "execution_count": 35,
      "outputs": [
        {
          "output_type": "stream",
          "name": "stdout",
          "text": [
            "              precision    recall  f1-score   support\n",
            "\n",
            "           0       0.94      0.95      0.94      1715\n",
            "           1       0.95      0.94      0.94      1714\n",
            "\n",
            "    accuracy                           0.94      3429\n",
            "   macro avg       0.94      0.94      0.94      3429\n",
            "weighted avg       0.94      0.94      0.94      3429\n",
            "\n"
          ]
        }
      ]
    },
    {
      "cell_type": "markdown",
      "source": [
        "En este modelo nos interesa predecir los sitios web Phishing (1), por lo que la métrica de mayor importancia es la Sensibilidad (recall), ya que nos interesa evitar los falsos negativos, es decir que una página Phishing sea detectada como Legítima.\n",
        "\n",
        "En el modelo de Regresión Logística nuestra sensibilidad es del **94%**"
      ],
      "metadata": {
        "id": "z4OWn3WumpTa"
      }
    },
    {
      "cell_type": "code",
      "source": [
        "# Calcular los coeficientes de odd de las variables más representativas del modelo\n",
        "# Obtenemos el mejor modelo de regresión logística que obtuvo GridSearch\n",
        "logreg_best = gs.best_estimator_\n",
        "\n",
        "# Obtenemos los coeficientes de dicho modelo y los transformamos a coeficientes de odd\n",
        "coeficientes = np.exp(logreg_best.coef_)\n",
        "\n",
        "# Guardamos los nombres de las columnas en una variable\n",
        "caracteristicas = X.columns\n",
        "\n",
        "# Creamos un DataFrame con los coeficientes\n",
        "coef_df = pd.DataFrame({'Caracteristicas': caracteristicas, 'coef_odd': coeficientes[0]})\n",
        "\n",
        "# Ordenamos los valores\n",
        "coef_df = coef_df.reindex(coef_df['coef_odd'].abs().sort_values(ascending=False).index)"
      ],
      "metadata": {
        "id": "HV2_GZEF1D_-"
      },
      "execution_count": 36,
      "outputs": []
    },
    {
      "cell_type": "code",
      "source": [
        "# Observar un gráfico de las 20 características más importantes\n",
        "plt.figure(figsize=(20,8))\n",
        "plt.bar(coef_df['Caracteristicas'].head(20), coef_df['coef_odd'].head(20))\n",
        "plt.xticks(rotation=90)\n",
        "plt.title('Top 20 características más importantes del modelo de Regresión Logística', fontsize=20)\n",
        "plt.show()"
      ],
      "metadata": {
        "colab": {
          "base_uri": "https://localhost:8080/",
          "height": 753
        },
        "id": "DHGGz46xZCFa",
        "outputId": "1f21ed50-a1e1-430d-ebcf-ac31f2dd09da"
      },
      "execution_count": 37,
      "outputs": [
        {
          "output_type": "display_data",
          "data": {
            "text/plain": [
              "<Figure size 2000x800 with 1 Axes>"
            ],
            "image/png": "[encoded data removed]"
          },
          "metadata": {}
        }
      ]
    },
    {
      "cell_type": "markdown",
      "source": [
        "Observamos las características más importantes que ayudan a nuestro modelo a predecir si una página es Phishing, se destacan las características longest_words_raw (Palábras más largas en la URL), google_index (Si la página está o no indexada en Google) y brand_in_path (Si la marca está dentro del path, es decir, luego del dominio.)"
      ],
      "metadata": {
        "id": "ryF-zB4KcC5D"
      }
    },
    {
      "cell_type": "markdown",
      "source": [
        "### Modelo Random Forest"
      ],
      "metadata": {
        "id": "S6NqYGtN0YkL"
      }
    },
    {
      "cell_type": "code",
      "source": [
        "# Instanciar el modelo\n",
        "rf = RandomForestClassifier(random_state=0)"
      ],
      "metadata": {
        "id": "rG2GB1Iunzlt"
      },
      "execution_count": 38,
      "outputs": []
    },
    {
      "cell_type": "code",
      "source": [
        "# Ajustar el modelo de datos con los datos de entrenamiento\n",
        "rf.fit(X_train, y_train)"
      ],
      "metadata": {
        "colab": {
          "base_uri": "https://localhost:8080/",
          "height": 75
        },
        "id": "36ci5y26cndH",
        "outputId": "a2d29b0d-63dc-4e17-f0db-1100a432f36b"
      },
      "execution_count": 39,
      "outputs": [
        {
          "output_type": "execute_result",
          "data": {
            "text/plain": [
              "RandomForestClassifier(random_state=0)"
            ],
            "text/html": [
              "<style>#sk-container-id-2 {color: black;background-color: white;}#sk-container-id-2 pre{padding: 0;}#sk-container-id-2 div.sk-toggleable {background-color: white;}#sk-container-id-2 label.sk-toggleable__label {cursor: pointer;display: block;width: 100%;margin-bottom: 0;padding: 0.3em;box-sizing: border-box;text-align: center;}#sk-container-id-2 label.sk-toggleable__label-arrow:before {content: \"▸\";float: left;margin-right: 0.25em;color: #696969;}#sk-container-id-2 label.sk-toggleable__label-arrow:hover:before {color: black;}#sk-container-id-2 div.sk-estimator:hover label.sk-toggleable__label-arrow:before {color: black;}#sk-container-id-2 div.sk-toggleable__content {max-height: 0;max-width: 0;overflow: hidden;text-align: left;background-color: #f0f8ff;}#sk-container-id-2 div.sk-toggleable__content pre {margin: 0.2em;color: black;border-radius: 0.25em;background-color: #f0f8ff;}#sk-container-id-2 input.sk-toggleable__control:checked~div.sk-toggleable__content {max-height: 200px;max-width: 100%;overflow: auto;}#sk-container-id-2 input.sk-toggleable__control:checked~label.sk-toggleable__label-arrow:before {content: \"▾\";}#sk-container-id-2 div.sk-estimator input.sk-toggleable__control:checked~label.sk-toggleable__label {background-color: #d4ebff;}#sk-container-id-2 div.sk-label input.sk-toggleable__control:checked~label.sk-toggleable__label {background-color: #d4ebff;}#sk-container-id-2 input.sk-hidden--visually {border: 0;clip: rect(1px 1px 1px 1px);clip: rect(1px, 1px, 1px, 1px);height: 1px;margin: -1px;overflow: hidden;padding: 0;position: absolute;width: 1px;}#sk-container-id-2 div.sk-estimator {font-family: monospace;background-color: #f0f8ff;border: 1px dotted black;border-radius: 0.25em;box-sizing: border-box;margin-bottom: 0.5em;}#sk-container-id-2 div.sk-estimator:hover {background-color: #d4ebff;}#sk-container-id-2 div.sk-parallel-item::after {content: \"\";width: 100%;border-bottom: 1px solid gray;flex-grow: 1;}#sk-container-id-2 div.sk-label:hover label.sk-toggleable__label {background-color: #d4ebff;}#sk-container-id-2 div.sk-serial::before {content: \"\";position: absolute;border-left: 1px solid gray;box-sizing: border-box;top: 0;bottom: 0;left: 50%;z-index: 0;}#sk-container-id-2 div.sk-serial {display: flex;flex-direction: column;align-items: center;background-color: white;padding-right: 0.2em;padding-left: 0.2em;position: relative;}#sk-container-id-2 div.sk-item {position: relative;z-index: 1;}#sk-container-id-2 div.sk-parallel {display: flex;align-items: stretch;justify-content: center;background-color: white;position: relative;}#sk-container-id-2 div.sk-item::before, #sk-container-id-2 div.sk-parallel-item::before {content: \"\";position: absolute;border-left: 1px solid gray;box-sizing: border-box;top: 0;bottom: 0;left: 50%;z-index: -1;}#sk-container-id-2 div.sk-parallel-item {display: flex;flex-direction: column;z-index: 1;position: relative;background-color: white;}#sk-container-id-2 div.sk-parallel-item:first-child::after {align-self: flex-end;width: 50%;}#sk-container-id-2 div.sk-parallel-item:last-child::after {align-self: flex-start;width: 50%;}#sk-container-id-2 div.sk-parallel-item:only-child::after {width: 0;}#sk-container-id-2 div.sk-dashed-wrapped {border: 1px dashed gray;margin: 0 0.4em 0.5em 0.4em;box-sizing: border-box;padding-bottom: 0.4em;background-color: white;}#sk-container-id-2 div.sk-label label {font-family: monospace;font-weight: bold;display: inline-block;line-height: 1.2em;}#sk-container-id-2 div.sk-label-container {text-align: center;}#sk-container-id-2 div.sk-container {/* jupyter's `normalize.less` sets `[hidden] { display: none; }` but bootstrap.min.css set `[hidden] { display: none !important; }` so we also need the `!important` here to be able to override the default hidden behavior on the sphinx rendered scikit-learn.org. See: https://github.com/scikit-learn/scikit-learn/issues/21755 */display: inline-block !important;position: relative;}#sk-container-id-2 div.sk-text-repr-fallback {display: none;}</style><div id=\"sk-container-id-2\" class=\"sk-top-container\"><div class=\"sk-text-repr-fallback\"><pre>RandomForestClassifier(random_state=0)</pre><b>In a Jupyter environment, please rerun this cell to show the HTML representation or trust the notebook. <br />On GitHub, the HTML representation is unable to render, please try loading this page with nbviewer.org.</b></div><div class=\"sk-container\" hidden><div class=\"sk-item\"><div class=\"sk-estimator sk-toggleable\"><input class=\"sk-toggleable__control sk-hidden--visually\" id=\"sk-estimator-id-4\" type=\"checkbox\" checked><label for=\"sk-estimator-id-4\" class=\"sk-toggleable__label sk-toggleable__label-arrow\">RandomForestClassifier</label><div class=\"sk-toggleable__content\"><pre>RandomForestClassifier(random_state=0)</pre></div></div></div></div></div>"
            ]
          },
          "metadata": {},
          "execution_count": 39
        }
      ]
    },
    {
      "cell_type": "code",
      "source": [
        "# Evaluar el rendimiento del modelo\n",
        "rf_train_score = rf.score(X_train, y_train)\n",
        "rf_test_score = rf.score(X_test, y_test)\n",
        "print('Exactitud en el conjunto de entrenamiento: ', rf_train_score)\n",
        "print('Exactitud en el conjunto de prueba: ', rf_test_score)"
      ],
      "metadata": {
        "colab": {
          "base_uri": "https://localhost:8080/"
        },
        "id": "IEjp1qDXcyuJ",
        "outputId": "4257d694-6d5d-4bda-e6b0-830aa70348ae"
      },
      "execution_count": 40,
      "outputs": [
        {
          "output_type": "stream",
          "name": "stdout",
          "text": [
            "Exactitud en el conjunto de entrenamiento:  1.0\n",
            "Exactitud en el conjunto de prueba:  0.9641294838145232\n"
          ]
        }
      ]
    },
    {
      "cell_type": "markdown",
      "source": [
        "Observamos que con el modelo por defecto se obtiene una mejor métrica de exactitud que con Regresión Logística, tanto en conjunto de datos de entrenamiento como de prueba."
      ],
      "metadata": {
        "id": "VgPXGK_Qc6hu"
      }
    },
    {
      "cell_type": "code",
      "source": [
        "# Observamos los parámetros por defecto\n",
        "rf.get_params()"
      ],
      "metadata": {
        "colab": {
          "base_uri": "https://localhost:8080/"
        },
        "id": "nMHjGtqPeeZX",
        "outputId": "20963f0d-ac18-4817-914c-4f5f232cab28"
      },
      "execution_count": 41,
      "outputs": [
        {
          "output_type": "execute_result",
          "data": {
            "text/plain": [
              "{'bootstrap': True,\n",
              " 'ccp_alpha': 0.0,\n",
              " 'class_weight': None,\n",
              " 'criterion': 'gini',\n",
              " 'max_depth': None,\n",
              " 'max_features': 'sqrt',\n",
              " 'max_leaf_nodes': None,\n",
              " 'max_samples': None,\n",
              " 'min_impurity_decrease': 0.0,\n",
              " 'min_samples_leaf': 1,\n",
              " 'min_samples_split': 2,\n",
              " 'min_weight_fraction_leaf': 0.0,\n",
              " 'n_estimators': 100,\n",
              " 'n_jobs': None,\n",
              " 'oob_score': False,\n",
              " 'random_state': 0,\n",
              " 'verbose': 0,\n",
              " 'warm_start': False}"
            ]
          },
          "metadata": {},
          "execution_count": 41
        }
      ]
    },
    {
      "cell_type": "code",
      "source": [
        "# Probaremos varios valores de n_estimators\n",
        "# Lista de valores a probar n_estimators:\n",
        "max_estimators = list(range(1, 100))\n",
        "\n",
        "# Lista para almacenar la puntuación para cada valor de n_estimators:\n",
        "rf_score = []\n",
        "for estimator in max_estimators:\n",
        "    rf2 = RandomForestClassifier(n_estimators = estimator, random_state = 0)\n",
        "    rf2.fit(X_train, y_train)\n",
        "    score = rf2.score(X_test, y_test)\n",
        "    rf_score.append(score)"
      ],
      "metadata": {
        "id": "1ZPPUfzBfVcp"
      },
      "execution_count": 42,
      "outputs": []
    },
    {
      "cell_type": "code",
      "source": [
        "# Observamos la exactitud del modelo para distintos valores de n_estimators\n",
        "plt.plot(max_estimators, rf_score)\n",
        "plt.title('Exactitud de modelo de bosque aleatorio con distinto número de estimadores')\n",
        "plt.xlabel('n_estimators')\n",
        "plt.ylabel('Exactitud')\n",
        "plt.grid()\n",
        "plt.show()"
      ],
      "metadata": {
        "colab": {
          "base_uri": "https://localhost:8080/",
          "height": 472
        },
        "id": "h4cBLYWfkZ65",
        "outputId": "8ca577a8-a639-479d-d572-2c0d3bfd3c86"
      },
      "execution_count": 43,
      "outputs": [
        {
          "output_type": "display_data",
          "data": {
            "text/plain": [
              "<Figure size 640x480 with 1 Axes>"
            ],
            "image/png": "[encoded data removed]"
          },
          "metadata": {}
        }
      ]
    },
    {
      "cell_type": "code",
      "source": [
        "# Mostrar los valores sólo entre los n_estimators 40 y 50\n",
        "plt.plot(list(range(40,51)), rf_score[40:51])\n",
        "plt.title('Exactitud de modelo de bosque aleatorio con distinto número de estimadores')\n",
        "plt.xlabel('n_estimators')\n",
        "plt.ylabel('Exactitud')\n",
        "plt.grid()\n",
        "plt.show()"
      ],
      "metadata": {
        "colab": {
          "base_uri": "https://localhost:8080/",
          "height": 472
        },
        "id": "9kzPR7wnk2vX",
        "outputId": "9c7fdb14-d9d1-4906-c609-dd42eb51b835"
      },
      "execution_count": 44,
      "outputs": [
        {
          "output_type": "display_data",
          "data": {
            "text/plain": [
              "<Figure size 640x480 with 1 Axes>"
            ],
            "image/png": "[encoded data removed]"
          },
          "metadata": {}
        }
      ]
    },
    {
      "cell_type": "code",
      "source": [
        "# Confirmamos cuál es el valor máximo de score\n",
        "np.array(rf_score).max()"
      ],
      "metadata": {
        "colab": {
          "base_uri": "https://localhost:8080/"
        },
        "id": "MuS7G80ImYiO",
        "outputId": "36576b1e-feb5-4cbe-bc9a-53f138a00eb5"
      },
      "execution_count": 45,
      "outputs": [
        {
          "output_type": "execute_result",
          "data": {
            "text/plain": [
              "0.9655876348789735"
            ]
          },
          "metadata": {},
          "execution_count": 45
        }
      ]
    },
    {
      "cell_type": "code",
      "source": [
        "rf_score[43]"
      ],
      "metadata": {
        "colab": {
          "base_uri": "https://localhost:8080/"
        },
        "id": "HminoNTVmy0M",
        "outputId": "1d417f0d-dfea-4408-c4f5-b8cae8746170"
      },
      "execution_count": 46,
      "outputs": [
        {
          "output_type": "execute_result",
          "data": {
            "text/plain": [
              "0.9655876348789735"
            ]
          },
          "metadata": {},
          "execution_count": 46
        }
      ]
    },
    {
      "cell_type": "markdown",
      "source": [
        "Observamos que el valor máximo de score se encuentra en la posición 43, teniendo en cuenta que el índice de la lista rf_score comienza en 0, eso nos da un valor de 44 n_estimators"
      ],
      "metadata": {
        "id": "K1HI1sZCmQms"
      }
    },
    {
      "cell_type": "code",
      "source": [
        "# Instanciar el modelo con 44 n_estimators\n",
        "rf44 = RandomForestClassifier(n_estimators=44, random_state=0)"
      ],
      "metadata": {
        "id": "Ej3giu6BlY0j"
      },
      "execution_count": 47,
      "outputs": []
    },
    {
      "cell_type": "code",
      "source": [
        "# Ajustar el modelo de datos con los datos de entrenamiento\n",
        "rf44.fit(X_train, y_train)"
      ],
      "metadata": {
        "colab": {
          "base_uri": "https://localhost:8080/",
          "height": 75
        },
        "id": "wvWaVOsznJT0",
        "outputId": "0a2edc25-32b3-473a-8b8a-66b98bc675ab"
      },
      "execution_count": 48,
      "outputs": [
        {
          "output_type": "execute_result",
          "data": {
            "text/plain": [
              "RandomForestClassifier(n_estimators=44, random_state=0)"
            ],
            "text/html": [
              "<style>#sk-container-id-3 {color: black;background-color: white;}#sk-container-id-3 pre{padding: 0;}#sk-container-id-3 div.sk-toggleable {background-color: white;}#sk-container-id-3 label.sk-toggleable__label {cursor: pointer;display: block;width: 100%;margin-bottom: 0;padding: 0.3em;box-sizing: border-box;text-align: center;}#sk-container-id-3 label.sk-toggleable__label-arrow:before {content: \"▸\";float: left;margin-right: 0.25em;color: #696969;}#sk-container-id-3 label.sk-toggleable__label-arrow:hover:before {color: black;}#sk-container-id-3 div.sk-estimator:hover label.sk-toggleable__label-arrow:before {color: black;}#sk-container-id-3 div.sk-toggleable__content {max-height: 0;max-width: 0;overflow: hidden;text-align: left;background-color: #f0f8ff;}#sk-container-id-3 div.sk-toggleable__content pre {margin: 0.2em;color: black;border-radius: 0.25em;background-color: #f0f8ff;}#sk-container-id-3 input.sk-toggleable__control:checked~div.sk-toggleable__content {max-height: 200px;max-width: 100%;overflow: auto;}#sk-container-id-3 input.sk-toggleable__control:checked~label.sk-toggleable__label-arrow:before {content: \"▾\";}#sk-container-id-3 div.sk-estimator input.sk-toggleable__control:checked~label.sk-toggleable__label {background-color: #d4ebff;}#sk-container-id-3 div.sk-label input.sk-toggleable__control:checked~label.sk-toggleable__label {background-color: #d4ebff;}#sk-container-id-3 input.sk-hidden--visually {border: 0;clip: rect(1px 1px 1px 1px);clip: rect(1px, 1px, 1px, 1px);height: 1px;margin: -1px;overflow: hidden;padding: 0;position: absolute;width: 1px;}#sk-container-id-3 div.sk-estimator {font-family: monospace;background-color: #f0f8ff;border: 1px dotted black;border-radius: 0.25em;box-sizing: border-box;margin-bottom: 0.5em;}#sk-container-id-3 div.sk-estimator:hover {background-color: #d4ebff;}#sk-container-id-3 div.sk-parallel-item::after {content: \"\";width: 100%;border-bottom: 1px solid gray;flex-grow: 1;}#sk-container-id-3 div.sk-label:hover label.sk-toggleable__label {background-color: #d4ebff;}#sk-container-id-3 div.sk-serial::before {content: \"\";position: absolute;border-left: 1px solid gray;box-sizing: border-box;top: 0;bottom: 0;left: 50%;z-index: 0;}#sk-container-id-3 div.sk-serial {display: flex;flex-direction: column;align-items: center;background-color: white;padding-right: 0.2em;padding-left: 0.2em;position: relative;}#sk-container-id-3 div.sk-item {position: relative;z-index: 1;}#sk-container-id-3 div.sk-parallel {display: flex;align-items: stretch;justify-content: center;background-color: white;position: relative;}#sk-container-id-3 div.sk-item::before, #sk-container-id-3 div.sk-parallel-item::before {content: \"\";position: absolute;border-left: 1px solid gray;box-sizing: border-box;top: 0;bottom: 0;left: 50%;z-index: -1;}#sk-container-id-3 div.sk-parallel-item {display: flex;flex-direction: column;z-index: 1;position: relative;background-color: white;}#sk-container-id-3 div.sk-parallel-item:first-child::after {align-self: flex-end;width: 50%;}#sk-container-id-3 div.sk-parallel-item:last-child::after {align-self: flex-start;width: 50%;}#sk-container-id-3 div.sk-parallel-item:only-child::after {width: 0;}#sk-container-id-3 div.sk-dashed-wrapped {border: 1px dashed gray;margin: 0 0.4em 0.5em 0.4em;box-sizing: border-box;padding-bottom: 0.4em;background-color: white;}#sk-container-id-3 div.sk-label label {font-family: monospace;font-weight: bold;display: inline-block;line-height: 1.2em;}#sk-container-id-3 div.sk-label-container {text-align: center;}#sk-container-id-3 div.sk-container {/* jupyter's `normalize.less` sets `[hidden] { display: none; }` but bootstrap.min.css set `[hidden] { display: none !important; }` so we also need the `!important` here to be able to override the default hidden behavior on the sphinx rendered scikit-learn.org. See: https://github.com/scikit-learn/scikit-learn/issues/21755 */display: inline-block !important;position: relative;}#sk-container-id-3 div.sk-text-repr-fallback {display: none;}</style><div id=\"sk-container-id-3\" class=\"sk-top-container\"><div class=\"sk-text-repr-fallback\"><pre>RandomForestClassifier(n_estimators=44, random_state=0)</pre><b>In a Jupyter environment, please rerun this cell to show the HTML representation or trust the notebook. <br />On GitHub, the HTML representation is unable to render, please try loading this page with nbviewer.org.</b></div><div class=\"sk-container\" hidden><div class=\"sk-item\"><div class=\"sk-estimator sk-toggleable\"><input class=\"sk-toggleable__control sk-hidden--visually\" id=\"sk-estimator-id-5\" type=\"checkbox\" checked><label for=\"sk-estimator-id-5\" class=\"sk-toggleable__label sk-toggleable__label-arrow\">RandomForestClassifier</label><div class=\"sk-toggleable__content\"><pre>RandomForestClassifier(n_estimators=44, random_state=0)</pre></div></div></div></div></div>"
            ]
          },
          "metadata": {},
          "execution_count": 48
        }
      ]
    },
    {
      "cell_type": "markdown",
      "source": [
        "#### Métricas del modelo de Random Forest"
      ],
      "metadata": {
        "id": "3mfAMvHBnP1v"
      }
    },
    {
      "cell_type": "code",
      "source": [
        "# Exactitud con el modelo escogido\n",
        "rf44_train_score = rf44.score(X_train, y_train)\n",
        "rf44_test_score = rf44.score(X_test, y_test)\n",
        "print('Exactitud en el conjunto de entrenamiento: ', rf44_train_score)\n",
        "print('Exactitud en el conjunto de prueba: ', rf44_test_score)"
      ],
      "metadata": {
        "colab": {
          "base_uri": "https://localhost:8080/"
        },
        "id": "RqQBb0elnObO",
        "outputId": "2e5bc1ec-1348-46ac-a8b2-ef61d28eede1"
      },
      "execution_count": 49,
      "outputs": [
        {
          "output_type": "stream",
          "name": "stdout",
          "text": [
            "Exactitud en el conjunto de entrenamiento:  0.9997500312460942\n",
            "Exactitud en el conjunto de prueba:  0.9655876348789735\n"
          ]
        }
      ]
    },
    {
      "cell_type": "markdown",
      "source": [
        "Observamos que en cuanto a exactitud en el modelo de prueba el modelo de Random Forest es ligeramente superior **(96.6%)** al modelo de Regresión Logística en donde se obtuvo **94.2%**"
      ],
      "metadata": {
        "id": "QPs28CeIp4ae"
      }
    },
    {
      "cell_type": "code",
      "source": [
        "# Observamos el tiempo que toma al modelo realizar las predicciones del conjunto de prueba\n",
        "%%time\n",
        "y_pred_rf = rf44.predict(X_test)"
      ],
      "metadata": {
        "colab": {
          "base_uri": "https://localhost:8080/"
        },
        "id": "MnbLsFVundE_",
        "outputId": "1ca66781-4247-4773-c3bd-fb27d6c4f576"
      },
      "execution_count": 50,
      "outputs": [
        {
          "output_type": "stream",
          "name": "stdout",
          "text": [
            "CPU times: user 52.4 ms, sys: 46 µs, total: 52.4 ms\n",
            "Wall time: 53.9 ms\n"
          ]
        }
      ]
    },
    {
      "cell_type": "markdown",
      "source": [
        "Al modelo le toma 296ms, tiempo superior que al modelo de Regresión Logística."
      ],
      "metadata": {
        "id": "6lQOLrLlqZTx"
      }
    },
    {
      "cell_type": "code",
      "source": [
        "## Matriz de confusión para el modelo de Random Forest\n",
        "cm_rf = confusion_matrix(y_test, y_pred_rf, labels=rf44.classes_)\n",
        "cmdisp_rf = ConfusionMatrixDisplay(confusion_matrix=cm_rf, display_labels=rf44.classes_)\n",
        "cmdisp_rf.plot()\n",
        "plt.title('Matriz de confusión Random Forest')\n",
        "plt.show()"
      ],
      "metadata": {
        "colab": {
          "base_uri": "https://localhost:8080/",
          "height": 472
        },
        "id": "2376eMXsqYMu",
        "outputId": "5bc1539a-6683-4097-a838-01a041e767c2"
      },
      "execution_count": 51,
      "outputs": [
        {
          "output_type": "display_data",
          "data": {
            "text/plain": [
              "<Figure size 640x480 with 2 Axes>"
            ],
            "image/png": "[encoded data removed]"
          },
          "metadata": {}
        }
      ]
    },
    {
      "cell_type": "markdown",
      "source": [
        "Observamos que el modelo tiene un buen rendimiento y los Falsos Negativos son menores que los Falsos Positivos. Y supera el modelo de regresión logística en donde los FN eran 90."
      ],
      "metadata": {
        "id": "BM5qd3b9q8zz"
      }
    },
    {
      "cell_type": "code",
      "source": [
        "# Imprimir reporte de clasificación del modelo de random forest\n",
        "print(classification_report(y_test, y_pred_rf))"
      ],
      "metadata": {
        "colab": {
          "base_uri": "https://localhost:8080/"
        },
        "id": "2PrrnDDBq12u",
        "outputId": "81640d47-f3ae-4b65-bf6a-3e84cecfc986"
      },
      "execution_count": 52,
      "outputs": [
        {
          "output_type": "stream",
          "name": "stdout",
          "text": [
            "              precision    recall  f1-score   support\n",
            "\n",
            "           0       0.96      0.97      0.97      1715\n",
            "           1       0.97      0.96      0.97      1714\n",
            "\n",
            "    accuracy                           0.97      3429\n",
            "   macro avg       0.97      0.97      0.97      3429\n",
            "weighted avg       0.97      0.97      0.97      3429\n",
            "\n"
          ]
        }
      ]
    },
    {
      "cell_type": "markdown",
      "source": [
        "En el modelo de Random Forest nuestra sensibilidad es del **96%**"
      ],
      "metadata": {
        "id": "2G6-Jy2hraGb"
      }
    },
    {
      "cell_type": "code",
      "source": [
        "# Obtenemos la importancia de las características en el modelo Random Forest\n",
        "importancia = rf44.feature_importances_\n",
        "\n",
        "# Creamos un DataFrame con la importancia\n",
        "imprf_df = pd.DataFrame({'Caracteristicas': caracteristicas, 'Importancia': importancia})\n",
        "\n",
        "# Ordenamos los valores\n",
        "imprf_df = imprf_df.reindex(imprf_df['Importancia'].abs().sort_values(ascending=False).index)"
      ],
      "metadata": {
        "id": "p87DRTrurSxU"
      },
      "execution_count": 53,
      "outputs": []
    },
    {
      "cell_type": "code",
      "source": [
        "# Observar un gráfico de las 20 características más importantes\n",
        "plt.figure(figsize=(20,8))\n",
        "plt.bar(imprf_df['Caracteristicas'].head(20), imprf_df['Importancia'].head(20))\n",
        "plt.xticks(rotation=90)\n",
        "plt.title('Top 20 características más importantes del modelo de Random Forest', fontsize=20)\n",
        "plt.show()"
      ],
      "metadata": {
        "colab": {
          "base_uri": "https://localhost:8080/",
          "height": 744
        },
        "id": "7n_Q_654rsII",
        "outputId": "61d956e9-6ae7-43e5-ccce-cd4d1b2d74b3"
      },
      "execution_count": 54,
      "outputs": [
        {
          "output_type": "display_data",
          "data": {
            "text/plain": [
              "<Figure size 2000x800 with 1 Axes>"
            ],
            "image/png": "[encoded data removed]"
          },
          "metadata": {}
        }
      ]
    },
    {
      "cell_type": "markdown",
      "source": [
        "Observamos que en el modelo de Random Forest existe una mayor variedad de características consideradas importantes, entre las que destacan: google_index (si la página se encuentra o no en el índice de Google), nb_hyperlinks (número de enlaces), page_rank (el ranking de la página web), web_traffic (el tráfico de la página) y nb_www (número de ocurrencias de la palabra www).\n",
        "\n",
        "Creo que este modelo tiene en cuenta muchas más características de importancia para poder determinar si una página es Phishing."
      ],
      "metadata": {
        "id": "TOElF_cqtwiu"
      }
    },
    {
      "cell_type": "markdown",
      "source": [
        "### Modelo XGBoost"
      ],
      "metadata": {
        "id": "kJqlsHHEueVO"
      }
    },
    {
      "cell_type": "code",
      "source": [
        "# El modelo XGBoost necesita que los tipos de datos sean enteros y booleanos, en vista de que todas las características\n",
        "X_train_xgb = X_train\n",
        "X_test_xgb = X_test\n",
        "X_train_xgb[['ip', 'https_token', 'punycode', 'port', 'tld_in_path', 'tld_in_subdomain', 'abnormal_subdomain', 'prefix_suffix', 'random_domain', 'shortening_service', 'path_extension', 'domain_in_brand', 'brand_in_subdomain', 'brand_in_path', 'suspecious_tld', 'statistical_report', 'login_form', 'external_favicon', 'submit_email', 'sfh', 'iframe', 'popup_window', 'onmouseover', 'right_clic', 'empty_title', 'domain_in_title', 'domain_with_copyright', 'whois_registered_domain', 'dns_record', 'google_index']] = X_train_xgb[['ip', 'https_token', 'punycode', 'port', 'tld_in_path', 'tld_in_subdomain', 'abnormal_subdomain', 'prefix_suffix', 'random_domain', 'shortening_service', 'path_extension', 'domain_in_brand', 'brand_in_subdomain', 'brand_in_path', 'suspecious_tld', 'statistical_report', 'login_form', 'external_favicon', 'submit_email', 'sfh', 'iframe', 'popup_window', 'onmouseover', 'right_clic', 'empty_title', 'domain_in_title', 'domain_with_copyright', 'whois_registered_domain', 'dns_record', 'google_index']].astype(bool)\n",
        "X_test_xgb[['ip', 'https_token', 'punycode', 'port', 'tld_in_path', 'tld_in_subdomain', 'abnormal_subdomain', 'prefix_suffix', 'random_domain', 'shortening_service', 'path_extension', 'domain_in_brand', 'brand_in_subdomain', 'brand_in_path', 'suspecious_tld', 'statistical_report', 'login_form', 'external_favicon', 'submit_email', 'sfh', 'iframe', 'popup_window', 'onmouseover', 'right_clic', 'empty_title', 'domain_in_title', 'domain_with_copyright', 'whois_registered_domain', 'dns_record', 'google_index']] = X_test_xgb[['ip', 'https_token', 'punycode', 'port', 'tld_in_path', 'tld_in_subdomain', 'abnormal_subdomain', 'prefix_suffix', 'random_domain', 'shortening_service', 'path_extension', 'domain_in_brand', 'brand_in_subdomain', 'brand_in_path', 'suspecious_tld', 'statistical_report', 'login_form', 'external_favicon', 'submit_email', 'sfh', 'iframe', 'popup_window', 'onmouseover', 'right_clic', 'empty_title', 'domain_in_title', 'domain_with_copyright', 'whois_registered_domain', 'dns_record', 'google_index']].astype(bool)"
      ],
      "metadata": {
        "id": "6JC9UWoVyU9e"
      },
      "execution_count": 55,
      "outputs": []
    },
    {
      "cell_type": "code",
      "source": [
        "# Instanciamos el modelo\n",
        "xgb = XGBClassifier(random_state=0)"
      ],
      "metadata": {
        "id": "9w1eqjhYzE5J"
      },
      "execution_count": 56,
      "outputs": []
    },
    {
      "cell_type": "code",
      "source": [
        "# Ajustamos el modelo a los datos de entrenamiento\n",
        "xgb.fit(X_train_xgb, y_train)"
      ],
      "metadata": {
        "colab": {
          "base_uri": "https://localhost:8080/",
          "height": 248
        },
        "id": "X3wljfP83fdi",
        "outputId": "38d457e7-b7bc-4949-bf3a-f1e80657d931"
      },
      "execution_count": 57,
      "outputs": [
        {
          "output_type": "execute_result",
          "data": {
            "text/plain": [
              "XGBClassifier(base_score=None, booster=None, callbacks=None,\n",
              "              colsample_bylevel=None, colsample_bynode=None,\n",
              "              colsample_bytree=None, early_stopping_rounds=None,\n",
              "              enable_categorical=False, eval_metric=None, feature_types=None,\n",
              "              gamma=None, gpu_id=None, grow_policy=None, importance_type=None,\n",
              "              interaction_constraints=None, learning_rate=None, max_bin=None,\n",
              "              max_cat_threshold=None, max_cat_to_onehot=None,\n",
              "              max_delta_step=None, max_depth=None, max_leaves=None,\n",
              "              min_child_weight=None, missing=nan, monotone_constraints=None,\n",
              "              n_estimators=100, n_jobs=None, num_parallel_tree=None,\n",
              "              predictor=None, random_state=0, ...)"
            ],
            "text/html": [
              "<style>#sk-container-id-4 {color: black;background-color: white;}#sk-container-id-4 pre{padding: 0;}#sk-container-id-4 div.sk-toggleable {background-color: white;}#sk-container-id-4 label.sk-toggleable__label {cursor: pointer;display: block;width: 100%;margin-bottom: 0;padding: 0.3em;box-sizing: border-box;text-align: center;}#sk-container-id-4 label.sk-toggleable__label-arrow:before {content: \"▸\";float: left;margin-right: 0.25em;color: #696969;}#sk-container-id-4 label.sk-toggleable__label-arrow:hover:before {color: black;}#sk-container-id-4 div.sk-estimator:hover label.sk-toggleable__label-arrow:before {color: black;}#sk-container-id-4 div.sk-toggleable__content {max-height: 0;max-width: 0;overflow: hidden;text-align: left;background-color: #f0f8ff;}#sk-container-id-4 div.sk-toggleable__content pre {margin: 0.2em;color: black;border-radius: 0.25em;background-color: #f0f8ff;}#sk-container-id-4 input.sk-toggleable__control:checked~div.sk-toggleable__content {max-height: 200px;max-width: 100%;overflow: auto;}#sk-container-id-4 input.sk-toggleable__control:checked~label.sk-toggleable__label-arrow:before {content: \"▾\";}#sk-container-id-4 div.sk-estimator input.sk-toggleable__control:checked~label.sk-toggleable__label {background-color: #d4ebff;}#sk-container-id-4 div.sk-label input.sk-toggleable__control:checked~label.sk-toggleable__label {background-color: #d4ebff;}#sk-container-id-4 input.sk-hidden--visually {border: 0;clip: rect(1px 1px 1px 1px);clip: rect(1px, 1px, 1px, 1px);height: 1px;margin: -1px;overflow: hidden;padding: 0;position: absolute;width: 1px;}#sk-container-id-4 div.sk-estimator {font-family: monospace;background-color: #f0f8ff;border: 1px dotted black;border-radius: 0.25em;box-sizing: border-box;margin-bottom: 0.5em;}#sk-container-id-4 div.sk-estimator:hover {background-color: #d4ebff;}#sk-container-id-4 div.sk-parallel-item::after {content: \"\";width: 100%;border-bottom: 1px solid gray;flex-grow: 1;}#sk-container-id-4 div.sk-label:hover label.sk-toggleable__label {background-color: #d4ebff;}#sk-container-id-4 div.sk-serial::before {content: \"\";position: absolute;border-left: 1px solid gray;box-sizing: border-box;top: 0;bottom: 0;left: 50%;z-index: 0;}#sk-container-id-4 div.sk-serial {display: flex;flex-direction: column;align-items: center;background-color: white;padding-right: 0.2em;padding-left: 0.2em;position: relative;}#sk-container-id-4 div.sk-item {position: relative;z-index: 1;}#sk-container-id-4 div.sk-parallel {display: flex;align-items: stretch;justify-content: center;background-color: white;position: relative;}#sk-container-id-4 div.sk-item::before, #sk-container-id-4 div.sk-parallel-item::before {content: \"\";position: absolute;border-left: 1px solid gray;box-sizing: border-box;top: 0;bottom: 0;left: 50%;z-index: -1;}#sk-container-id-4 div.sk-parallel-item {display: flex;flex-direction: column;z-index: 1;position: relative;background-color: white;}#sk-container-id-4 div.sk-parallel-item:first-child::after {align-self: flex-end;width: 50%;}#sk-container-id-4 div.sk-parallel-item:last-child::after {align-self: flex-start;width: 50%;}#sk-container-id-4 div.sk-parallel-item:only-child::after {width: 0;}#sk-container-id-4 div.sk-dashed-wrapped {border: 1px dashed gray;margin: 0 0.4em 0.5em 0.4em;box-sizing: border-box;padding-bottom: 0.4em;background-color: white;}#sk-container-id-4 div.sk-label label {font-family: monospace;font-weight: bold;display: inline-block;line-height: 1.2em;}#sk-container-id-4 div.sk-label-container {text-align: center;}#sk-container-id-4 div.sk-container {/* jupyter's `normalize.less` sets `[hidden] { display: none; }` but bootstrap.min.css set `[hidden] { display: none !important; }` so we also need the `!important` here to be able to override the default hidden behavior on the sphinx rendered scikit-learn.org. See: https://github.com/scikit-learn/scikit-learn/issues/21755 */display: inline-block !important;position: relative;}#sk-container-id-4 div.sk-text-repr-fallback {display: none;}</style><div id=\"sk-container-id-4\" class=\"sk-top-container\"><div class=\"sk-text-repr-fallback\"><pre>XGBClassifier(base_score=None, booster=None, callbacks=None,\n",
              "              colsample_bylevel=None, colsample_bynode=None,\n",
              "              colsample_bytree=None, early_stopping_rounds=None,\n",
              "              enable_categorical=False, eval_metric=None, feature_types=None,\n",
              "              gamma=None, gpu_id=None, grow_policy=None, importance_type=None,\n",
              "              interaction_constraints=None, learning_rate=None, max_bin=None,\n",
              "              max_cat_threshold=None, max_cat_to_onehot=None,\n",
              "              max_delta_step=None, max_depth=None, max_leaves=None,\n",
              "              min_child_weight=None, missing=nan, monotone_constraints=None,\n",
              "              n_estimators=100, n_jobs=None, num_parallel_tree=None,\n",
              "              predictor=None, random_state=0, ...)</pre><b>In a Jupyter environment, please rerun this cell to show the HTML representation or trust the notebook. <br />On GitHub, the HTML representation is unable to render, please try loading this page with nbviewer.org.</b></div><div class=\"sk-container\" hidden><div class=\"sk-item\"><div class=\"sk-estimator sk-toggleable\"><input class=\"sk-toggleable__control sk-hidden--visually\" id=\"sk-estimator-id-6\" type=\"checkbox\" checked><label for=\"sk-estimator-id-6\" class=\"sk-toggleable__label sk-toggleable__label-arrow\">XGBClassifier</label><div class=\"sk-toggleable__content\"><pre>XGBClassifier(base_score=None, booster=None, callbacks=None,\n",
              "              colsample_bylevel=None, colsample_bynode=None,\n",
              "              colsample_bytree=None, early_stopping_rounds=None,\n",
              "              enable_categorical=False, eval_metric=None, feature_types=None,\n",
              "              gamma=None, gpu_id=None, grow_policy=None, importance_type=None,\n",
              "              interaction_constraints=None, learning_rate=None, max_bin=None,\n",
              "              max_cat_threshold=None, max_cat_to_onehot=None,\n",
              "              max_delta_step=None, max_depth=None, max_leaves=None,\n",
              "              min_child_weight=None, missing=nan, monotone_constraints=None,\n",
              "              n_estimators=100, n_jobs=None, num_parallel_tree=None,\n",
              "              predictor=None, random_state=0, ...)</pre></div></div></div></div></div>"
            ]
          },
          "metadata": {},
          "execution_count": 57
        }
      ]
    },
    {
      "cell_type": "code",
      "source": [
        "# Evaluar la exactitud del modelo\n",
        "print('Exactitud en el conjunto de entrenamiento: ', xgb.score(X_train_xgb, y_train))\n",
        "print('Exactitud en el conjunto de prueba: ', xgb.score(X_test_xgb, y_test))"
      ],
      "metadata": {
        "colab": {
          "base_uri": "https://localhost:8080/"
        },
        "id": "TR57njIm3jjL",
        "outputId": "202932a4-13ae-4823-845c-42c0289fd175"
      },
      "execution_count": 58,
      "outputs": [
        {
          "output_type": "stream",
          "name": "stdout",
          "text": [
            "Exactitud en el conjunto de entrenamiento:  1.0\n",
            "Exactitud en el conjunto de prueba:  0.9650043744531933\n"
          ]
        }
      ]
    },
    {
      "cell_type": "code",
      "source": [
        "# Probaremos varios valores de n_estimators\n",
        "# Lista de valores a probar n_estimators:\n",
        "max_estimators_xgb = list(range(1, 100))\n",
        "\n",
        "# Lista para almacenar la puntuación para cada valor de n_estimators:\n",
        "xgb_score = []\n",
        "for estimator in max_estimators_xgb:\n",
        "    xgb2 = XGBClassifier(n_estimators = estimator, random_state=0)\n",
        "    xgb2.fit(X_train_xgb, y_train)\n",
        "    score = xgb2.score(X_test_xgb, y_test)\n",
        "    xgb_score.append(score)"
      ],
      "metadata": {
        "id": "q2B9Xy7D3tna"
      },
      "execution_count": 59,
      "outputs": []
    },
    {
      "cell_type": "code",
      "source": [
        "# Observamos la exactitud del modelo para distintos valores de n_estimators\n",
        "plt.plot(max_estimators_xgb, xgb_score)\n",
        "plt.title('Exactitud de modelo de bosque aleatorio con distinto número de estimadores')\n",
        "plt.xlabel('n_estimators')\n",
        "plt.ylabel('Exactitud')\n",
        "plt.grid()\n",
        "plt.show()"
      ],
      "metadata": {
        "colab": {
          "base_uri": "https://localhost:8080/",
          "height": 472
        },
        "id": "sFGgvzaO4n7I",
        "outputId": "4762e75a-a873-415b-9c77-e8a2492edba2"
      },
      "execution_count": 60,
      "outputs": [
        {
          "output_type": "display_data",
          "data": {
            "text/plain": [
              "<Figure size 640x480 with 1 Axes>"
            ],
            "image/png": "[encoded data removed]"
          },
          "metadata": {}
        }
      ]
    },
    {
      "cell_type": "code",
      "source": [
        "# Mostrar los valores sólo entre los n_estimators 70 y 80\n",
        "plt.plot(list(range(70,81)), xgb_score[70:81])\n",
        "plt.title('Exactitud de modelo de bosque aleatorio con distinto número de estimadores')\n",
        "plt.xlabel('n_estimators')\n",
        "plt.ylabel('Exactitud')\n",
        "plt.grid()\n",
        "plt.show()"
      ],
      "metadata": {
        "colab": {
          "base_uri": "https://localhost:8080/",
          "height": 472
        },
        "id": "5upC2hAk5y_n",
        "outputId": "aa2e83e9-68bd-4b8e-e98a-9eb4b1b3cbc8"
      },
      "execution_count": 61,
      "outputs": [
        {
          "output_type": "display_data",
          "data": {
            "text/plain": [
              "<Figure size 640x480 with 1 Axes>"
            ],
            "image/png": "[encoded data removed]"
          },
          "metadata": {}
        }
      ]
    },
    {
      "cell_type": "markdown",
      "source": [
        "Observamos que el valor máximo de score se encuentra en la posición 74, teniendo en cuenta que el índice de la lista xgb_score comienza en 0, eso nos da un valor de 75 n_estimators"
      ],
      "metadata": {
        "id": "m5-TorXL6WRQ"
      }
    },
    {
      "cell_type": "code",
      "source": [
        "# Instanciamos el modelo con 75 n_estimators\n",
        "xgb75 = XGBClassifier(n_estimators=75, random_state=0)"
      ],
      "metadata": {
        "id": "sYW-P1XI6RXC"
      },
      "execution_count": 62,
      "outputs": []
    },
    {
      "cell_type": "code",
      "source": [
        "# Ajustamos el modelo a los datos de entrenamiento\n",
        "xgb75.fit(X_train_xgb, y_train)"
      ],
      "metadata": {
        "colab": {
          "base_uri": "https://localhost:8080/",
          "height": 248
        },
        "id": "DmkUbbHB6q9k",
        "outputId": "2f6f4a3c-2150-477a-bd65-632fa244da5a"
      },
      "execution_count": 63,
      "outputs": [
        {
          "output_type": "execute_result",
          "data": {
            "text/plain": [
              "XGBClassifier(base_score=None, booster=None, callbacks=None,\n",
              "              colsample_bylevel=None, colsample_bynode=None,\n",
              "              colsample_bytree=None, early_stopping_rounds=None,\n",
              "              enable_categorical=False, eval_metric=None, feature_types=None,\n",
              "              gamma=None, gpu_id=None, grow_policy=None, importance_type=None,\n",
              "              interaction_constraints=None, learning_rate=None, max_bin=None,\n",
              "              max_cat_threshold=None, max_cat_to_onehot=None,\n",
              "              max_delta_step=None, max_depth=None, max_leaves=None,\n",
              "              min_child_weight=None, missing=nan, monotone_constraints=None,\n",
              "              n_estimators=75, n_jobs=None, num_parallel_tree=None,\n",
              "              predictor=None, random_state=0, ...)"
            ],
            "text/html": [
              "<style>#sk-container-id-5 {color: black;background-color: white;}#sk-container-id-5 pre{padding: 0;}#sk-container-id-5 div.sk-toggleable {background-color: white;}#sk-container-id-5 label.sk-toggleable__label {cursor: pointer;display: block;width: 100%;margin-bottom: 0;padding: 0.3em;box-sizing: border-box;text-align: center;}#sk-container-id-5 label.sk-toggleable__label-arrow:before {content: \"▸\";float: left;margin-right: 0.25em;color: #696969;}#sk-container-id-5 label.sk-toggleable__label-arrow:hover:before {color: black;}#sk-container-id-5 div.sk-estimator:hover label.sk-toggleable__label-arrow:before {color: black;}#sk-container-id-5 div.sk-toggleable__content {max-height: 0;max-width: 0;overflow: hidden;text-align: left;background-color: #f0f8ff;}#sk-container-id-5 div.sk-toggleable__content pre {margin: 0.2em;color: black;border-radius: 0.25em;background-color: #f0f8ff;}#sk-container-id-5 input.sk-toggleable__control:checked~div.sk-toggleable__content {max-height: 200px;max-width: 100%;overflow: auto;}#sk-container-id-5 input.sk-toggleable__control:checked~label.sk-toggleable__label-arrow:before {content: \"▾\";}#sk-container-id-5 div.sk-estimator input.sk-toggleable__control:checked~label.sk-toggleable__label {background-color: #d4ebff;}#sk-container-id-5 div.sk-label input.sk-toggleable__control:checked~label.sk-toggleable__label {background-color: #d4ebff;}#sk-container-id-5 input.sk-hidden--visually {border: 0;clip: rect(1px 1px 1px 1px);clip: rect(1px, 1px, 1px, 1px);height: 1px;margin: -1px;overflow: hidden;padding: 0;position: absolute;width: 1px;}#sk-container-id-5 div.sk-estimator {font-family: monospace;background-color: #f0f8ff;border: 1px dotted black;border-radius: 0.25em;box-sizing: border-box;margin-bottom: 0.5em;}#sk-container-id-5 div.sk-estimator:hover {background-color: #d4ebff;}#sk-container-id-5 div.sk-parallel-item::after {content: \"\";width: 100%;border-bottom: 1px solid gray;flex-grow: 1;}#sk-container-id-5 div.sk-label:hover label.sk-toggleable__label {background-color: #d4ebff;}#sk-container-id-5 div.sk-serial::before {content: \"\";position: absolute;border-left: 1px solid gray;box-sizing: border-box;top: 0;bottom: 0;left: 50%;z-index: 0;}#sk-container-id-5 div.sk-serial {display: flex;flex-direction: column;align-items: center;background-color: white;padding-right: 0.2em;padding-left: 0.2em;position: relative;}#sk-container-id-5 div.sk-item {position: relative;z-index: 1;}#sk-container-id-5 div.sk-parallel {display: flex;align-items: stretch;justify-content: center;background-color: white;position: relative;}#sk-container-id-5 div.sk-item::before, #sk-container-id-5 div.sk-parallel-item::before {content: \"\";position: absolute;border-left: 1px solid gray;box-sizing: border-box;top: 0;bottom: 0;left: 50%;z-index: -1;}#sk-container-id-5 div.sk-parallel-item {display: flex;flex-direction: column;z-index: 1;position: relative;background-color: white;}#sk-container-id-5 div.sk-parallel-item:first-child::after {align-self: flex-end;width: 50%;}#sk-container-id-5 div.sk-parallel-item:last-child::after {align-self: flex-start;width: 50%;}#sk-container-id-5 div.sk-parallel-item:only-child::after {width: 0;}#sk-container-id-5 div.sk-dashed-wrapped {border: 1px dashed gray;margin: 0 0.4em 0.5em 0.4em;box-sizing: border-box;padding-bottom: 0.4em;background-color: white;}#sk-container-id-5 div.sk-label label {font-family: monospace;font-weight: bold;display: inline-block;line-height: 1.2em;}#sk-container-id-5 div.sk-label-container {text-align: center;}#sk-container-id-5 div.sk-container {/* jupyter's `normalize.less` sets `[hidden] { display: none; }` but bootstrap.min.css set `[hidden] { display: none !important; }` so we also need the `!important` here to be able to override the default hidden behavior on the sphinx rendered scikit-learn.org. See: https://github.com/scikit-learn/scikit-learn/issues/21755 */display: inline-block !important;position: relative;}#sk-container-id-5 div.sk-text-repr-fallback {display: none;}</style><div id=\"sk-container-id-5\" class=\"sk-top-container\"><div class=\"sk-text-repr-fallback\"><pre>XGBClassifier(base_score=None, booster=None, callbacks=None,\n",
              "              colsample_bylevel=None, colsample_bynode=None,\n",
              "              colsample_bytree=None, early_stopping_rounds=None,\n",
              "              enable_categorical=False, eval_metric=None, feature_types=None,\n",
              "              gamma=None, gpu_id=None, grow_policy=None, importance_type=None,\n",
              "              interaction_constraints=None, learning_rate=None, max_bin=None,\n",
              "              max_cat_threshold=None, max_cat_to_onehot=None,\n",
              "              max_delta_step=None, max_depth=None, max_leaves=None,\n",
              "              min_child_weight=None, missing=nan, monotone_constraints=None,\n",
              "              n_estimators=75, n_jobs=None, num_parallel_tree=None,\n",
              "              predictor=None, random_state=0, ...)</pre><b>In a Jupyter environment, please rerun this cell to show the HTML representation or trust the notebook. <br />On GitHub, the HTML representation is unable to render, please try loading this page with nbviewer.org.</b></div><div class=\"sk-container\" hidden><div class=\"sk-item\"><div class=\"sk-estimator sk-toggleable\"><input class=\"sk-toggleable__control sk-hidden--visually\" id=\"sk-estimator-id-7\" type=\"checkbox\" checked><label for=\"sk-estimator-id-7\" class=\"sk-toggleable__label sk-toggleable__label-arrow\">XGBClassifier</label><div class=\"sk-toggleable__content\"><pre>XGBClassifier(base_score=None, booster=None, callbacks=None,\n",
              "              colsample_bylevel=None, colsample_bynode=None,\n",
              "              colsample_bytree=None, early_stopping_rounds=None,\n",
              "              enable_categorical=False, eval_metric=None, feature_types=None,\n",
              "              gamma=None, gpu_id=None, grow_policy=None, importance_type=None,\n",
              "              interaction_constraints=None, learning_rate=None, max_bin=None,\n",
              "              max_cat_threshold=None, max_cat_to_onehot=None,\n",
              "              max_delta_step=None, max_depth=None, max_leaves=None,\n",
              "              min_child_weight=None, missing=nan, monotone_constraints=None,\n",
              "              n_estimators=75, n_jobs=None, num_parallel_tree=None,\n",
              "              predictor=None, random_state=0, ...)</pre></div></div></div></div></div>"
            ]
          },
          "metadata": {},
          "execution_count": 63
        }
      ]
    },
    {
      "cell_type": "markdown",
      "source": [
        "#### Métricas del modelo XGBoost"
      ],
      "metadata": {
        "id": "VofYj6fQ6zkR"
      }
    },
    {
      "cell_type": "code",
      "source": [
        "# Exactitud con el modelo escogido\n",
        "xgb75_train_score = xgb75.score(X_train_xgb, y_train)\n",
        "xgb75_test_score = xgb75.score(X_test_xgb, y_test)\n",
        "print('Exactitud en el conjunto de entrenamiento: ', xgb75_train_score)\n",
        "print('Exactitud en el conjunto de prueba: ', xgb75_test_score)"
      ],
      "metadata": {
        "colab": {
          "base_uri": "https://localhost:8080/"
        },
        "id": "idNc8kYJ6xDe",
        "outputId": "dead0766-44d3-4674-d232-8cdb1ba4e8b6"
      },
      "execution_count": 64,
      "outputs": [
        {
          "output_type": "stream",
          "name": "stdout",
          "text": [
            "Exactitud en el conjunto de entrenamiento:  1.0\n",
            "Exactitud en el conjunto de prueba:  0.9670457859434237\n"
          ]
        }
      ]
    },
    {
      "cell_type": "markdown",
      "source": [
        "Observamos que la exactitud del modelo es del **96.7%**, superior a los dos modelos anteriores."
      ],
      "metadata": {
        "id": "uS8ck1bP7ShJ"
      }
    },
    {
      "cell_type": "code",
      "source": [
        "# Observamos el tiempo que toma al modelo realizar las predicciones del conjunto de prueba\n",
        "%%time\n",
        "y_pred_xgb = xgb75.predict(X_test)"
      ],
      "metadata": {
        "colab": {
          "base_uri": "https://localhost:8080/"
        },
        "id": "sL9v3SUe7K4x",
        "outputId": "e0011b6d-27d6-48e4-968e-bd1cc8b814a6"
      },
      "execution_count": 65,
      "outputs": [
        {
          "output_type": "stream",
          "name": "stdout",
          "text": [
            "CPU times: user 50.4 ms, sys: 978 µs, total: 51.4 ms\n",
            "Wall time: 34.2 ms\n"
          ]
        }
      ]
    },
    {
      "cell_type": "markdown",
      "source": [
        "Al modelo le toma 66.5 ms realizar las predicciones, más rápido que Random Forest y un poco más lento que la regresión logística."
      ],
      "metadata": {
        "id": "pXCyDVwt7hEV"
      }
    },
    {
      "cell_type": "code",
      "source": [
        "## Matriz de confusión para el modelo XGBoost\n",
        "cm_xgb = confusion_matrix(y_test, y_pred_xgb, labels=xgb75.classes_)\n",
        "cmdisp_xgb = ConfusionMatrixDisplay(confusion_matrix=cm_xgb, display_labels=xgb75.classes_)\n",
        "cmdisp_xgb.plot()\n",
        "plt.title('Matriz de confusión XGBoost')\n",
        "plt.show()"
      ],
      "metadata": {
        "colab": {
          "base_uri": "https://localhost:8080/",
          "height": 472
        },
        "id": "cmIfO1ii7fPA",
        "outputId": "cd625324-78d4-4ebb-8a8d-6dfb54f76e22"
      },
      "execution_count": 66,
      "outputs": [
        {
          "output_type": "display_data",
          "data": {
            "text/plain": [
              "<Figure size 640x480 with 2 Axes>"
            ],
            "image/png": "[encoded data removed]"
          },
          "metadata": {}
        }
      ]
    },
    {
      "cell_type": "markdown",
      "source": [
        "Observamos que la predicción de Falsos Negativos es un poco inferior al modelo de Random Forest, es decir se están prediciendo más Falsos Negativos."
      ],
      "metadata": {
        "id": "toUnlV-w8Ixk"
      }
    },
    {
      "cell_type": "code",
      "source": [
        "# Imprimir reporte de clasificación del modelo de XGBoost\n",
        "print(classification_report(y_test, y_pred_xgb))"
      ],
      "metadata": {
        "colab": {
          "base_uri": "https://localhost:8080/"
        },
        "id": "dDuDYKxN76UE",
        "outputId": "0c7e397e-d872-4bbe-d7c2-79283542037b"
      },
      "execution_count": 67,
      "outputs": [
        {
          "output_type": "stream",
          "name": "stdout",
          "text": [
            "              precision    recall  f1-score   support\n",
            "\n",
            "           0       0.97      0.97      0.97      1715\n",
            "           1       0.97      0.96      0.97      1714\n",
            "\n",
            "    accuracy                           0.97      3429\n",
            "   macro avg       0.97      0.97      0.97      3429\n",
            "weighted avg       0.97      0.97      0.97      3429\n",
            "\n"
          ]
        }
      ]
    },
    {
      "cell_type": "markdown",
      "source": [
        "En el modelo de XGBoost nuestra sensibilidad es del **96%**, similar a Random Forest y superior a Regresión Logística"
      ],
      "metadata": {
        "id": "p5aRK_nz8kT_"
      }
    },
    {
      "cell_type": "code",
      "source": [
        "# Obtenemos la importancia de las características en el modelo Random Forest\n",
        "importancia_xgb = xgb75.feature_importances_\n",
        "\n",
        "# Creamos un DataFrame con la importancia\n",
        "impxgb_df = pd.DataFrame({'Caracteristicas': caracteristicas, 'Importancia': importancia_xgb})\n",
        "\n",
        "# Ordenamos los valores\n",
        "impxgb_df = impxgb_df.reindex(impxgb_df['Importancia'].abs().sort_values(ascending=False).index)"
      ],
      "metadata": {
        "id": "wPYZgCaK8ea8"
      },
      "execution_count": 68,
      "outputs": []
    },
    {
      "cell_type": "code",
      "source": [
        "# Observar un gráfico de las 20 características más importantes\n",
        "plt.figure(figsize=(20,8))\n",
        "plt.bar(impxgb_df['Caracteristicas'].head(20), impxgb_df['Importancia'].head(20))\n",
        "plt.xticks(rotation=90)\n",
        "plt.title('Top 20 características más importantes del modelo de XGBoost', fontsize=20)\n",
        "plt.show()"
      ],
      "metadata": {
        "colab": {
          "base_uri": "https://localhost:8080/",
          "height": 744
        },
        "id": "-M3ABGyA9dqr",
        "outputId": "48f8a5d0-d314-47fc-8864-cf666f5a3230"
      },
      "execution_count": 69,
      "outputs": [
        {
          "output_type": "display_data",
          "data": {
            "text/plain": [
              "<Figure size 2000x800 with 1 Axes>"
            ],
            "image/png": "[encoded data removed]"
          },
          "metadata": {}
        }
      ]
    },
    {
      "cell_type": "markdown",
      "source": [
        "Observamos que en el modelo con XGBoost la característica google_index contribuye el 50% en la explicación del vector objetivo, es decir, en predecir si una página web es Phishing, y el resto de características tienen una contribución de menos del 10% cada una."
      ],
      "metadata": {
        "id": "rJDQGr5C9wxT"
      }
    },
    {
      "cell_type": "markdown",
      "source": [
        "## Modelo escogido"
      ],
      "metadata": {
        "id": "6UwnNKtkl6VJ"
      }
    },
    {
      "cell_type": "markdown",
      "source": [
        "El modelo escogido es **Random Forest**, si bien es cierto el modelo de XGBoost tienen una métrica de exactitud ligeramente mayor (96.7% vs 96.6%), la métrica de sensibilidad, que es la que más nos interesa para este modelo es igual en los dos modelos (96%) y en el modelo de Random Forest la predicción de los falsos negativos es mejor (menos FN que XGBoost).  \n",
        "\n",
        "Además, en el modelo de Random Forest la importancia de las características para predecir el objetivo es mucho más real, la más importante aporta un 18% en la predicción, lo que nos permite eligir varias características para nuestro análisis y recomendación a áreas de Seguridad Lógica para la detección eficiente de páginas Phishing.\n",
        "\n",
        "En el modelo XGBoost una sola variable aporta el 50% de la predicción lo que en la práctica afectaría una detección eficiente."
      ],
      "metadata": {
        "id": "kYRlPVgil-f4"
      }
    }
  ]
}